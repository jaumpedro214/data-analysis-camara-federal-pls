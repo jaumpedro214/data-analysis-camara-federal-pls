{
 "cells": [
  {
   "attachments": {},
   "cell_type": "markdown",
   "metadata": {},
   "source": [
    "## "
   ]
  },
  {
   "attachments": {},
   "cell_type": "markdown",
   "metadata": {},
   "source": [
    "## Import libraries"
   ]
  },
  {
   "cell_type": "code",
   "execution_count": 14,
   "metadata": {},
   "outputs": [],
   "source": [
    "import pandas as pd"
   ]
  },
  {
   "attachments": {},
   "cell_type": "markdown",
   "metadata": {},
   "source": [
    "## Import data"
   ]
  },
  {
   "cell_type": "code",
   "execution_count": 15,
   "metadata": {},
   "outputs": [
    {
     "data": {
      "text/html": [
       "<div>\n",
       "<style scoped>\n",
       "    .dataframe tbody tr th:only-of-type {\n",
       "        vertical-align: middle;\n",
       "    }\n",
       "\n",
       "    .dataframe tbody tr th {\n",
       "        vertical-align: top;\n",
       "    }\n",
       "\n",
       "    .dataframe thead th {\n",
       "        text-align: right;\n",
       "    }\n",
       "</style>\n",
       "<table border=\"1\" class=\"dataframe\">\n",
       "  <thead>\n",
       "    <tr style=\"text-align: right;\">\n",
       "      <th></th>\n",
       "      <th>id</th>\n",
       "      <th>uri</th>\n",
       "      <th>siglaTipo</th>\n",
       "      <th>codTipo</th>\n",
       "      <th>numero</th>\n",
       "      <th>ano</th>\n",
       "      <th>ementa</th>\n",
       "      <th>tema</th>\n",
       "    </tr>\n",
       "  </thead>\n",
       "  <tbody>\n",
       "    <tr>\n",
       "      <th>0</th>\n",
       "      <td>1198010</td>\n",
       "      <td>https://dadosabertos.camara.leg.br/api/v2/prop...</td>\n",
       "      <td>PL</td>\n",
       "      <td>139</td>\n",
       "      <td>2234</td>\n",
       "      <td>2023</td>\n",
       "      <td>Altera redação de dispositivos do artigo 4° da...</td>\n",
       "      <td>Defesa e Segurança</td>\n",
       "    </tr>\n",
       "    <tr>\n",
       "      <th>1</th>\n",
       "      <td>2345485</td>\n",
       "      <td>https://dadosabertos.camara.leg.br/api/v2/prop...</td>\n",
       "      <td>PL</td>\n",
       "      <td>139</td>\n",
       "      <td>1</td>\n",
       "      <td>2023</td>\n",
       "      <td>Institui a Política Nacional de Longo Prazo.</td>\n",
       "      <td>Administração Pública</td>\n",
       "    </tr>\n",
       "    <tr>\n",
       "      <th>2</th>\n",
       "      <td>2345498</td>\n",
       "      <td>https://dadosabertos.camara.leg.br/api/v2/prop...</td>\n",
       "      <td>PL</td>\n",
       "      <td>139</td>\n",
       "      <td>2</td>\n",
       "      <td>2023</td>\n",
       "      <td>Altera a Lei nº 12.529, de 30 de novembro de 2...</td>\n",
       "      <td>Economia</td>\n",
       "    </tr>\n",
       "    <tr>\n",
       "      <th>3</th>\n",
       "      <td>2345498</td>\n",
       "      <td>https://dadosabertos.camara.leg.br/api/v2/prop...</td>\n",
       "      <td>PL</td>\n",
       "      <td>139</td>\n",
       "      <td>2</td>\n",
       "      <td>2023</td>\n",
       "      <td>Altera a Lei nº 12.529, de 30 de novembro de 2...</td>\n",
       "      <td>Finanças Públicas e Orçamento</td>\n",
       "    </tr>\n",
       "    <tr>\n",
       "      <th>4</th>\n",
       "      <td>2345625</td>\n",
       "      <td>https://dadosabertos.camara.leg.br/api/v2/prop...</td>\n",
       "      <td>PL</td>\n",
       "      <td>139</td>\n",
       "      <td>3</td>\n",
       "      <td>2023</td>\n",
       "      <td>Cria o Protocolo Não é Não de atendimento à mu...</td>\n",
       "      <td>Direito Penal e Processual Penal</td>\n",
       "    </tr>\n",
       "  </tbody>\n",
       "</table>\n",
       "</div>"
      ],
      "text/plain": [
       "        id                                                uri siglaTipo   \n",
       "0  1198010  https://dadosabertos.camara.leg.br/api/v2/prop...        PL  \\\n",
       "1  2345485  https://dadosabertos.camara.leg.br/api/v2/prop...        PL   \n",
       "2  2345498  https://dadosabertos.camara.leg.br/api/v2/prop...        PL   \n",
       "3  2345498  https://dadosabertos.camara.leg.br/api/v2/prop...        PL   \n",
       "4  2345625  https://dadosabertos.camara.leg.br/api/v2/prop...        PL   \n",
       "\n",
       "   codTipo  numero   ano                                             ementa   \n",
       "0      139    2234  2023  Altera redação de dispositivos do artigo 4° da...  \\\n",
       "1      139       1  2023       Institui a Política Nacional de Longo Prazo.   \n",
       "2      139       2  2023  Altera a Lei nº 12.529, de 30 de novembro de 2...   \n",
       "3      139       2  2023  Altera a Lei nº 12.529, de 30 de novembro de 2...   \n",
       "4      139       3  2023  Cria o Protocolo Não é Não de atendimento à mu...   \n",
       "\n",
       "                               tema  \n",
       "0                Defesa e Segurança  \n",
       "1             Administração Pública  \n",
       "2                          Economia  \n",
       "3     Finanças Públicas e Orçamento  \n",
       "4  Direito Penal e Processual Penal  "
      ]
     },
     "execution_count": 15,
     "metadata": {},
     "output_type": "execute_result"
    }
   ],
   "source": [
    "data = pd.read_json('./data/proposicoes_join_temas.json')\n",
    "data.head()"
   ]
  },
  {
   "cell_type": "code",
   "execution_count": 4,
   "metadata": {},
   "outputs": [
    {
     "name": "stdout",
     "output_type": "stream",
     "text": [
      "<class 'pandas.core.frame.DataFrame'>\n",
      "RangeIndex: 103902 entries, 0 to 103901\n",
      "Data columns (total 8 columns):\n",
      " #   Column     Non-Null Count   Dtype \n",
      "---  ------     --------------   ----- \n",
      " 0   id         103902 non-null  int64 \n",
      " 1   uri        103902 non-null  object\n",
      " 2   siglaTipo  103902 non-null  object\n",
      " 3   codTipo    103902 non-null  int64 \n",
      " 4   numero     103902 non-null  int64 \n",
      " 5   ano        103902 non-null  int64 \n",
      " 6   ementa     103902 non-null  object\n",
      " 7   tema       98133 non-null   object\n",
      "dtypes: int64(4), object(4)\n",
      "memory usage: 6.3+ MB\n"
     ]
    }
   ],
   "source": [
    "data.info()"
   ]
  },
  {
   "attachments": {},
   "cell_type": "markdown",
   "metadata": {},
   "source": [
    "## EDA"
   ]
  },
  {
   "attachments": {},
   "cell_type": "markdown",
   "metadata": {},
   "source": [
    "Laws proposals"
   ]
  },
  {
   "cell_type": "code",
   "execution_count": 5,
   "metadata": {},
   "outputs": [
    {
     "name": "stdout",
     "output_type": "stream",
     "text": [
      "71746 Unique laws\n"
     ]
    }
   ],
   "source": [
    "unique_laws_proposal = len(data['id'].unique())\n",
    "\n",
    "print(f'{unique_laws_proposal} Unique laws')"
   ]
  },
  {
   "attachments": {},
   "cell_type": "markdown",
   "metadata": {},
   "source": [
    "Show all the PL's unique themes"
   ]
  },
  {
   "cell_type": "code",
   "execution_count": 6,
   "metadata": {},
   "outputs": [
    {
     "name": "stdout",
     "output_type": "stream",
     "text": [
      "32 unique themes\n",
      " ['Defesa e Segurança', 'Administração Pública', 'Economia', 'Finanças Públicas e Orçamento', 'Direito Penal e Processual Penal', 'Direitos Humanos e Minorias', 'Indústria, Comércio e Serviços', 'Comunicações', 'Meio Ambiente e Desenvolvimento Sustentável', 'Saúde', 'Esporte e Lazer', 'Homenagens e Datas Comemorativas', 'Educação', 'Direito Constitucional', None, 'Relações Internacionais e Comércio Exterior', 'Viação, Transporte e Mobilidade', 'Trabalho e Emprego', 'Previdência e Assistência Social', 'Direito Civil e Processual Civil', 'Direito e Justiça', 'Agricultura, Pecuária, Pesca e Extrativismo', 'Turismo', 'Cidades e Desenvolvimento Urbano', 'Política, Partidos e Eleições', 'Direito e Defesa do Consumidor', 'Energia, Recursos Hídricos e Minerais', 'Estrutura Fundiária', 'Arte, Cultura e Religião', 'Ciência, Tecnologia e Inovação', 'Processo Legislativo e Atuação Parlamentar', 'Ciências Sociais e Humanas']\n"
     ]
    }
   ],
   "source": [
    "temas = data['tema'].unique().tolist()\n",
    "\n",
    "print( len(temas), \"unique themes\\n\", temas )"
   ]
  },
  {
   "attachments": {},
   "cell_type": "markdown",
   "metadata": {},
   "source": [
    "One-Hot-Encoding the themes"
   ]
  },
  {
   "cell_type": "code",
   "execution_count": 7,
   "metadata": {},
   "outputs": [],
   "source": [
    "data[\"count\"] = 1\n",
    "\n",
    "data = data.drop(\n",
    "    columns=[\n",
    "        \"uri\",\n",
    "        \"siglaTipo\",\n",
    "        \"codTipo\",\n",
    "        \"numero\",\n",
    "        \"ano\"\n",
    "    ]\n",
    ")\n",
    "\n",
    "# pivot table\n",
    "data_pivot = data.pivot_table(\n",
    "    index=[\"id\", \"ementa\"],\n",
    "    columns=\"tema\",\n",
    "    values=\"count\",\n",
    "    aggfunc=\"sum\",\n",
    "    fill_value=0,\n",
    ").reset_index()"
   ]
  },
  {
   "attachments": {},
   "cell_type": "markdown",
   "metadata": {},
   "source": [
    "The number of records is reduced because, apareantly, there are some PL's that have no themes associated.\n",
    "\n",
    "The no-themes PL's are removed from the dataset on the pivot table operation."
   ]
  },
  {
   "cell_type": "code",
   "execution_count": 8,
   "metadata": {},
   "outputs": [
    {
     "name": "stdout",
     "output_type": "stream",
     "text": [
      "(65977, 33)\n"
     ]
    }
   ],
   "source": [
    "print(data_pivot.shape)"
   ]
  },
  {
   "attachments": {},
   "cell_type": "markdown",
   "metadata": {},
   "source": [
    "Count the frequency of each theme"
   ]
  },
  {
   "cell_type": "code",
   "execution_count": 9,
   "metadata": {},
   "outputs": [
    {
     "data": {
      "text/html": [
       "<div>\n",
       "<style scoped>\n",
       "    .dataframe tbody tr th:only-of-type {\n",
       "        vertical-align: middle;\n",
       "    }\n",
       "\n",
       "    .dataframe tbody tr th {\n",
       "        vertical-align: top;\n",
       "    }\n",
       "\n",
       "    .dataframe thead th {\n",
       "        text-align: right;\n",
       "    }\n",
       "</style>\n",
       "<table border=\"1\" class=\"dataframe\">\n",
       "  <thead>\n",
       "    <tr style=\"text-align: right;\">\n",
       "      <th></th>\n",
       "      <th>tema</th>\n",
       "      <th>frequencia</th>\n",
       "      <th>percentual</th>\n",
       "    </tr>\n",
       "  </thead>\n",
       "  <tbody>\n",
       "    <tr>\n",
       "      <th>0</th>\n",
       "      <td>Direitos Humanos e Minorias</td>\n",
       "      <td>9103</td>\n",
       "      <td>13.797232</td>\n",
       "    </tr>\n",
       "    <tr>\n",
       "      <th>1</th>\n",
       "      <td>Trabalho e Emprego</td>\n",
       "      <td>8326</td>\n",
       "      <td>12.619549</td>\n",
       "    </tr>\n",
       "    <tr>\n",
       "      <th>2</th>\n",
       "      <td>Saúde</td>\n",
       "      <td>8108</td>\n",
       "      <td>12.289131</td>\n",
       "    </tr>\n",
       "    <tr>\n",
       "      <th>3</th>\n",
       "      <td>Finanças Públicas e Orçamento</td>\n",
       "      <td>7606</td>\n",
       "      <td>11.528260</td>\n",
       "    </tr>\n",
       "    <tr>\n",
       "      <th>4</th>\n",
       "      <td>Administração Pública</td>\n",
       "      <td>7293</td>\n",
       "      <td>11.053852</td>\n",
       "    </tr>\n",
       "    <tr>\n",
       "      <th>5</th>\n",
       "      <td>Direito Penal e Processual Penal</td>\n",
       "      <td>6102</td>\n",
       "      <td>9.248678</td>\n",
       "    </tr>\n",
       "    <tr>\n",
       "      <th>6</th>\n",
       "      <td>Educação</td>\n",
       "      <td>5560</td>\n",
       "      <td>8.427179</td>\n",
       "    </tr>\n",
       "    <tr>\n",
       "      <th>7</th>\n",
       "      <td>Indústria, Comércio e Serviços</td>\n",
       "      <td>4834</td>\n",
       "      <td>7.326796</td>\n",
       "    </tr>\n",
       "    <tr>\n",
       "      <th>8</th>\n",
       "      <td>Viação, Transporte e Mobilidade</td>\n",
       "      <td>4756</td>\n",
       "      <td>7.208573</td>\n",
       "    </tr>\n",
       "    <tr>\n",
       "      <th>9</th>\n",
       "      <td>Defesa e Segurança</td>\n",
       "      <td>3781</td>\n",
       "      <td>5.730785</td>\n",
       "    </tr>\n",
       "    <tr>\n",
       "      <th>10</th>\n",
       "      <td>Direito Civil e Processual Civil</td>\n",
       "      <td>3614</td>\n",
       "      <td>5.477666</td>\n",
       "    </tr>\n",
       "    <tr>\n",
       "      <th>11</th>\n",
       "      <td>Meio Ambiente e Desenvolvimento Sustentável</td>\n",
       "      <td>3186</td>\n",
       "      <td>4.828956</td>\n",
       "    </tr>\n",
       "    <tr>\n",
       "      <th>12</th>\n",
       "      <td>Previdência e Assistência Social</td>\n",
       "      <td>2958</td>\n",
       "      <td>4.483381</td>\n",
       "    </tr>\n",
       "    <tr>\n",
       "      <th>13</th>\n",
       "      <td>Homenagens e Datas Comemorativas</td>\n",
       "      <td>2875</td>\n",
       "      <td>4.357579</td>\n",
       "    </tr>\n",
       "    <tr>\n",
       "      <th>14</th>\n",
       "      <td>Economia</td>\n",
       "      <td>2656</td>\n",
       "      <td>4.025645</td>\n",
       "    </tr>\n",
       "    <tr>\n",
       "      <th>15</th>\n",
       "      <td>Direito e Defesa do Consumidor</td>\n",
       "      <td>2511</td>\n",
       "      <td>3.805872</td>\n",
       "    </tr>\n",
       "    <tr>\n",
       "      <th>16</th>\n",
       "      <td>Comunicações</td>\n",
       "      <td>2371</td>\n",
       "      <td>3.593677</td>\n",
       "    </tr>\n",
       "    <tr>\n",
       "      <th>17</th>\n",
       "      <td>Cidades e Desenvolvimento Urbano</td>\n",
       "      <td>2146</td>\n",
       "      <td>3.252649</td>\n",
       "    </tr>\n",
       "    <tr>\n",
       "      <th>18</th>\n",
       "      <td>Energia, Recursos Hídricos e Minerais</td>\n",
       "      <td>1942</td>\n",
       "      <td>2.943450</td>\n",
       "    </tr>\n",
       "    <tr>\n",
       "      <th>19</th>\n",
       "      <td>Política, Partidos e Eleições</td>\n",
       "      <td>1528</td>\n",
       "      <td>2.315959</td>\n",
       "    </tr>\n",
       "    <tr>\n",
       "      <th>20</th>\n",
       "      <td>Arte, Cultura e Religião</td>\n",
       "      <td>1458</td>\n",
       "      <td>2.209861</td>\n",
       "    </tr>\n",
       "    <tr>\n",
       "      <th>21</th>\n",
       "      <td>Agricultura, Pecuária, Pesca e Extrativismo</td>\n",
       "      <td>1183</td>\n",
       "      <td>1.793049</td>\n",
       "    </tr>\n",
       "    <tr>\n",
       "      <th>22</th>\n",
       "      <td>Esporte e Lazer</td>\n",
       "      <td>1119</td>\n",
       "      <td>1.696046</td>\n",
       "    </tr>\n",
       "    <tr>\n",
       "      <th>23</th>\n",
       "      <td>Estrutura Fundiária</td>\n",
       "      <td>967</td>\n",
       "      <td>1.465662</td>\n",
       "    </tr>\n",
       "    <tr>\n",
       "      <th>24</th>\n",
       "      <td>Ciência, Tecnologia e Inovação</td>\n",
       "      <td>622</td>\n",
       "      <td>0.942753</td>\n",
       "    </tr>\n",
       "    <tr>\n",
       "      <th>25</th>\n",
       "      <td>Direito e Justiça</td>\n",
       "      <td>528</td>\n",
       "      <td>0.800279</td>\n",
       "    </tr>\n",
       "    <tr>\n",
       "      <th>26</th>\n",
       "      <td>Relações Internacionais e Comércio Exterior</td>\n",
       "      <td>370</td>\n",
       "      <td>0.560801</td>\n",
       "    </tr>\n",
       "    <tr>\n",
       "      <th>27</th>\n",
       "      <td>Turismo</td>\n",
       "      <td>336</td>\n",
       "      <td>0.509268</td>\n",
       "    </tr>\n",
       "    <tr>\n",
       "      <th>28</th>\n",
       "      <td>Processo Legislativo e Atuação Parlamentar</td>\n",
       "      <td>148</td>\n",
       "      <td>0.224321</td>\n",
       "    </tr>\n",
       "    <tr>\n",
       "      <th>29</th>\n",
       "      <td>Direito Constitucional</td>\n",
       "      <td>143</td>\n",
       "      <td>0.216742</td>\n",
       "    </tr>\n",
       "    <tr>\n",
       "      <th>30</th>\n",
       "      <td>Ciências Sociais e Humanas</td>\n",
       "      <td>3</td>\n",
       "      <td>0.004547</td>\n",
       "    </tr>\n",
       "  </tbody>\n",
       "</table>\n",
       "</div>"
      ],
      "text/plain": [
       "                                           tema  frequencia  percentual\n",
       "0                   Direitos Humanos e Minorias        9103   13.797232\n",
       "1                            Trabalho e Emprego        8326   12.619549\n",
       "2                                         Saúde        8108   12.289131\n",
       "3                 Finanças Públicas e Orçamento        7606   11.528260\n",
       "4                         Administração Pública        7293   11.053852\n",
       "5              Direito Penal e Processual Penal        6102    9.248678\n",
       "6                                      Educação        5560    8.427179\n",
       "7                Indústria, Comércio e Serviços        4834    7.326796\n",
       "8               Viação, Transporte e Mobilidade        4756    7.208573\n",
       "9                            Defesa e Segurança        3781    5.730785\n",
       "10             Direito Civil e Processual Civil        3614    5.477666\n",
       "11  Meio Ambiente e Desenvolvimento Sustentável        3186    4.828956\n",
       "12             Previdência e Assistência Social        2958    4.483381\n",
       "13             Homenagens e Datas Comemorativas        2875    4.357579\n",
       "14                                     Economia        2656    4.025645\n",
       "15               Direito e Defesa do Consumidor        2511    3.805872\n",
       "16                                 Comunicações        2371    3.593677\n",
       "17             Cidades e Desenvolvimento Urbano        2146    3.252649\n",
       "18        Energia, Recursos Hídricos e Minerais        1942    2.943450\n",
       "19                Política, Partidos e Eleições        1528    2.315959\n",
       "20                     Arte, Cultura e Religião        1458    2.209861\n",
       "21  Agricultura, Pecuária, Pesca e Extrativismo        1183    1.793049\n",
       "22                              Esporte e Lazer        1119    1.696046\n",
       "23                          Estrutura Fundiária         967    1.465662\n",
       "24               Ciência, Tecnologia e Inovação         622    0.942753\n",
       "25                            Direito e Justiça         528    0.800279\n",
       "26  Relações Internacionais e Comércio Exterior         370    0.560801\n",
       "27                                      Turismo         336    0.509268\n",
       "28   Processo Legislativo e Atuação Parlamentar         148    0.224321\n",
       "29                       Direito Constitucional         143    0.216742\n",
       "30                   Ciências Sociais e Humanas           3    0.004547"
      ]
     },
     "execution_count": 9,
     "metadata": {},
     "output_type": "execute_result"
    }
   ],
   "source": [
    "# Calculate the percentage of each theme\n",
    "data_frequency = data_pivot.drop(columns=['id','ementa']).sum().sort_values(ascending=False)\n",
    "# to pandas dataframe\n",
    "data_frequency = pd.DataFrame(data_frequency).reset_index()\n",
    "data_frequency.columns = ['tema', 'frequencia']\n",
    "data_frequency['percentual'] = 100*data_frequency['frequencia'] / len( data_pivot )\n",
    "data_frequency.head(32)"
   ]
  },
  {
   "attachments": {},
   "cell_type": "markdown",
   "metadata": {},
   "source": [
    "Showing a few examples of the PL's ementas"
   ]
  },
  {
   "cell_type": "code",
   "execution_count": 32,
   "metadata": {},
   "outputs": [
    {
     "name": "stdout",
     "output_type": "stream",
     "text": [
      "                                                                                              ementa\n",
      "tema                                                                                                \n",
      "Administração Pública                       1           Institui a Política Nacional de Longo Prazo.\n",
      "                                            44     Dispõe sobre o exercício de funções de magisté...\n",
      "Agricultura, Pecuária, Pesca e Extrativismo 85     Cria o Roteiro Turístico dos Cafés da Alta Mog...\n",
      "                                            168    Altera os artigos 429 e 430 da Consolidação da...\n",
      "Arte, Cultura e Religião                    141    Reconhece a Festa de San Gennaro, realizada no...\n",
      "                                            162    Institui a meia entrada para doadores regulare...\n",
      "Cidades e Desenvolvimento Urbano            89     Altera a Lei nº 8.036, de 11 de maio de 1990, ...\n",
      "                                            110    Altera a Lei nº 14.312, de 14 de março de 2022...\n",
      "Ciência, Tecnologia e Inovação              146    Modifica a Lei nº 8.248, de 23 de outubro de 1...\n",
      "                                            260    Altera o parágrafo único do art. 3º-B do Decre...\n",
      "Ciências Sociais e Humanas                  9516   Altera a Lei nº 13.988, de 14 de abril de 2020...\n",
      "                                            19876  Altera a Lei nº 13.989, de 15 de abril de 2020...\n",
      "Comunicações                                12     Altera o Decreto-Lei n. 236, de 28 de fevereir...\n",
      "                                            19     Altera o art. 26 da Lei nº 9.394, de 20 de dez...\n",
      "Defesa e Segurança                          0      Altera redação de dispositivos do artigo 4° da...\n",
      "                                            11     Dá nova redação ao Parágrafo único do art. 13 ...\n",
      "Direito Civil e Processual Civil            60     Acrescenta parágrafo único ao art. 842 da Lei ...\n",
      "                                            66     Altera o art. 38 da Lei nº 9.099, de 26 de set...\n",
      "Direito Constitucional                      28     Dispõe sobre a responsabilidade democrática de...\n",
      "                                            880    “Altera o art. 92 da Lei nº 8.112, de 11 de de...\n",
      "Direito Penal e Processual Penal            4      Cria o Protocolo Não é Não de atendimento à mu...\n",
      "                                            7      Estabelece protocolo de segurança para as mulh...\n",
      "Direito e Defesa do Consumidor              125    Dispõe acerca da valoração da energia elétrica...\n",
      "                                            336    Altera a Lei 8.078 de 1990 (Código de Defesa d...\n",
      "Direito e Justiça                           82     Inclui o inciso VII ao § 2º-B, do art. 7º da L...\n",
      "                                            105    Altera a Lei nº 4.737, de 15 de julho de 1965 ...\n",
      "Direitos Humanos e Minorias                 5      Cria o Protocolo Não é Não de atendimento à mu...\n",
      "                                            8      Estabelece protocolo de segurança para as mulh...\n",
      "Economia                                    2      Altera a Lei nº 12.529, de 30 de novembro de 2...\n",
      "                                            54     Estabelece a metodologia de cálculo do salário...\n",
      "Educação                                    20     Altera o art. 26 da Lei nº 9.394, de 20 de dez...\n",
      "                                            46     Dispõe sobre o exercício de funções de magisté...\n",
      "Energia, Recursos Hídricos e Minerais       126    Dispõe acerca da valoração da energia elétrica...\n",
      "                                            147    Modifica a Lei nº 8.248, de 23 de outubro de 1...\n",
      "Esporte e Lazer                             17     Inscreve o nome de Edson Arantes do Nascimento...\n",
      "                                            241    Altera a Lei nº 12.933, de 26 de dezembro de 2...\n",
      "Estrutura Fundiária                         139    Altera as Leis nº 6.938, de 31 de agosto de 19...\n",
      "                                            443    Institui o Programa Nacional de Incentivo e Ap...\n",
      "Finanças Públicas e Orçamento               3      Altera a Lei nº 12.529, de 30 de novembro de 2...\n",
      "                                            29     Dispõe sobre a responsabilidade democrática de...\n",
      "Homenagens e Datas Comemorativas            18     Inscreve o nome de Edson Arantes do Nascimento...\n",
      "                                            24     Inscreve o nome de Edson Arantes do Nascimento...\n",
      "Indústria, Comércio e Serviços              6      Cria o Protocolo Não é Não de atendimento à mu...\n",
      "                                            9      Estabelece protocolo de segurança para as mulh...\n",
      "Meio Ambiente e Desenvolvimento Sustentável 14     Veda o uso de equinos como arma e transporte e...\n",
      "                                            15     Institui o Registro Eletrônico de Vacinações d...\n",
      "Política, Partidos e Eleições               106    Altera a Lei nº 4.737, de 15 de julho de 1965 ...\n",
      "                                            164    Altera a Lei n.º 9.504, de 30 de setembro de 1...\n",
      "Previdência e Assistência Social            59     Veda a concessão de crédito consignado contrat...\n",
      "                                            196    Estabelece diretrizes para a criação do Progra...\n",
      "Processo Legislativo e Atuação Parlamentar  645    Dispõe sobre a obrigatoriedade de as placas de...\n",
      "                                            834    Dispõe sobre a exigência de autorização do Con...\n",
      "Relações Internacionais e Comércio Exterior 41     Altera a Lei nº 13.445, de 24 de maio de 2017,...\n",
      "                                            65     Acrescente-se o §4º ao art. 48, da Lei nº 9.39...\n",
      "Saúde                                       16     Institui o Registro Eletrônico de Vacinações d...\n",
      "                                            32     Institui o Cadastro Nacional de Pesquisa em Dr...\n",
      "Trabalho e Emprego                          56     Estabelece a metodologia de cálculo do salário...\n",
      "                                            63     Altera o inciso XIV do art. 6º, da Lei nº 7.71...\n",
      "Turismo                                     86     Cria o Roteiro Turístico dos Cafés da Alta Mog...\n",
      "                                            1090   Institui o Programa Nacional de Turismo Educat...\n",
      "Viação, Transporte e Mobilidade             49     Denomina a BR-050, entre o Distrito Federal e ...\n",
      "                                            114                      Institui o Estatuto do Pedestre\n"
     ]
    }
   ],
   "source": [
    "with pd.option_context(\"display.max_rows\", None, \"display.max_columns\", None):\n",
    "    print(data.groupby(\"tema\").apply(lambda df: df.head(2))[[\"ementa\"]])"
   ]
  },
  {
   "attachments": {},
   "cell_type": "markdown",
   "metadata": {},
   "source": [
    "## Preprocessing"
   ]
  },
  {
   "attachments": {},
   "cell_type": "markdown",
   "metadata": {},
   "source": [
    "Join themes with less than 1% relative frequency as 'Other'"
   ]
  },
  {
   "cell_type": "code",
   "execution_count": 10,
   "metadata": {},
   "outputs": [],
   "source": [
    "join_themes = [\n",
    "    \"Ciência, Tecnologia e Inovação\",\n",
    "    \"Direito e Justiça\",\n",
    "    \"Relações Internacionais e Comércio Exterior\",\n",
    "    \"Turismo\",\n",
    "    \"Processo Legislativo e Atuação Parlamentar\",\n",
    "    \"Direito Constitucional\",\n",
    "    \"Ciências Sociais e Humanas\",\n",
    "]\n",
    "\n",
    "# 1 if the law has at least one of the themes above, 0 otherwise\n",
    "data_pivot[\"Outro\"] = (\n",
    "    data_pivot[join_themes]\n",
    "    .sum(axis=1)\n",
    "    .apply(lambda x: 0 if x == 0 else 1)\n",
    ")\n",
    "\n",
    "# Remove the themes that were joined together\n",
    "data_themes_removed = data_pivot.drop(columns=join_themes)"
   ]
  },
  {
   "attachments": {},
   "cell_type": "markdown",
   "metadata": {},
   "source": [
    "## Save data "
   ]
  },
  {
   "cell_type": "code",
   "execution_count": 13,
   "metadata": {},
   "outputs": [],
   "source": [
    "data_themes_removed.to_parquet('./data/proposicoes_temas_one_hot_encoding.parquet')"
   ]
  }
 ],
 "metadata": {
  "kernelspec": {
   "display_name": "Python 3",
   "language": "python",
   "name": "python3"
  },
  "language_info": {
   "codemirror_mode": {
    "name": "ipython",
    "version": 3
   },
   "file_extension": ".py",
   "mimetype": "text/x-python",
   "name": "python",
   "nbconvert_exporter": "python",
   "pygments_lexer": "ipython3",
   "version": "3.10.6"
  },
  "orig_nbformat": 4
 },
 "nbformat": 4,
 "nbformat_minor": 2
}
