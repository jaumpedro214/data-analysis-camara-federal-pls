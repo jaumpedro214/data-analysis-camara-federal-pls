{
 "cells": [
  {
   "attachments": {},
   "cell_type": "markdown",
   "metadata": {},
   "source": [
    "# Theme Classification - Human Rights"
   ]
  },
  {
   "attachments": {},
   "cell_type": "markdown",
   "metadata": {},
   "source": [
    "This notebook is an experiment to trying to detect if a PL (Law Proposal) is related to Human Rights or not using its ementa (summary). "
   ]
  },
  {
   "attachments": {},
   "cell_type": "markdown",
   "metadata": {},
   "source": [
    "## Importing libraries"
   ]
  },
  {
   "cell_type": "code",
   "execution_count": 4,
   "metadata": {},
   "outputs": [],
   "source": [
    "import pandas as pd\n",
    "import time\n",
    "import json\n",
    "\n",
    "# Model selection and evaluation\n",
    "from sklearn.model_selection import train_test_split\n",
    "from sklearn.metrics import classification_report, confusion_matrix, accuracy_score, f1_score, precision_score, recall_score\n",
    "from sklearn.model_selection import cross_val_score, cross_validate, StratifiedKFold, GridSearchCV\n",
    "\n",
    "# Text vectorizers\n",
    "from sklearn.feature_extraction.text import TfidfVectorizer\n",
    "\n",
    "# Classifiers\n",
    "from sklearn.linear_model import LogisticRegression, SGDClassifier\n",
    "from sklearn.ensemble import RandomForestClassifier\n",
    "from sklearn.svm import LinearSVC\n",
    "from sklearn.tree import DecisionTreeClassifier\n",
    "from xgboost import XGBClassifier\n",
    "from sklearn.dummy import DummyClassifier\n",
    "\n",
    "# Pipeline\n",
    "from sklearn.pipeline import Pipeline\n",
    "\n",
    "\n",
    "RANDOM_STATE = 214"
   ]
  },
  {
   "attachments": {},
   "cell_type": "markdown",
   "metadata": {},
   "source": [
    "## Importing data"
   ]
  },
  {
   "cell_type": "code",
   "execution_count": 5,
   "metadata": {},
   "outputs": [],
   "source": [
    "df_pls_theme = pd.read_parquet('../data/proposicoes_temas_one_hot_encoding.parquet')"
   ]
  },
  {
   "attachments": {},
   "cell_type": "markdown",
   "metadata": {},
   "source": [
    "Print basic information."
   ]
  },
  {
   "cell_type": "code",
   "execution_count": 6,
   "metadata": {},
   "outputs": [
    {
     "name": "stdout",
     "output_type": "stream",
     "text": [
      "<class 'pandas.core.frame.DataFrame'>\n",
      "RangeIndex: 65977 entries, 0 to 65976\n",
      "Data columns (total 27 columns):\n",
      " #   Column                                       Non-Null Count  Dtype \n",
      "---  ------                                       --------------  ----- \n",
      " 0   id                                           65977 non-null  int64 \n",
      " 1   ementa                                       65977 non-null  object\n",
      " 2   Administração Pública                        65977 non-null  int64 \n",
      " 3   Agricultura, Pecuária, Pesca e Extrativismo  65977 non-null  int64 \n",
      " 4   Arte, Cultura e Religião                     65977 non-null  int64 \n",
      " 5   Cidades e Desenvolvimento Urbano             65977 non-null  int64 \n",
      " 6   Comunicações                                 65977 non-null  int64 \n",
      " 7   Defesa e Segurança                           65977 non-null  int64 \n",
      " 8   Direito Civil e Processual Civil             65977 non-null  int64 \n",
      " 9   Direito Penal e Processual Penal             65977 non-null  int64 \n",
      " 10  Direito e Defesa do Consumidor               65977 non-null  int64 \n",
      " 11  Direitos Humanos e Minorias                  65977 non-null  int64 \n",
      " 12  Economia                                     65977 non-null  int64 \n",
      " 13  Educação                                     65977 non-null  int64 \n",
      " 14  Energia, Recursos Hídricos e Minerais        65977 non-null  int64 \n",
      " 15  Esporte e Lazer                              65977 non-null  int64 \n",
      " 16  Estrutura Fundiária                          65977 non-null  int64 \n",
      " 17  Finanças Públicas e Orçamento                65977 non-null  int64 \n",
      " 18  Homenagens e Datas Comemorativas             65977 non-null  int64 \n",
      " 19  Indústria, Comércio e Serviços               65977 non-null  int64 \n",
      " 20  Meio Ambiente e Desenvolvimento Sustentável  65977 non-null  int64 \n",
      " 21  Política, Partidos e Eleições                65977 non-null  int64 \n",
      " 22  Previdência e Assistência Social             65977 non-null  int64 \n",
      " 23  Saúde                                        65977 non-null  int64 \n",
      " 24  Trabalho e Emprego                           65977 non-null  int64 \n",
      " 25  Viação, Transporte e Mobilidade              65977 non-null  int64 \n",
      " 26  Outro                                        65977 non-null  int64 \n",
      "dtypes: int64(26), object(1)\n",
      "memory usage: 13.6+ MB\n"
     ]
    }
   ],
   "source": [
    "df_pls_theme.info()"
   ]
  },
  {
   "attachments": {},
   "cell_type": "markdown",
   "metadata": {},
   "source": [
    "## Data preprocessing"
   ]
  },
  {
   "attachments": {},
   "cell_type": "markdown",
   "metadata": {},
   "source": [
    "Droping ementa duplicates to avoid data leakage on training."
   ]
  },
  {
   "cell_type": "code",
   "execution_count": 7,
   "metadata": {},
   "outputs": [
    {
     "name": "stdout",
     "output_type": "stream",
     "text": [
      "<class 'pandas.core.frame.DataFrame'>\n",
      "Index: 61934 entries, 0 to 65976\n",
      "Data columns (total 2 columns):\n",
      " #   Column           Non-Null Count  Dtype \n",
      "---  ------           --------------  ----- \n",
      " 0   ementa           61934 non-null  object\n",
      " 1   in_human_rights  61934 non-null  int64 \n",
      "dtypes: int64(1), object(1)\n",
      "memory usage: 1.4+ MB\n"
     ]
    }
   ],
   "source": [
    "df_pls_theme = df_pls_theme.drop_duplicates(subset=['ementa'])\n",
    "df_pls_theme = df_pls_theme[['ementa','Direitos Humanos e Minorias']]\n",
    "df_pls_theme = df_pls_theme.rename(columns={'Direitos Humanos e Minorias': 'in_human_rights'})\n",
    "\n",
    "df_pls_theme.info()"
   ]
  },
  {
   "cell_type": "code",
   "execution_count": 8,
   "metadata": {},
   "outputs": [
    {
     "data": {
      "text/html": [
       "<div>\n",
       "<style scoped>\n",
       "    .dataframe tbody tr th:only-of-type {\n",
       "        vertical-align: middle;\n",
       "    }\n",
       "\n",
       "    .dataframe tbody tr th {\n",
       "        vertical-align: top;\n",
       "    }\n",
       "\n",
       "    .dataframe thead th {\n",
       "        text-align: right;\n",
       "    }\n",
       "</style>\n",
       "<table border=\"1\" class=\"dataframe\">\n",
       "  <thead>\n",
       "    <tr style=\"text-align: right;\">\n",
       "      <th>tema</th>\n",
       "      <th>ementa</th>\n",
       "      <th>in_human_rights</th>\n",
       "    </tr>\n",
       "  </thead>\n",
       "  <tbody>\n",
       "    <tr>\n",
       "      <th>0</th>\n",
       "      <td>Dispõe sobre a Política Nacional de Salários, ...</td>\n",
       "      <td>0</td>\n",
       "    </tr>\n",
       "    <tr>\n",
       "      <th>1</th>\n",
       "      <td>Modifica o art. 6º da Lei nº 9.424, de 24 de d...</td>\n",
       "      <td>0</td>\n",
       "    </tr>\n",
       "    <tr>\n",
       "      <th>2</th>\n",
       "      <td>Dispõe sobre salário-família e dá outras provi...</td>\n",
       "      <td>0</td>\n",
       "    </tr>\n",
       "    <tr>\n",
       "      <th>3</th>\n",
       "      <td>Modifica a Lei nº 4.117, de 1962, que \"institu...</td>\n",
       "      <td>0</td>\n",
       "    </tr>\n",
       "    <tr>\n",
       "      <th>4</th>\n",
       "      <td>Concede isenção do imposto sobre produtos indu...</td>\n",
       "      <td>0</td>\n",
       "    </tr>\n",
       "    <tr>\n",
       "      <th>5</th>\n",
       "      <td>Institui o sistema Distrital Misto, majoritári...</td>\n",
       "      <td>0</td>\n",
       "    </tr>\n",
       "    <tr>\n",
       "      <th>6</th>\n",
       "      <td>Estabelece penalidades pelo uso de telefone ce...</td>\n",
       "      <td>0</td>\n",
       "    </tr>\n",
       "    <tr>\n",
       "      <th>7</th>\n",
       "      <td>Estabelece dia da semana para realização de pr...</td>\n",
       "      <td>1</td>\n",
       "    </tr>\n",
       "    <tr>\n",
       "      <th>8</th>\n",
       "      <td>Altera a Lei nº 8.666, de 21 de junho de 1993,...</td>\n",
       "      <td>0</td>\n",
       "    </tr>\n",
       "    <tr>\n",
       "      <th>9</th>\n",
       "      <td>Altera o caput do art. 12 da Lei nº 9.492, de ...</td>\n",
       "      <td>0</td>\n",
       "    </tr>\n",
       "  </tbody>\n",
       "</table>\n",
       "</div>"
      ],
      "text/plain": [
       "tema                                             ementa  in_human_rights\n",
       "0     Dispõe sobre a Política Nacional de Salários, ...                0\n",
       "1     Modifica o art. 6º da Lei nº 9.424, de 24 de d...                0\n",
       "2     Dispõe sobre salário-família e dá outras provi...                0\n",
       "3     Modifica a Lei nº 4.117, de 1962, que \"institu...                0\n",
       "4     Concede isenção do imposto sobre produtos indu...                0\n",
       "5     Institui o sistema Distrital Misto, majoritári...                0\n",
       "6     Estabelece penalidades pelo uso de telefone ce...                0\n",
       "7     Estabelece dia da semana para realização de pr...                1\n",
       "8     Altera a Lei nº 8.666, de 21 de junho de 1993,...                0\n",
       "9     Altera o caput do art. 12 da Lei nº 9.492, de ...                0"
      ]
     },
     "execution_count": 8,
     "metadata": {},
     "output_type": "execute_result"
    }
   ],
   "source": [
    "df_pls_theme.head(10)"
   ]
  },
  {
   "attachments": {},
   "cell_type": "markdown",
   "metadata": {},
   "source": [
    "## Train test split"
   ]
  },
  {
   "cell_type": "code",
   "execution_count": 9,
   "metadata": {},
   "outputs": [
    {
     "data": {
      "text/plain": [
       "((52643,), (52643,), (9291,), (9291,))"
      ]
     },
     "execution_count": 9,
     "metadata": {},
     "output_type": "execute_result"
    }
   ],
   "source": [
    "X_train, X_test, y_train, y_test = train_test_split(\n",
    "    df_pls_theme[\"ementa\"],\n",
    "    df_pls_theme[\"in_human_rights\"],\n",
    "    stratify=df_pls_theme[\"in_human_rights\"],\n",
    "    test_size=0.15,\n",
    "    random_state=RANDOM_STATE\n",
    ")\n",
    "\n",
    "X_train.shape, y_train.shape, X_test.shape, y_test.shape"
   ]
  },
  {
   "attachments": {},
   "cell_type": "markdown",
   "metadata": {},
   "source": [
    "## Model Selection"
   ]
  },
  {
   "attachments": {},
   "cell_type": "markdown",
   "metadata": {},
   "source": [
    "Perform model selection using cross validation with TF-IDF standard features."
   ]
  },
  {
   "cell_type": "code",
   "execution_count": 8,
   "metadata": {},
   "outputs": [],
   "source": [
    "vectorizer = [\n",
    "    (\n",
    "        \"tfidf\",\n",
    "        TfidfVectorizer(\n",
    "            ngram_range=(1, 2),\n",
    "            max_features=2000,\n",
    "            decode_error=\"replace\",\n",
    "            strip_accents=\"ascii\",\n",
    "            lowercase=True,\n",
    "        ),\n",
    "    ),\n",
    "]\n",
    "\n",
    "models = [\n",
    "    (\"Logistic Regression\", LogisticRegression(verbose=0, random_state=RANDOM_STATE)),\n",
    "    (\"SGDClassifier\", SGDClassifier(random_state=RANDOM_STATE)),\n",
    "    (\"Linear SVC\", LinearSVC(random_state=RANDOM_STATE)),\n",
    "    (\"Random Forest\", RandomForestClassifier(random_state=RANDOM_STATE)),\n",
    "    (\"XGBoost\", XGBClassifier(random_state=RANDOM_STATE)),\n",
    "    (\"Decision Tree\", DecisionTreeClassifier(random_state=RANDOM_STATE)),\n",
    "    (\"Dummy\", DummyClassifier(random_state=RANDOM_STATE, strategy=\"most_frequent\")),\n",
    "]\n",
    "\n",
    "pipelines = [\n",
    "    Pipeline(vectorizer + [model]) for model in models\n",
    "]\n",
    "\n",
    "metrics = []"
   ]
  },
  {
   "attachments": {},
   "cell_type": "markdown",
   "metadata": {},
   "source": [
    "Training the models and storing the results"
   ]
  },
  {
   "cell_type": "code",
   "execution_count": 9,
   "metadata": {},
   "outputs": [
    {
     "name": "stdout",
     "output_type": "stream",
     "text": [
      "Training model: Logistic Regression\n",
      "Training model: SGDClassifier\n",
      "Training model: Linear SVC\n",
      "Training model: Random Forest\n",
      "Training model: XGBoost\n",
      "Training model: Decision Tree\n"
     ]
    },
    {
     "data": {
      "text/html": [
       "<div>\n",
       "<style scoped>\n",
       "    .dataframe tbody tr th:only-of-type {\n",
       "        vertical-align: middle;\n",
       "    }\n",
       "\n",
       "    .dataframe tbody tr th {\n",
       "        vertical-align: top;\n",
       "    }\n",
       "\n",
       "    .dataframe thead th {\n",
       "        text-align: right;\n",
       "    }\n",
       "</style>\n",
       "<table border=\"1\" class=\"dataframe\">\n",
       "  <thead>\n",
       "    <tr style=\"text-align: right;\">\n",
       "      <th></th>\n",
       "      <th>model</th>\n",
       "      <th>mean_accuracy</th>\n",
       "      <th>mean_f1</th>\n",
       "      <th>mean_precision</th>\n",
       "      <th>mean_recall</th>\n",
       "      <th>training_time</th>\n",
       "    </tr>\n",
       "  </thead>\n",
       "  <tbody>\n",
       "    <tr>\n",
       "      <th>0</th>\n",
       "      <td>Logistic Regression</td>\n",
       "      <td>0.910131</td>\n",
       "      <td>0.567427</td>\n",
       "      <td>0.844342</td>\n",
       "      <td>0.427293</td>\n",
       "      <td>14.294176</td>\n",
       "    </tr>\n",
       "    <tr>\n",
       "      <th>1</th>\n",
       "      <td>SGDClassifier</td>\n",
       "      <td>0.907756</td>\n",
       "      <td>0.549099</td>\n",
       "      <td>0.842897</td>\n",
       "      <td>0.407188</td>\n",
       "      <td>13.826842</td>\n",
       "    </tr>\n",
       "    <tr>\n",
       "      <th>2</th>\n",
       "      <td>Linear SVC</td>\n",
       "      <td>0.912106</td>\n",
       "      <td>0.594151</td>\n",
       "      <td>0.818308</td>\n",
       "      <td>0.466400</td>\n",
       "      <td>16.539962</td>\n",
       "    </tr>\n",
       "    <tr>\n",
       "      <th>3</th>\n",
       "      <td>Random Forest</td>\n",
       "      <td>0.912220</td>\n",
       "      <td>0.602017</td>\n",
       "      <td>0.803701</td>\n",
       "      <td>0.481272</td>\n",
       "      <td>231.500479</td>\n",
       "    </tr>\n",
       "    <tr>\n",
       "      <th>4</th>\n",
       "      <td>XGBoost</td>\n",
       "      <td>0.911688</td>\n",
       "      <td>0.586566</td>\n",
       "      <td>0.828049</td>\n",
       "      <td>0.454144</td>\n",
       "      <td>58.938207</td>\n",
       "    </tr>\n",
       "  </tbody>\n",
       "</table>\n",
       "</div>"
      ],
      "text/plain": [
       "                 model  mean_accuracy   mean_f1  mean_precision  mean_recall   \n",
       "0  Logistic Regression       0.910131  0.567427        0.844342     0.427293  \\\n",
       "1        SGDClassifier       0.907756  0.549099        0.842897     0.407188   \n",
       "2           Linear SVC       0.912106  0.594151        0.818308     0.466400   \n",
       "3        Random Forest       0.912220  0.602017        0.803701     0.481272   \n",
       "4              XGBoost       0.911688  0.586566        0.828049     0.454144   \n",
       "\n",
       "   training_time  \n",
       "0      14.294176  \n",
       "1      13.826842  \n",
       "2      16.539962  \n",
       "3     231.500479  \n",
       "4      58.938207  "
      ]
     },
     "execution_count": 9,
     "metadata": {},
     "output_type": "execute_result"
    }
   ],
   "source": [
    "stratified_kfold = StratifiedKFold(n_splits=3, shuffle=True, random_state=RANDOM_STATE)\n",
    "\n",
    "for pipeline in pipelines:\n",
    "\n",
    "    print(f\"Training model: {pipeline.steps[-1][0]}\")\n",
    "\n",
    "    t1 = time.time()\n",
    "    cross_val_scores = cross_validate(\n",
    "        pipeline,\n",
    "        X_train,\n",
    "        y_train,\n",
    "        cv=stratified_kfold,\n",
    "        scoring=[\"accuracy\", \"f1\", \"precision\", \"recall\"],\n",
    "    )\n",
    "    training_time = time.time() - t1\n",
    "\n",
    "    metrics.append(\n",
    "        {\n",
    "            \"model\": pipeline.steps[-1][0],\n",
    "            \"mean_accuracy\": cross_val_scores[\"test_accuracy\"].mean(),\n",
    "            \"mean_f1\": cross_val_scores[\"test_f1\"].mean(),\n",
    "            \"mean_precision\": cross_val_scores[\"test_precision\"].mean(),\n",
    "            \"mean_recall\": cross_val_scores[\"test_recall\"].mean(),\n",
    "            \"training_time\": training_time,\n",
    "        }\n",
    "    )\n",
    "\n",
    "metrics_df = pd.DataFrame(metrics)\n",
    "metrics_df.head()"
   ]
  },
  {
   "attachments": {},
   "cell_type": "markdown",
   "metadata": {},
   "source": [
    "Saving the metrics"
   ]
  },
  {
   "cell_type": "code",
   "execution_count": 10,
   "metadata": {},
   "outputs": [],
   "source": [
    "metrics_df.to_csv('../results/binary_classifier_model_selection.csv', index=False)"
   ]
  },
  {
   "attachments": {},
   "cell_type": "markdown",
   "metadata": {},
   "source": [
    "## Hyperparameter Tuning"
   ]
  },
  {
   "cell_type": "code",
   "execution_count": 10,
   "metadata": {},
   "outputs": [],
   "source": [
    "model_pipe = Pipeline(\n",
    "    [\n",
    "        (\n",
    "            \"tfidf_vec\",\n",
    "            TfidfVectorizer(\n",
    "                ngram_range=(1, 2),\n",
    "                max_features=2000,\n",
    "                decode_error=\"replace\",\n",
    "                strip_accents=\"ascii\",\n",
    "                lowercase=True,\n",
    "            ),\n",
    "        ),\n",
    "        (\"xgb_clf\", XGBClassifier(random_state=RANDOM_STATE)),\n",
    "    ]\n",
    ")\n",
    "\n",
    "params = {\n",
    "    \"xgb_clf__max_depth\": [3, 6],\n",
    "    \"xgb_clf__n_estimators\": [300, 500],\n",
    "    \"xgb_clf__learning_rate\": [0.01, 0.1],\n",
    "    # \"xgb_clf__max_delta_step\": [0, 1],\n",
    "}\n",
    "\n",
    "kfold = StratifiedKFold(n_splits=3, shuffle=True, random_state=RANDOM_STATE)\n",
    "grid_search = GridSearchCV(\n",
    "    model_pipe,\n",
    "    params,\n",
    "    cv=kfold,\n",
    "    scoring=[\"accuracy\", \"f1\", \"precision\", \"recall\"],\n",
    "    refit=\"recall\",\n",
    "    n_jobs=1,\n",
    "    verbose=3,\n",
    ")"
   ]
  },
  {
   "cell_type": "code",
   "execution_count": 26,
   "metadata": {},
   "outputs": [
    {
     "name": "stdout",
     "output_type": "stream",
     "text": [
      "Fitting 3 folds for each of 8 candidates, totalling 24 fits\n",
      "[CV 1/3] END xgb_clf__learning_rate=0.01, xgb_clf__max_depth=3, xgb_clf__n_estimators=300; accuracy: (test=0.896) f1: (test=0.428) precision: (test=0.890) recall: (test=0.282) total time=  29.4s\n",
      "[CV 2/3] END xgb_clf__learning_rate=0.01, xgb_clf__max_depth=3, xgb_clf__n_estimators=300; accuracy: (test=0.893) f1: (test=0.403) precision: (test=0.878) recall: (test=0.261) total time=  29.5s\n",
      "[CV 3/3] END xgb_clf__learning_rate=0.01, xgb_clf__max_depth=3, xgb_clf__n_estimators=300; accuracy: (test=0.897) f1: (test=0.434) precision: (test=0.885) recall: (test=0.288) total time=  30.2s\n",
      "[CV 1/3] END xgb_clf__learning_rate=0.01, xgb_clf__max_depth=3, xgb_clf__n_estimators=500; accuracy: (test=0.898) f1: (test=0.450) precision: (test=0.886) recall: (test=0.302) total time=  37.3s\n",
      "[CV 2/3] END xgb_clf__learning_rate=0.01, xgb_clf__max_depth=3, xgb_clf__n_estimators=500; accuracy: (test=0.895) f1: (test=0.429) precision: (test=0.872) recall: (test=0.284) total time=  39.5s\n",
      "[CV 3/3] END xgb_clf__learning_rate=0.01, xgb_clf__max_depth=3, xgb_clf__n_estimators=500; accuracy: (test=0.899) f1: (test=0.457) precision: (test=0.887) recall: (test=0.308) total time=  40.0s\n",
      "[CV 1/3] END xgb_clf__learning_rate=0.01, xgb_clf__max_depth=6, xgb_clf__n_estimators=300; accuracy: (test=0.903) f1: (test=0.496) precision: (test=0.875) recall: (test=0.346) total time=  48.2s\n",
      "[CV 2/3] END xgb_clf__learning_rate=0.01, xgb_clf__max_depth=6, xgb_clf__n_estimators=300; accuracy: (test=0.902) f1: (test=0.491) precision: (test=0.871) recall: (test=0.342) total time= 1.0min\n",
      "[CV 3/3] END xgb_clf__learning_rate=0.01, xgb_clf__max_depth=6, xgb_clf__n_estimators=300; accuracy: (test=0.905) f1: (test=0.513) precision: (test=0.871) recall: (test=0.363) total time=  54.1s\n",
      "[CV 1/3] END xgb_clf__learning_rate=0.01, xgb_clf__max_depth=6, xgb_clf__n_estimators=500; accuracy: (test=0.907) f1: (test=0.530) precision: (test=0.874) recall: (test=0.380) total time= 1.5min\n",
      "[CV 2/3] END xgb_clf__learning_rate=0.01, xgb_clf__max_depth=6, xgb_clf__n_estimators=500; accuracy: (test=0.905) f1: (test=0.519) precision: (test=0.865) recall: (test=0.371) total time=  54.5s\n",
      "[CV 3/3] END xgb_clf__learning_rate=0.01, xgb_clf__max_depth=6, xgb_clf__n_estimators=500; accuracy: (test=0.907) f1: (test=0.536) precision: (test=0.869) recall: (test=0.387) total time=  51.0s\n",
      "[CV 1/3] END xgb_clf__learning_rate=0.1, xgb_clf__max_depth=3, xgb_clf__n_estimators=300; accuracy: (test=0.913) f1: (test=0.588) precision: (test=0.852) recall: (test=0.449) total time=  18.4s\n",
      "[CV 2/3] END xgb_clf__learning_rate=0.1, xgb_clf__max_depth=3, xgb_clf__n_estimators=300; accuracy: (test=0.912) f1: (test=0.582) precision: (test=0.849) recall: (test=0.442) total time=  17.9s\n",
      "[CV 3/3] END xgb_clf__learning_rate=0.1, xgb_clf__max_depth=3, xgb_clf__n_estimators=300; accuracy: (test=0.912) f1: (test=0.582) precision: (test=0.848) recall: (test=0.443) total time=  23.7s\n",
      "[CV 1/3] END xgb_clf__learning_rate=0.1, xgb_clf__max_depth=3, xgb_clf__n_estimators=500; accuracy: (test=0.915) f1: (test=0.605) precision: (test=0.847) recall: (test=0.471) total time=  33.7s\n",
      "[CV 2/3] END xgb_clf__learning_rate=0.1, xgb_clf__max_depth=3, xgb_clf__n_estimators=500; accuracy: (test=0.914) f1: (test=0.597) precision: (test=0.847) recall: (test=0.461) total time=  33.0s\n",
      "[CV 3/3] END xgb_clf__learning_rate=0.1, xgb_clf__max_depth=3, xgb_clf__n_estimators=500; accuracy: (test=0.915) f1: (test=0.600) precision: (test=0.845) recall: (test=0.465) total time=  27.7s\n",
      "[CV 1/3] END xgb_clf__learning_rate=0.1, xgb_clf__max_depth=6, xgb_clf__n_estimators=300; accuracy: (test=0.916) f1: (test=0.613) precision: (test=0.833) recall: (test=0.485) total time=  34.7s\n",
      "[CV 2/3] END xgb_clf__learning_rate=0.1, xgb_clf__max_depth=6, xgb_clf__n_estimators=300; accuracy: (test=0.915) f1: (test=0.609) precision: (test=0.839) recall: (test=0.478) total time=  32.7s\n",
      "[CV 3/3] END xgb_clf__learning_rate=0.1, xgb_clf__max_depth=6, xgb_clf__n_estimators=300; accuracy: (test=0.915) f1: (test=0.608) precision: (test=0.834) recall: (test=0.478) total time=  41.4s\n",
      "[CV 1/3] END xgb_clf__learning_rate=0.1, xgb_clf__max_depth=6, xgb_clf__n_estimators=500; accuracy: (test=0.916) f1: (test=0.618) precision: (test=0.826) recall: (test=0.494) total time=  56.1s\n",
      "[CV 2/3] END xgb_clf__learning_rate=0.1, xgb_clf__max_depth=6, xgb_clf__n_estimators=500; accuracy: (test=0.915) f1: (test=0.609) precision: (test=0.835) recall: (test=0.479) total time=  50.7s\n",
      "[CV 3/3] END xgb_clf__learning_rate=0.1, xgb_clf__max_depth=6, xgb_clf__n_estimators=500; accuracy: (test=0.915) f1: (test=0.611) precision: (test=0.825) recall: (test=0.485) total time=  52.8s\n"
     ]
    },
    {
     "data": {
      "text/html": [
       "<style>#sk-container-id-1 {color: black;background-color: white;}#sk-container-id-1 pre{padding: 0;}#sk-container-id-1 div.sk-toggleable {background-color: white;}#sk-container-id-1 label.sk-toggleable__label {cursor: pointer;display: block;width: 100%;margin-bottom: 0;padding: 0.3em;box-sizing: border-box;text-align: center;}#sk-container-id-1 label.sk-toggleable__label-arrow:before {content: \"▸\";float: left;margin-right: 0.25em;color: #696969;}#sk-container-id-1 label.sk-toggleable__label-arrow:hover:before {color: black;}#sk-container-id-1 div.sk-estimator:hover label.sk-toggleable__label-arrow:before {color: black;}#sk-container-id-1 div.sk-toggleable__content {max-height: 0;max-width: 0;overflow: hidden;text-align: left;background-color: #f0f8ff;}#sk-container-id-1 div.sk-toggleable__content pre {margin: 0.2em;color: black;border-radius: 0.25em;background-color: #f0f8ff;}#sk-container-id-1 input.sk-toggleable__control:checked~div.sk-toggleable__content {max-height: 200px;max-width: 100%;overflow: auto;}#sk-container-id-1 input.sk-toggleable__control:checked~label.sk-toggleable__label-arrow:before {content: \"▾\";}#sk-container-id-1 div.sk-estimator input.sk-toggleable__control:checked~label.sk-toggleable__label {background-color: #d4ebff;}#sk-container-id-1 div.sk-label input.sk-toggleable__control:checked~label.sk-toggleable__label {background-color: #d4ebff;}#sk-container-id-1 input.sk-hidden--visually {border: 0;clip: rect(1px 1px 1px 1px);clip: rect(1px, 1px, 1px, 1px);height: 1px;margin: -1px;overflow: hidden;padding: 0;position: absolute;width: 1px;}#sk-container-id-1 div.sk-estimator {font-family: monospace;background-color: #f0f8ff;border: 1px dotted black;border-radius: 0.25em;box-sizing: border-box;margin-bottom: 0.5em;}#sk-container-id-1 div.sk-estimator:hover {background-color: #d4ebff;}#sk-container-id-1 div.sk-parallel-item::after {content: \"\";width: 100%;border-bottom: 1px solid gray;flex-grow: 1;}#sk-container-id-1 div.sk-label:hover label.sk-toggleable__label {background-color: #d4ebff;}#sk-container-id-1 div.sk-serial::before {content: \"\";position: absolute;border-left: 1px solid gray;box-sizing: border-box;top: 0;bottom: 0;left: 50%;z-index: 0;}#sk-container-id-1 div.sk-serial {display: flex;flex-direction: column;align-items: center;background-color: white;padding-right: 0.2em;padding-left: 0.2em;position: relative;}#sk-container-id-1 div.sk-item {position: relative;z-index: 1;}#sk-container-id-1 div.sk-parallel {display: flex;align-items: stretch;justify-content: center;background-color: white;position: relative;}#sk-container-id-1 div.sk-item::before, #sk-container-id-1 div.sk-parallel-item::before {content: \"\";position: absolute;border-left: 1px solid gray;box-sizing: border-box;top: 0;bottom: 0;left: 50%;z-index: -1;}#sk-container-id-1 div.sk-parallel-item {display: flex;flex-direction: column;z-index: 1;position: relative;background-color: white;}#sk-container-id-1 div.sk-parallel-item:first-child::after {align-self: flex-end;width: 50%;}#sk-container-id-1 div.sk-parallel-item:last-child::after {align-self: flex-start;width: 50%;}#sk-container-id-1 div.sk-parallel-item:only-child::after {width: 0;}#sk-container-id-1 div.sk-dashed-wrapped {border: 1px dashed gray;margin: 0 0.4em 0.5em 0.4em;box-sizing: border-box;padding-bottom: 0.4em;background-color: white;}#sk-container-id-1 div.sk-label label {font-family: monospace;font-weight: bold;display: inline-block;line-height: 1.2em;}#sk-container-id-1 div.sk-label-container {text-align: center;}#sk-container-id-1 div.sk-container {/* jupyter's `normalize.less` sets `[hidden] { display: none; }` but bootstrap.min.css set `[hidden] { display: none !important; }` so we also need the `!important` here to be able to override the default hidden behavior on the sphinx rendered scikit-learn.org. See: https://github.com/scikit-learn/scikit-learn/issues/21755 */display: inline-block !important;position: relative;}#sk-container-id-1 div.sk-text-repr-fallback {display: none;}</style><div id=\"sk-container-id-1\" class=\"sk-top-container\"><div class=\"sk-text-repr-fallback\"><pre>GridSearchCV(cv=StratifiedKFold(n_splits=3, random_state=214, shuffle=True),\n",
       "             estimator=Pipeline(steps=[(&#x27;tfidf_vec&#x27;,\n",
       "                                        TfidfVectorizer(decode_error=&#x27;replace&#x27;,\n",
       "                                                        max_features=3000,\n",
       "                                                        ngram_range=(1, 2),\n",
       "                                                        strip_accents=&#x27;ascii&#x27;)),\n",
       "                                       (&#x27;xgb_clf&#x27;,\n",
       "                                        XGBClassifier(base_score=None,\n",
       "                                                      booster=None,\n",
       "                                                      callbacks=None,\n",
       "                                                      colsample_bylevel=None,\n",
       "                                                      colsample_bynode=None,\n",
       "                                                      colsample_bytree=None,\n",
       "                                                      ea...\n",
       "                                                      max_leaves=None,\n",
       "                                                      min_child_weight=None,\n",
       "                                                      missing=nan,\n",
       "                                                      monotone_constraints=None,\n",
       "                                                      n_estimators=100,\n",
       "                                                      n_jobs=None,\n",
       "                                                      num_parallel_tree=None,\n",
       "                                                      predictor=None,\n",
       "                                                      random_state=214, ...))]),\n",
       "             n_jobs=1,\n",
       "             param_grid={&#x27;xgb_clf__learning_rate&#x27;: [0.01, 0.1],\n",
       "                         &#x27;xgb_clf__max_depth&#x27;: [3, 6],\n",
       "                         &#x27;xgb_clf__n_estimators&#x27;: [300, 500]},\n",
       "             refit=&#x27;recall&#x27;, scoring=[&#x27;accuracy&#x27;, &#x27;f1&#x27;, &#x27;precision&#x27;, &#x27;recall&#x27;],\n",
       "             verbose=3)</pre><b>In a Jupyter environment, please rerun this cell to show the HTML representation or trust the notebook. <br />On GitHub, the HTML representation is unable to render, please try loading this page with nbviewer.org.</b></div><div class=\"sk-container\" hidden><div class=\"sk-item sk-dashed-wrapped\"><div class=\"sk-label-container\"><div class=\"sk-label sk-toggleable\"><input class=\"sk-toggleable__control sk-hidden--visually\" id=\"sk-estimator-id-1\" type=\"checkbox\" ><label for=\"sk-estimator-id-1\" class=\"sk-toggleable__label sk-toggleable__label-arrow\">GridSearchCV</label><div class=\"sk-toggleable__content\"><pre>GridSearchCV(cv=StratifiedKFold(n_splits=3, random_state=214, shuffle=True),\n",
       "             estimator=Pipeline(steps=[(&#x27;tfidf_vec&#x27;,\n",
       "                                        TfidfVectorizer(decode_error=&#x27;replace&#x27;,\n",
       "                                                        max_features=3000,\n",
       "                                                        ngram_range=(1, 2),\n",
       "                                                        strip_accents=&#x27;ascii&#x27;)),\n",
       "                                       (&#x27;xgb_clf&#x27;,\n",
       "                                        XGBClassifier(base_score=None,\n",
       "                                                      booster=None,\n",
       "                                                      callbacks=None,\n",
       "                                                      colsample_bylevel=None,\n",
       "                                                      colsample_bynode=None,\n",
       "                                                      colsample_bytree=None,\n",
       "                                                      ea...\n",
       "                                                      max_leaves=None,\n",
       "                                                      min_child_weight=None,\n",
       "                                                      missing=nan,\n",
       "                                                      monotone_constraints=None,\n",
       "                                                      n_estimators=100,\n",
       "                                                      n_jobs=None,\n",
       "                                                      num_parallel_tree=None,\n",
       "                                                      predictor=None,\n",
       "                                                      random_state=214, ...))]),\n",
       "             n_jobs=1,\n",
       "             param_grid={&#x27;xgb_clf__learning_rate&#x27;: [0.01, 0.1],\n",
       "                         &#x27;xgb_clf__max_depth&#x27;: [3, 6],\n",
       "                         &#x27;xgb_clf__n_estimators&#x27;: [300, 500]},\n",
       "             refit=&#x27;recall&#x27;, scoring=[&#x27;accuracy&#x27;, &#x27;f1&#x27;, &#x27;precision&#x27;, &#x27;recall&#x27;],\n",
       "             verbose=3)</pre></div></div></div><div class=\"sk-parallel\"><div class=\"sk-parallel-item\"><div class=\"sk-item\"><div class=\"sk-label-container\"><div class=\"sk-label sk-toggleable\"><input class=\"sk-toggleable__control sk-hidden--visually\" id=\"sk-estimator-id-2\" type=\"checkbox\" ><label for=\"sk-estimator-id-2\" class=\"sk-toggleable__label sk-toggleable__label-arrow\">estimator: Pipeline</label><div class=\"sk-toggleable__content\"><pre>Pipeline(steps=[(&#x27;tfidf_vec&#x27;,\n",
       "                 TfidfVectorizer(decode_error=&#x27;replace&#x27;, max_features=3000,\n",
       "                                 ngram_range=(1, 2), strip_accents=&#x27;ascii&#x27;)),\n",
       "                (&#x27;xgb_clf&#x27;,\n",
       "                 XGBClassifier(base_score=None, booster=None, callbacks=None,\n",
       "                               colsample_bylevel=None, colsample_bynode=None,\n",
       "                               colsample_bytree=None,\n",
       "                               early_stopping_rounds=None,\n",
       "                               enable_categorical=False, eval_metric=None,\n",
       "                               feature_types=Non...ne,\n",
       "                               grow_policy=None, importance_type=None,\n",
       "                               interaction_constraints=None, learning_rate=None,\n",
       "                               max_bin=None, max_cat_threshold=None,\n",
       "                               max_cat_to_onehot=None, max_delta_step=None,\n",
       "                               max_depth=None, max_leaves=None,\n",
       "                               min_child_weight=None, missing=nan,\n",
       "                               monotone_constraints=None, n_estimators=100,\n",
       "                               n_jobs=None, num_parallel_tree=None,\n",
       "                               predictor=None, random_state=214, ...))])</pre></div></div></div><div class=\"sk-serial\"><div class=\"sk-item\"><div class=\"sk-serial\"><div class=\"sk-item\"><div class=\"sk-estimator sk-toggleable\"><input class=\"sk-toggleable__control sk-hidden--visually\" id=\"sk-estimator-id-3\" type=\"checkbox\" ><label for=\"sk-estimator-id-3\" class=\"sk-toggleable__label sk-toggleable__label-arrow\">TfidfVectorizer</label><div class=\"sk-toggleable__content\"><pre>TfidfVectorizer(decode_error=&#x27;replace&#x27;, max_features=3000, ngram_range=(1, 2),\n",
       "                strip_accents=&#x27;ascii&#x27;)</pre></div></div></div><div class=\"sk-item\"><div class=\"sk-estimator sk-toggleable\"><input class=\"sk-toggleable__control sk-hidden--visually\" id=\"sk-estimator-id-4\" type=\"checkbox\" ><label for=\"sk-estimator-id-4\" class=\"sk-toggleable__label sk-toggleable__label-arrow\">XGBClassifier</label><div class=\"sk-toggleable__content\"><pre>XGBClassifier(base_score=None, booster=None, callbacks=None,\n",
       "              colsample_bylevel=None, colsample_bynode=None,\n",
       "              colsample_bytree=None, early_stopping_rounds=None,\n",
       "              enable_categorical=False, eval_metric=None, feature_types=None,\n",
       "              gamma=None, gpu_id=None, grow_policy=None, importance_type=None,\n",
       "              interaction_constraints=None, learning_rate=None, max_bin=None,\n",
       "              max_cat_threshold=None, max_cat_to_onehot=None,\n",
       "              max_delta_step=None, max_depth=None, max_leaves=None,\n",
       "              min_child_weight=None, missing=nan, monotone_constraints=None,\n",
       "              n_estimators=100, n_jobs=None, num_parallel_tree=None,\n",
       "              predictor=None, random_state=214, ...)</pre></div></div></div></div></div></div></div></div></div></div></div></div>"
      ],
      "text/plain": [
       "GridSearchCV(cv=StratifiedKFold(n_splits=3, random_state=214, shuffle=True),\n",
       "             estimator=Pipeline(steps=[('tfidf_vec',\n",
       "                                        TfidfVectorizer(decode_error='replace',\n",
       "                                                        max_features=3000,\n",
       "                                                        ngram_range=(1, 2),\n",
       "                                                        strip_accents='ascii')),\n",
       "                                       ('xgb_clf',\n",
       "                                        XGBClassifier(base_score=None,\n",
       "                                                      booster=None,\n",
       "                                                      callbacks=None,\n",
       "                                                      colsample_bylevel=None,\n",
       "                                                      colsample_bynode=None,\n",
       "                                                      colsample_bytree=None,\n",
       "                                                      ea...\n",
       "                                                      max_leaves=None,\n",
       "                                                      min_child_weight=None,\n",
       "                                                      missing=nan,\n",
       "                                                      monotone_constraints=None,\n",
       "                                                      n_estimators=100,\n",
       "                                                      n_jobs=None,\n",
       "                                                      num_parallel_tree=None,\n",
       "                                                      predictor=None,\n",
       "                                                      random_state=214, ...))]),\n",
       "             n_jobs=1,\n",
       "             param_grid={'xgb_clf__learning_rate': [0.01, 0.1],\n",
       "                         'xgb_clf__max_depth': [3, 6],\n",
       "                         'xgb_clf__n_estimators': [300, 500]},\n",
       "             refit='recall', scoring=['accuracy', 'f1', 'precision', 'recall'],\n",
       "             verbose=3)"
      ]
     },
     "execution_count": 26,
     "metadata": {},
     "output_type": "execute_result"
    }
   ],
   "source": [
    "grid_search.fit(X_train, y_train)"
   ]
  },
  {
   "cell_type": "code",
   "execution_count": 15,
   "metadata": {},
   "outputs": [],
   "source": [
    "model_pipe = Pipeline(\n",
    "    [\n",
    "        (\n",
    "            \"tfidf_vec\",\n",
    "            TfidfVectorizer(\n",
    "                ngram_range=(1, 2),\n",
    "                max_features=3000,\n",
    "                decode_error=\"replace\",\n",
    "                strip_accents=\"ascii\",\n",
    "                lowercase=True,\n",
    "            ),\n",
    "        ),\n",
    "        (\"rndf_clf\", RandomForestClassifier(n_jobs=-1)),\n",
    "    ]\n",
    ")\n",
    "\n",
    "params = {\n",
    "    \"rndf_clf__n_estimators\": [500, 800],\n",
    "    \"rndf_clf__max_depth\": [None],\n",
    "    \"rndf_clf__min_samples_split\": [2],\n",
    "    \"rndf_clf__class_weight\": [\"balanced\", None],\n",
    "}\n",
    "\n",
    "kfold = StratifiedKFold(n_splits=3, shuffle=True, random_state=RANDOM_STATE)\n",
    "grid_search = GridSearchCV(\n",
    "    model_pipe,\n",
    "    params,\n",
    "    cv=kfold,\n",
    "    scoring=[\"accuracy\", \"f1\", \"precision\", \"recall\"],\n",
    "    refit=\"f1\",\n",
    "    n_jobs=1,\n",
    "    verbose=3,\n",
    ")"
   ]
  },
  {
   "cell_type": "code",
   "execution_count": 16,
   "metadata": {},
   "outputs": [
    {
     "name": "stdout",
     "output_type": "stream",
     "text": [
      "Fitting 3 folds for each of 4 candidates, totalling 12 fits\n",
      "[CV 1/3] END rndf_clf__class_weight=balanced, rndf_clf__max_depth=None, rndf_clf__min_samples_split=2, rndf_clf__n_estimators=500; accuracy: (test=0.915) f1: (test=0.618) precision: (test=0.808) recall: (test=0.500) total time= 1.5min\n",
      "[CV 2/3] END rndf_clf__class_weight=balanced, rndf_clf__max_depth=None, rndf_clf__min_samples_split=2, rndf_clf__n_estimators=500; accuracy: (test=0.915) f1: (test=0.619) precision: (test=0.805) recall: (test=0.503) total time= 1.7min\n",
      "[CV 3/3] END rndf_clf__class_weight=balanced, rndf_clf__max_depth=None, rndf_clf__min_samples_split=2, rndf_clf__n_estimators=500; accuracy: (test=0.914) f1: (test=0.616) precision: (test=0.808) recall: (test=0.498) total time= 1.4min\n",
      "[CV 1/3] END rndf_clf__class_weight=balanced, rndf_clf__max_depth=None, rndf_clf__min_samples_split=2, rndf_clf__n_estimators=800; accuracy: (test=0.913) f1: (test=0.613) precision: (test=0.799) recall: (test=0.497) total time= 2.3min\n",
      "[CV 2/3] END rndf_clf__class_weight=balanced, rndf_clf__max_depth=None, rndf_clf__min_samples_split=2, rndf_clf__n_estimators=800; accuracy: (test=0.915) f1: (test=0.619) precision: (test=0.805) recall: (test=0.503) total time= 2.3min\n",
      "[CV 3/3] END rndf_clf__class_weight=balanced, rndf_clf__max_depth=None, rndf_clf__min_samples_split=2, rndf_clf__n_estimators=800; accuracy: (test=0.915) f1: (test=0.618) precision: (test=0.812) recall: (test=0.498) total time= 2.3min\n",
      "[CV 1/3] END rndf_clf__class_weight=None, rndf_clf__max_depth=None, rndf_clf__min_samples_split=2, rndf_clf__n_estimators=500; accuracy: (test=0.917) f1: (test=0.634) precision: (test=0.810) recall: (test=0.520) total time= 2.1min\n",
      "[CV 2/3] END rndf_clf__class_weight=None, rndf_clf__max_depth=None, rndf_clf__min_samples_split=2, rndf_clf__n_estimators=500; accuracy: (test=0.916) f1: (test=0.630) precision: (test=0.802) recall: (test=0.518) total time= 2.0min\n",
      "[CV 3/3] END rndf_clf__class_weight=None, rndf_clf__max_depth=None, rndf_clf__min_samples_split=2, rndf_clf__n_estimators=500; accuracy: (test=0.916) f1: (test=0.630) precision: (test=0.807) recall: (test=0.517) total time= 1.8min\n",
      "[CV 1/3] END rndf_clf__class_weight=None, rndf_clf__max_depth=None, rndf_clf__min_samples_split=2, rndf_clf__n_estimators=800; accuracy: (test=0.917) f1: (test=0.635) precision: (test=0.813) recall: (test=0.522) total time= 3.0min\n",
      "[CV 2/3] END rndf_clf__class_weight=None, rndf_clf__max_depth=None, rndf_clf__min_samples_split=2, rndf_clf__n_estimators=800; accuracy: (test=0.916) f1: (test=0.632) precision: (test=0.802) recall: (test=0.521) total time= 3.1min\n",
      "[CV 3/3] END rndf_clf__class_weight=None, rndf_clf__max_depth=None, rndf_clf__min_samples_split=2, rndf_clf__n_estimators=800; accuracy: (test=0.916) f1: (test=0.630) precision: (test=0.808) recall: (test=0.517) total time= 2.6min\n"
     ]
    },
    {
     "data": {
      "text/html": [
       "<style>#sk-container-id-1 {color: black;background-color: white;}#sk-container-id-1 pre{padding: 0;}#sk-container-id-1 div.sk-toggleable {background-color: white;}#sk-container-id-1 label.sk-toggleable__label {cursor: pointer;display: block;width: 100%;margin-bottom: 0;padding: 0.3em;box-sizing: border-box;text-align: center;}#sk-container-id-1 label.sk-toggleable__label-arrow:before {content: \"▸\";float: left;margin-right: 0.25em;color: #696969;}#sk-container-id-1 label.sk-toggleable__label-arrow:hover:before {color: black;}#sk-container-id-1 div.sk-estimator:hover label.sk-toggleable__label-arrow:before {color: black;}#sk-container-id-1 div.sk-toggleable__content {max-height: 0;max-width: 0;overflow: hidden;text-align: left;background-color: #f0f8ff;}#sk-container-id-1 div.sk-toggleable__content pre {margin: 0.2em;color: black;border-radius: 0.25em;background-color: #f0f8ff;}#sk-container-id-1 input.sk-toggleable__control:checked~div.sk-toggleable__content {max-height: 200px;max-width: 100%;overflow: auto;}#sk-container-id-1 input.sk-toggleable__control:checked~label.sk-toggleable__label-arrow:before {content: \"▾\";}#sk-container-id-1 div.sk-estimator input.sk-toggleable__control:checked~label.sk-toggleable__label {background-color: #d4ebff;}#sk-container-id-1 div.sk-label input.sk-toggleable__control:checked~label.sk-toggleable__label {background-color: #d4ebff;}#sk-container-id-1 input.sk-hidden--visually {border: 0;clip: rect(1px 1px 1px 1px);clip: rect(1px, 1px, 1px, 1px);height: 1px;margin: -1px;overflow: hidden;padding: 0;position: absolute;width: 1px;}#sk-container-id-1 div.sk-estimator {font-family: monospace;background-color: #f0f8ff;border: 1px dotted black;border-radius: 0.25em;box-sizing: border-box;margin-bottom: 0.5em;}#sk-container-id-1 div.sk-estimator:hover {background-color: #d4ebff;}#sk-container-id-1 div.sk-parallel-item::after {content: \"\";width: 100%;border-bottom: 1px solid gray;flex-grow: 1;}#sk-container-id-1 div.sk-label:hover label.sk-toggleable__label {background-color: #d4ebff;}#sk-container-id-1 div.sk-serial::before {content: \"\";position: absolute;border-left: 1px solid gray;box-sizing: border-box;top: 0;bottom: 0;left: 50%;z-index: 0;}#sk-container-id-1 div.sk-serial {display: flex;flex-direction: column;align-items: center;background-color: white;padding-right: 0.2em;padding-left: 0.2em;position: relative;}#sk-container-id-1 div.sk-item {position: relative;z-index: 1;}#sk-container-id-1 div.sk-parallel {display: flex;align-items: stretch;justify-content: center;background-color: white;position: relative;}#sk-container-id-1 div.sk-item::before, #sk-container-id-1 div.sk-parallel-item::before {content: \"\";position: absolute;border-left: 1px solid gray;box-sizing: border-box;top: 0;bottom: 0;left: 50%;z-index: -1;}#sk-container-id-1 div.sk-parallel-item {display: flex;flex-direction: column;z-index: 1;position: relative;background-color: white;}#sk-container-id-1 div.sk-parallel-item:first-child::after {align-self: flex-end;width: 50%;}#sk-container-id-1 div.sk-parallel-item:last-child::after {align-self: flex-start;width: 50%;}#sk-container-id-1 div.sk-parallel-item:only-child::after {width: 0;}#sk-container-id-1 div.sk-dashed-wrapped {border: 1px dashed gray;margin: 0 0.4em 0.5em 0.4em;box-sizing: border-box;padding-bottom: 0.4em;background-color: white;}#sk-container-id-1 div.sk-label label {font-family: monospace;font-weight: bold;display: inline-block;line-height: 1.2em;}#sk-container-id-1 div.sk-label-container {text-align: center;}#sk-container-id-1 div.sk-container {/* jupyter's `normalize.less` sets `[hidden] { display: none; }` but bootstrap.min.css set `[hidden] { display: none !important; }` so we also need the `!important` here to be able to override the default hidden behavior on the sphinx rendered scikit-learn.org. See: https://github.com/scikit-learn/scikit-learn/issues/21755 */display: inline-block !important;position: relative;}#sk-container-id-1 div.sk-text-repr-fallback {display: none;}</style><div id=\"sk-container-id-1\" class=\"sk-top-container\"><div class=\"sk-text-repr-fallback\"><pre>GridSearchCV(cv=StratifiedKFold(n_splits=3, random_state=214, shuffle=True),\n",
       "             estimator=Pipeline(steps=[(&#x27;tfidf_vec&#x27;,\n",
       "                                        TfidfVectorizer(decode_error=&#x27;replace&#x27;,\n",
       "                                                        max_features=3000,\n",
       "                                                        ngram_range=(1, 2),\n",
       "                                                        strip_accents=&#x27;ascii&#x27;)),\n",
       "                                       (&#x27;rndf_clf&#x27;,\n",
       "                                        RandomForestClassifier(n_jobs=-1))]),\n",
       "             n_jobs=1,\n",
       "             param_grid={&#x27;rndf_clf__class_weight&#x27;: [&#x27;balanced&#x27;, None],\n",
       "                         &#x27;rndf_clf__max_depth&#x27;: [None],\n",
       "                         &#x27;rndf_clf__min_samples_split&#x27;: [2],\n",
       "                         &#x27;rndf_clf__n_estimators&#x27;: [500, 800]},\n",
       "             refit=&#x27;f1&#x27;, scoring=[&#x27;accuracy&#x27;, &#x27;f1&#x27;, &#x27;precision&#x27;, &#x27;recall&#x27;],\n",
       "             verbose=3)</pre><b>In a Jupyter environment, please rerun this cell to show the HTML representation or trust the notebook. <br />On GitHub, the HTML representation is unable to render, please try loading this page with nbviewer.org.</b></div><div class=\"sk-container\" hidden><div class=\"sk-item sk-dashed-wrapped\"><div class=\"sk-label-container\"><div class=\"sk-label sk-toggleable\"><input class=\"sk-toggleable__control sk-hidden--visually\" id=\"sk-estimator-id-1\" type=\"checkbox\" ><label for=\"sk-estimator-id-1\" class=\"sk-toggleable__label sk-toggleable__label-arrow\">GridSearchCV</label><div class=\"sk-toggleable__content\"><pre>GridSearchCV(cv=StratifiedKFold(n_splits=3, random_state=214, shuffle=True),\n",
       "             estimator=Pipeline(steps=[(&#x27;tfidf_vec&#x27;,\n",
       "                                        TfidfVectorizer(decode_error=&#x27;replace&#x27;,\n",
       "                                                        max_features=3000,\n",
       "                                                        ngram_range=(1, 2),\n",
       "                                                        strip_accents=&#x27;ascii&#x27;)),\n",
       "                                       (&#x27;rndf_clf&#x27;,\n",
       "                                        RandomForestClassifier(n_jobs=-1))]),\n",
       "             n_jobs=1,\n",
       "             param_grid={&#x27;rndf_clf__class_weight&#x27;: [&#x27;balanced&#x27;, None],\n",
       "                         &#x27;rndf_clf__max_depth&#x27;: [None],\n",
       "                         &#x27;rndf_clf__min_samples_split&#x27;: [2],\n",
       "                         &#x27;rndf_clf__n_estimators&#x27;: [500, 800]},\n",
       "             refit=&#x27;f1&#x27;, scoring=[&#x27;accuracy&#x27;, &#x27;f1&#x27;, &#x27;precision&#x27;, &#x27;recall&#x27;],\n",
       "             verbose=3)</pre></div></div></div><div class=\"sk-parallel\"><div class=\"sk-parallel-item\"><div class=\"sk-item\"><div class=\"sk-label-container\"><div class=\"sk-label sk-toggleable\"><input class=\"sk-toggleable__control sk-hidden--visually\" id=\"sk-estimator-id-2\" type=\"checkbox\" ><label for=\"sk-estimator-id-2\" class=\"sk-toggleable__label sk-toggleable__label-arrow\">estimator: Pipeline</label><div class=\"sk-toggleable__content\"><pre>Pipeline(steps=[(&#x27;tfidf_vec&#x27;,\n",
       "                 TfidfVectorizer(decode_error=&#x27;replace&#x27;, max_features=3000,\n",
       "                                 ngram_range=(1, 2), strip_accents=&#x27;ascii&#x27;)),\n",
       "                (&#x27;rndf_clf&#x27;, RandomForestClassifier(n_jobs=-1))])</pre></div></div></div><div class=\"sk-serial\"><div class=\"sk-item\"><div class=\"sk-serial\"><div class=\"sk-item\"><div class=\"sk-estimator sk-toggleable\"><input class=\"sk-toggleable__control sk-hidden--visually\" id=\"sk-estimator-id-3\" type=\"checkbox\" ><label for=\"sk-estimator-id-3\" class=\"sk-toggleable__label sk-toggleable__label-arrow\">TfidfVectorizer</label><div class=\"sk-toggleable__content\"><pre>TfidfVectorizer(decode_error=&#x27;replace&#x27;, max_features=3000, ngram_range=(1, 2),\n",
       "                strip_accents=&#x27;ascii&#x27;)</pre></div></div></div><div class=\"sk-item\"><div class=\"sk-estimator sk-toggleable\"><input class=\"sk-toggleable__control sk-hidden--visually\" id=\"sk-estimator-id-4\" type=\"checkbox\" ><label for=\"sk-estimator-id-4\" class=\"sk-toggleable__label sk-toggleable__label-arrow\">RandomForestClassifier</label><div class=\"sk-toggleable__content\"><pre>RandomForestClassifier(n_jobs=-1)</pre></div></div></div></div></div></div></div></div></div></div></div></div>"
      ],
      "text/plain": [
       "GridSearchCV(cv=StratifiedKFold(n_splits=3, random_state=214, shuffle=True),\n",
       "             estimator=Pipeline(steps=[('tfidf_vec',\n",
       "                                        TfidfVectorizer(decode_error='replace',\n",
       "                                                        max_features=3000,\n",
       "                                                        ngram_range=(1, 2),\n",
       "                                                        strip_accents='ascii')),\n",
       "                                       ('rndf_clf',\n",
       "                                        RandomForestClassifier(n_jobs=-1))]),\n",
       "             n_jobs=1,\n",
       "             param_grid={'rndf_clf__class_weight': ['balanced', None],\n",
       "                         'rndf_clf__max_depth': [None],\n",
       "                         'rndf_clf__min_samples_split': [2],\n",
       "                         'rndf_clf__n_estimators': [500, 800]},\n",
       "             refit='f1', scoring=['accuracy', 'f1', 'precision', 'recall'],\n",
       "             verbose=3)"
      ]
     },
     "execution_count": 16,
     "metadata": {},
     "output_type": "execute_result"
    }
   ],
   "source": [
    "grid_search.fit(X_train, y_train)"
   ]
  },
  {
   "cell_type": "code",
   "execution_count": 17,
   "metadata": {},
   "outputs": [],
   "source": [
    "results = pd.DataFrame(grid_search.cv_results_)\n",
    "# save results\n",
    "results.to_csv('../results/binary_classifier_grid_search.csv', index=False)"
   ]
  },
  {
   "cell_type": "code",
   "execution_count": 18,
   "metadata": {},
   "outputs": [],
   "source": [
    "import pickle"
   ]
  },
  {
   "cell_type": "code",
   "execution_count": 22,
   "metadata": {},
   "outputs": [],
   "source": [
    "## Save the best model using pickle\n",
    "best_model = grid_search.best_estimator_\n",
    "\n",
    "with open('../models/binary_classifier_best_model.pkl', 'wb') as f:\n",
    "    pickle.dump(best_model, f)    "
   ]
  },
  {
   "cell_type": "code",
   "execution_count": 31,
   "metadata": {},
   "outputs": [],
   "source": [
    "# score in test set\n",
    "\n",
    "y_pred = best_model.predict(X_test)\n",
    "\n",
    "results_test = {\n",
    "    \"accuracy\": accuracy_score(y_test, y_pred),\n",
    "    \"f1\": f1_score(y_test, y_pred),\n",
    "    \"precision\": precision_score(y_test, y_pred),\n",
    "    \"recall\": recall_score(y_test, y_pred),\n",
    "}\n"
   ]
  },
  {
   "cell_type": "code",
   "execution_count": 35,
   "metadata": {},
   "outputs": [],
   "source": [
    "# save the results from the best model in test set in the models folder\n",
    "\n",
    "with open('../models/binary_classifier_best_model_results.json', 'wb') as f:\n",
    "    results_test_json = json.dumps(results_test)\n",
    "    f.write(results_test_json.encode('utf-8'))"
   ]
  },
  {
   "cell_type": "code",
   "execution_count": null,
   "metadata": {},
   "outputs": [],
   "source": []
  }
 ],
 "metadata": {
  "kernelspec": {
   "display_name": "Python 3",
   "language": "python",
   "name": "python3"
  },
  "language_info": {
   "codemirror_mode": {
    "name": "ipython",
    "version": 3
   },
   "file_extension": ".py",
   "mimetype": "text/x-python",
   "name": "python",
   "nbconvert_exporter": "python",
   "pygments_lexer": "ipython3",
   "version": "3.10.6"
  },
  "orig_nbformat": 4
 },
 "nbformat": 4,
 "nbformat_minor": 2
}
