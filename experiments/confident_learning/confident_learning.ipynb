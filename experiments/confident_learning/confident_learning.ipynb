{
 "cells": [
  {
   "attachments": {},
   "cell_type": "markdown",
   "metadata": {},
   "source": [
    "## Importing Libraries"
   ]
  },
  {
   "cell_type": "code",
   "execution_count": null,
   "metadata": {},
   "outputs": [],
   "source": [
    "!pip install cleanlab[all]"
   ]
  },
  {
   "cell_type": "code",
   "execution_count": 1,
   "metadata": {},
   "outputs": [
    {
     "name": "stderr",
     "output_type": "stream",
     "text": [
      "/home/jaolima/.local/lib/python3.10/site-packages/tqdm/auto.py:21: TqdmWarning: IProgress not found. Please update jupyter and ipywidgets. See https://ipywidgets.readthedocs.io/en/stable/user_install.html\n",
      "  from .autonotebook import tqdm as notebook_tqdm\n"
     ]
    }
   ],
   "source": [
    "import pandas as pd\n",
    "import numpy as np\n",
    "\n",
    "from sklearn.feature_extraction.text import TfidfVectorizer\n",
    "from sklearn.ensemble import RandomForestClassifier\n",
    "\n",
    "from sklearn.model_selection import train_test_split, cross_val_score, cross_val_predict\n",
    "from sklearn.model_selection import GridSearchCV, StratifiedKFold\n",
    "from sklearn.pipeline import Pipeline\n",
    "\n",
    "from sklearn.metrics import accuracy_score, precision_score, recall_score, f1_score\n",
    "from sklearn.metrics import confusion_matrix, classification_report\n",
    "\n",
    "from cleanlab import Datalab\n",
    "import json\n",
    "\n",
    "RANDOM_SEED = 214\n",
    "np.random.seed(RANDOM_SEED)"
   ]
  },
  {
   "attachments": {},
   "cell_type": "markdown",
   "metadata": {},
   "source": [
    "## Importing data"
   ]
  },
  {
   "cell_type": "code",
   "execution_count": 2,
   "metadata": {},
   "outputs": [
    {
     "data": {
      "text/html": [
       "<div>\n",
       "<style scoped>\n",
       "    .dataframe tbody tr th:only-of-type {\n",
       "        vertical-align: middle;\n",
       "    }\n",
       "\n",
       "    .dataframe tbody tr th {\n",
       "        vertical-align: top;\n",
       "    }\n",
       "\n",
       "    .dataframe thead th {\n",
       "        text-align: right;\n",
       "    }\n",
       "</style>\n",
       "<table border=\"1\" class=\"dataframe\">\n",
       "  <thead>\n",
       "    <tr style=\"text-align: right;\">\n",
       "      <th>tema</th>\n",
       "      <th>id</th>\n",
       "      <th>ementa</th>\n",
       "      <th>Administração Pública</th>\n",
       "      <th>Agricultura, Pecuária, Pesca e Extrativismo</th>\n",
       "      <th>Arte, Cultura e Religião</th>\n",
       "      <th>Cidades e Desenvolvimento Urbano</th>\n",
       "      <th>Comunicações</th>\n",
       "      <th>Defesa e Segurança</th>\n",
       "      <th>Direito Civil e Processual Civil</th>\n",
       "      <th>Direito Penal e Processual Penal</th>\n",
       "      <th>...</th>\n",
       "      <th>Finanças Públicas e Orçamento</th>\n",
       "      <th>Homenagens e Datas Comemorativas</th>\n",
       "      <th>Indústria, Comércio e Serviços</th>\n",
       "      <th>Meio Ambiente e Desenvolvimento Sustentável</th>\n",
       "      <th>Política, Partidos e Eleições</th>\n",
       "      <th>Previdência e Assistência Social</th>\n",
       "      <th>Saúde</th>\n",
       "      <th>Trabalho e Emprego</th>\n",
       "      <th>Viação, Transporte e Mobilidade</th>\n",
       "      <th>Outro</th>\n",
       "    </tr>\n",
       "  </thead>\n",
       "  <tbody>\n",
       "    <tr>\n",
       "      <th>0</th>\n",
       "      <td>14919</td>\n",
       "      <td>Dispõe sobre a Política Nacional de Salários, ...</td>\n",
       "      <td>0</td>\n",
       "      <td>0</td>\n",
       "      <td>0</td>\n",
       "      <td>0</td>\n",
       "      <td>0</td>\n",
       "      <td>0</td>\n",
       "      <td>0</td>\n",
       "      <td>0</td>\n",
       "      <td>...</td>\n",
       "      <td>0</td>\n",
       "      <td>0</td>\n",
       "      <td>0</td>\n",
       "      <td>0</td>\n",
       "      <td>0</td>\n",
       "      <td>0</td>\n",
       "      <td>0</td>\n",
       "      <td>1</td>\n",
       "      <td>0</td>\n",
       "      <td>0</td>\n",
       "    </tr>\n",
       "    <tr>\n",
       "      <th>1</th>\n",
       "      <td>14920</td>\n",
       "      <td>Modifica o art. 6º da Lei nº 9.424, de 24 de d...</td>\n",
       "      <td>0</td>\n",
       "      <td>0</td>\n",
       "      <td>0</td>\n",
       "      <td>0</td>\n",
       "      <td>0</td>\n",
       "      <td>0</td>\n",
       "      <td>0</td>\n",
       "      <td>0</td>\n",
       "      <td>...</td>\n",
       "      <td>0</td>\n",
       "      <td>0</td>\n",
       "      <td>0</td>\n",
       "      <td>0</td>\n",
       "      <td>0</td>\n",
       "      <td>0</td>\n",
       "      <td>0</td>\n",
       "      <td>0</td>\n",
       "      <td>0</td>\n",
       "      <td>0</td>\n",
       "    </tr>\n",
       "    <tr>\n",
       "      <th>2</th>\n",
       "      <td>14921</td>\n",
       "      <td>Dispõe sobre salário-família e dá outras provi...</td>\n",
       "      <td>0</td>\n",
       "      <td>0</td>\n",
       "      <td>0</td>\n",
       "      <td>0</td>\n",
       "      <td>0</td>\n",
       "      <td>0</td>\n",
       "      <td>0</td>\n",
       "      <td>0</td>\n",
       "      <td>...</td>\n",
       "      <td>0</td>\n",
       "      <td>0</td>\n",
       "      <td>0</td>\n",
       "      <td>0</td>\n",
       "      <td>0</td>\n",
       "      <td>0</td>\n",
       "      <td>0</td>\n",
       "      <td>1</td>\n",
       "      <td>0</td>\n",
       "      <td>0</td>\n",
       "    </tr>\n",
       "    <tr>\n",
       "      <th>3</th>\n",
       "      <td>14922</td>\n",
       "      <td>Modifica a Lei nº 4.117, de 1962, que \"institu...</td>\n",
       "      <td>0</td>\n",
       "      <td>0</td>\n",
       "      <td>0</td>\n",
       "      <td>0</td>\n",
       "      <td>0</td>\n",
       "      <td>0</td>\n",
       "      <td>0</td>\n",
       "      <td>0</td>\n",
       "      <td>...</td>\n",
       "      <td>0</td>\n",
       "      <td>0</td>\n",
       "      <td>1</td>\n",
       "      <td>0</td>\n",
       "      <td>0</td>\n",
       "      <td>0</td>\n",
       "      <td>0</td>\n",
       "      <td>0</td>\n",
       "      <td>0</td>\n",
       "      <td>0</td>\n",
       "    </tr>\n",
       "    <tr>\n",
       "      <th>4</th>\n",
       "      <td>14923</td>\n",
       "      <td>Concede isenção do imposto sobre produtos indu...</td>\n",
       "      <td>0</td>\n",
       "      <td>0</td>\n",
       "      <td>0</td>\n",
       "      <td>0</td>\n",
       "      <td>0</td>\n",
       "      <td>0</td>\n",
       "      <td>0</td>\n",
       "      <td>0</td>\n",
       "      <td>...</td>\n",
       "      <td>1</td>\n",
       "      <td>0</td>\n",
       "      <td>0</td>\n",
       "      <td>0</td>\n",
       "      <td>0</td>\n",
       "      <td>0</td>\n",
       "      <td>0</td>\n",
       "      <td>0</td>\n",
       "      <td>1</td>\n",
       "      <td>0</td>\n",
       "    </tr>\n",
       "  </tbody>\n",
       "</table>\n",
       "<p>5 rows × 27 columns</p>\n",
       "</div>"
      ],
      "text/plain": [
       "tema     id                                             ementa   \n",
       "0     14919  Dispõe sobre a Política Nacional de Salários, ...  \\\n",
       "1     14920  Modifica o art. 6º da Lei nº 9.424, de 24 de d...   \n",
       "2     14921  Dispõe sobre salário-família e dá outras provi...   \n",
       "3     14922  Modifica a Lei nº 4.117, de 1962, que \"institu...   \n",
       "4     14923  Concede isenção do imposto sobre produtos indu...   \n",
       "\n",
       "tema  Administração Pública  Agricultura, Pecuária, Pesca e Extrativismo   \n",
       "0                         0                                            0  \\\n",
       "1                         0                                            0   \n",
       "2                         0                                            0   \n",
       "3                         0                                            0   \n",
       "4                         0                                            0   \n",
       "\n",
       "tema  Arte, Cultura e Religião  Cidades e Desenvolvimento Urbano   \n",
       "0                            0                                 0  \\\n",
       "1                            0                                 0   \n",
       "2                            0                                 0   \n",
       "3                            0                                 0   \n",
       "4                            0                                 0   \n",
       "\n",
       "tema  Comunicações  Defesa e Segurança  Direito Civil e Processual Civil   \n",
       "0                0                   0                                 0  \\\n",
       "1                0                   0                                 0   \n",
       "2                0                   0                                 0   \n",
       "3                0                   0                                 0   \n",
       "4                0                   0                                 0   \n",
       "\n",
       "tema  Direito Penal e Processual Penal  ...  Finanças Públicas e Orçamento   \n",
       "0                                    0  ...                              0  \\\n",
       "1                                    0  ...                              0   \n",
       "2                                    0  ...                              0   \n",
       "3                                    0  ...                              0   \n",
       "4                                    0  ...                              1   \n",
       "\n",
       "tema  Homenagens e Datas Comemorativas  Indústria, Comércio e Serviços   \n",
       "0                                    0                               0  \\\n",
       "1                                    0                               0   \n",
       "2                                    0                               0   \n",
       "3                                    0                               1   \n",
       "4                                    0                               0   \n",
       "\n",
       "tema  Meio Ambiente e Desenvolvimento Sustentável   \n",
       "0                                               0  \\\n",
       "1                                               0   \n",
       "2                                               0   \n",
       "3                                               0   \n",
       "4                                               0   \n",
       "\n",
       "tema  Política, Partidos e Eleições  Previdência e Assistência Social  Saúde   \n",
       "0                                 0                                 0      0  \\\n",
       "1                                 0                                 0      0   \n",
       "2                                 0                                 0      0   \n",
       "3                                 0                                 0      0   \n",
       "4                                 0                                 0      0   \n",
       "\n",
       "tema  Trabalho e Emprego  Viação, Transporte e Mobilidade  Outro  \n",
       "0                      1                                0      0  \n",
       "1                      0                                0      0  \n",
       "2                      1                                0      0  \n",
       "3                      0                                0      0  \n",
       "4                      0                                1      0  \n",
       "\n",
       "[5 rows x 27 columns]"
      ]
     },
     "execution_count": 2,
     "metadata": {},
     "output_type": "execute_result"
    }
   ],
   "source": [
    "df_pls_theme = pd.read_parquet('../../data/proposicoes_temas_one_hot_encoding.parquet')\n",
    "df_pls_theme.head()"
   ]
  },
  {
   "attachments": {},
   "cell_type": "markdown",
   "metadata": {},
   "source": [
    "Contagem dos temas"
   ]
  },
  {
   "cell_type": "code",
   "execution_count": 3,
   "metadata": {},
   "outputs": [
    {
     "data": {
      "text/plain": [
       "tema\n",
       "Direitos Humanos e Minorias                    8544\n",
       "Trabalho e Emprego                             7775\n",
       "Saúde                                          7648\n",
       "Finanças Públicas e Orçamento                  7168\n",
       "Administração Pública                          6915\n",
       "Direito Penal e Processual Penal               5704\n",
       "Educação                                       5267\n",
       "Indústria, Comércio e Serviços                 4540\n",
       "Viação, Transporte e Mobilidade                4459\n",
       "Defesa e Segurança                             3529\n",
       "Direito Civil e Processual Civil               3413\n",
       "Meio Ambiente e Desenvolvimento Sustentável    2988\n",
       "Previdência e Assistência Social               2818\n",
       "Homenagens e Datas Comemorativas               2683\n",
       "Economia                                       2513\n",
       "Direito e Defesa do Consumidor                 2360\n",
       "Comunicações                                   2254\n",
       "Cidades e Desenvolvimento Urbano               1995\n",
       "Outro                                          1973\n",
       "Energia, Recursos Hídricos e Minerais          1835\n",
       "Política, Partidos e Eleições                  1450\n",
       "Arte, Cultura e Religião                       1377\n",
       "Agricultura, Pecuária, Pesca e Extrativismo    1104\n",
       "Esporte e Lazer                                1046\n",
       "Estrutura Fundiária                             921\n",
       "dtype: int64"
      ]
     },
     "execution_count": 3,
     "metadata": {},
     "output_type": "execute_result"
    }
   ],
   "source": [
    "df_pls_theme\\\n",
    "    .drop_duplicates('ementa')\\\n",
    "    .drop(columns=['id','ementa'])\\\n",
    "    .sum(axis=0)\\\n",
    "    .sort_values(ascending=False)"
   ]
  },
  {
   "attachments": {},
   "cell_type": "markdown",
   "metadata": {},
   "source": [
    "Selecionando o tema a ser classificado"
   ]
  },
  {
   "cell_type": "code",
   "execution_count": 4,
   "metadata": {},
   "outputs": [
    {
     "name": "stdout",
     "output_type": "stream",
     "text": [
      "<class 'pandas.core.frame.DataFrame'>\n",
      "Index: 61934 entries, 0 to 65976\n",
      "Data columns (total 2 columns):\n",
      " #   Column                               Non-Null Count  Dtype \n",
      "---  ------                               --------------  ----- \n",
      " 0   ementa                               61934 non-null  object\n",
      " 1   in_homenagens_e_datas_comemorativas  61934 non-null  int64 \n",
      "dtypes: int64(1), object(1)\n",
      "memory usage: 1.4+ MB\n"
     ]
    }
   ],
   "source": [
    "BINARY_CLASS = \"Homenagens e Datas Comemorativas\"\n",
    "IN_BINARY_CLASS = \"in_\" + BINARY_CLASS.lower().replace(\" \", \"_\")\n",
    "\n",
    "df_pls_theme = df_pls_theme.drop_duplicates(subset=[\"ementa\"])\n",
    "df_pls_theme = df_pls_theme[[\"ementa\", BINARY_CLASS]]\n",
    "df_pls_theme = df_pls_theme.rename(\n",
    "    columns={BINARY_CLASS: IN_BINARY_CLASS}\n",
    ")\n",
    "\n",
    "df_pls_theme.info()"
   ]
  },
  {
   "attachments": {},
   "cell_type": "markdown",
   "metadata": {},
   "source": [
    "## Data preprocessing\n",
    "[wip] leis ..."
   ]
  },
  {
   "cell_type": "code",
   "execution_count": 5,
   "metadata": {},
   "outputs": [],
   "source": [
    "X = df_pls_theme.ementa\n",
    "y = df_pls_theme[IN_BINARY_CLASS]\n",
    "\n",
    "X_train, X_test, y_train, y_test = train_test_split(\n",
    "    X, y, test_size=0.2, stratify=y, shuffle=True, random_state=RANDOM_SEED\n",
    ")"
   ]
  },
  {
   "cell_type": "code",
   "execution_count": 64,
   "metadata": {},
   "outputs": [],
   "source": [
    "clf_pipeline = Pipeline([\n",
    "    ('tfidf', TfidfVectorizer(lowercase=True, strip_accents='ascii', max_features=5000, max_df=0.9)),\n",
    "    ('clf', RandomForestClassifier(random_state=RANDOM_SEED, n_jobs=-1))\n",
    "])\n",
    "\n",
    "params = {\n",
    "    'clf__n_estimators': [200, 300],\n",
    "    'clf__max_depth': [None, 10, 30],\n",
    "}"
   ]
  },
  {
   "cell_type": "code",
   "execution_count": 34,
   "metadata": {},
   "outputs": [
    {
     "name": "stdout",
     "output_type": "stream",
     "text": [
      "Fitting 3 folds for each of 6 candidates, totalling 18 fits\n",
      "CPU times: user 1min 6s, sys: 18.5 s, total: 1min 25s\n",
      "Wall time: 2min 47s\n"
     ]
    },
    {
     "data": {
      "text/html": [
       "<style>#sk-container-id-1 {color: black;background-color: white;}#sk-container-id-1 pre{padding: 0;}#sk-container-id-1 div.sk-toggleable {background-color: white;}#sk-container-id-1 label.sk-toggleable__label {cursor: pointer;display: block;width: 100%;margin-bottom: 0;padding: 0.3em;box-sizing: border-box;text-align: center;}#sk-container-id-1 label.sk-toggleable__label-arrow:before {content: \"▸\";float: left;margin-right: 0.25em;color: #696969;}#sk-container-id-1 label.sk-toggleable__label-arrow:hover:before {color: black;}#sk-container-id-1 div.sk-estimator:hover label.sk-toggleable__label-arrow:before {color: black;}#sk-container-id-1 div.sk-toggleable__content {max-height: 0;max-width: 0;overflow: hidden;text-align: left;background-color: #f0f8ff;}#sk-container-id-1 div.sk-toggleable__content pre {margin: 0.2em;color: black;border-radius: 0.25em;background-color: #f0f8ff;}#sk-container-id-1 input.sk-toggleable__control:checked~div.sk-toggleable__content {max-height: 200px;max-width: 100%;overflow: auto;}#sk-container-id-1 input.sk-toggleable__control:checked~label.sk-toggleable__label-arrow:before {content: \"▾\";}#sk-container-id-1 div.sk-estimator input.sk-toggleable__control:checked~label.sk-toggleable__label {background-color: #d4ebff;}#sk-container-id-1 div.sk-label input.sk-toggleable__control:checked~label.sk-toggleable__label {background-color: #d4ebff;}#sk-container-id-1 input.sk-hidden--visually {border: 0;clip: rect(1px 1px 1px 1px);clip: rect(1px, 1px, 1px, 1px);height: 1px;margin: -1px;overflow: hidden;padding: 0;position: absolute;width: 1px;}#sk-container-id-1 div.sk-estimator {font-family: monospace;background-color: #f0f8ff;border: 1px dotted black;border-radius: 0.25em;box-sizing: border-box;margin-bottom: 0.5em;}#sk-container-id-1 div.sk-estimator:hover {background-color: #d4ebff;}#sk-container-id-1 div.sk-parallel-item::after {content: \"\";width: 100%;border-bottom: 1px solid gray;flex-grow: 1;}#sk-container-id-1 div.sk-label:hover label.sk-toggleable__label {background-color: #d4ebff;}#sk-container-id-1 div.sk-serial::before {content: \"\";position: absolute;border-left: 1px solid gray;box-sizing: border-box;top: 0;bottom: 0;left: 50%;z-index: 0;}#sk-container-id-1 div.sk-serial {display: flex;flex-direction: column;align-items: center;background-color: white;padding-right: 0.2em;padding-left: 0.2em;position: relative;}#sk-container-id-1 div.sk-item {position: relative;z-index: 1;}#sk-container-id-1 div.sk-parallel {display: flex;align-items: stretch;justify-content: center;background-color: white;position: relative;}#sk-container-id-1 div.sk-item::before, #sk-container-id-1 div.sk-parallel-item::before {content: \"\";position: absolute;border-left: 1px solid gray;box-sizing: border-box;top: 0;bottom: 0;left: 50%;z-index: -1;}#sk-container-id-1 div.sk-parallel-item {display: flex;flex-direction: column;z-index: 1;position: relative;background-color: white;}#sk-container-id-1 div.sk-parallel-item:first-child::after {align-self: flex-end;width: 50%;}#sk-container-id-1 div.sk-parallel-item:last-child::after {align-self: flex-start;width: 50%;}#sk-container-id-1 div.sk-parallel-item:only-child::after {width: 0;}#sk-container-id-1 div.sk-dashed-wrapped {border: 1px dashed gray;margin: 0 0.4em 0.5em 0.4em;box-sizing: border-box;padding-bottom: 0.4em;background-color: white;}#sk-container-id-1 div.sk-label label {font-family: monospace;font-weight: bold;display: inline-block;line-height: 1.2em;}#sk-container-id-1 div.sk-label-container {text-align: center;}#sk-container-id-1 div.sk-container {/* jupyter's `normalize.less` sets `[hidden] { display: none; }` but bootstrap.min.css set `[hidden] { display: none !important; }` so we also need the `!important` here to be able to override the default hidden behavior on the sphinx rendered scikit-learn.org. See: https://github.com/scikit-learn/scikit-learn/issues/21755 */display: inline-block !important;position: relative;}#sk-container-id-1 div.sk-text-repr-fallback {display: none;}</style><div id=\"sk-container-id-1\" class=\"sk-top-container\"><div class=\"sk-text-repr-fallback\"><pre>GridSearchCV(cv=3,\n",
       "             estimator=Pipeline(steps=[(&#x27;tfidf&#x27;,\n",
       "                                        TfidfVectorizer(max_df=0.9,\n",
       "                                                        max_features=5000,\n",
       "                                                        strip_accents=&#x27;ascii&#x27;)),\n",
       "                                       (&#x27;clf&#x27;,\n",
       "                                        RandomForestClassifier(n_jobs=-1,\n",
       "                                                               random_state=214))]),\n",
       "             n_jobs=2,\n",
       "             param_grid={&#x27;clf__max_depth&#x27;: [None, 10, 30],\n",
       "                         &#x27;clf__n_estimators&#x27;: [200, 300]},\n",
       "             scoring=&#x27;f1&#x27;, verbose=1)</pre><b>In a Jupyter environment, please rerun this cell to show the HTML representation or trust the notebook. <br />On GitHub, the HTML representation is unable to render, please try loading this page with nbviewer.org.</b></div><div class=\"sk-container\" hidden><div class=\"sk-item sk-dashed-wrapped\"><div class=\"sk-label-container\"><div class=\"sk-label sk-toggleable\"><input class=\"sk-toggleable__control sk-hidden--visually\" id=\"sk-estimator-id-1\" type=\"checkbox\" ><label for=\"sk-estimator-id-1\" class=\"sk-toggleable__label sk-toggleable__label-arrow\">GridSearchCV</label><div class=\"sk-toggleable__content\"><pre>GridSearchCV(cv=3,\n",
       "             estimator=Pipeline(steps=[(&#x27;tfidf&#x27;,\n",
       "                                        TfidfVectorizer(max_df=0.9,\n",
       "                                                        max_features=5000,\n",
       "                                                        strip_accents=&#x27;ascii&#x27;)),\n",
       "                                       (&#x27;clf&#x27;,\n",
       "                                        RandomForestClassifier(n_jobs=-1,\n",
       "                                                               random_state=214))]),\n",
       "             n_jobs=2,\n",
       "             param_grid={&#x27;clf__max_depth&#x27;: [None, 10, 30],\n",
       "                         &#x27;clf__n_estimators&#x27;: [200, 300]},\n",
       "             scoring=&#x27;f1&#x27;, verbose=1)</pre></div></div></div><div class=\"sk-parallel\"><div class=\"sk-parallel-item\"><div class=\"sk-item\"><div class=\"sk-label-container\"><div class=\"sk-label sk-toggleable\"><input class=\"sk-toggleable__control sk-hidden--visually\" id=\"sk-estimator-id-2\" type=\"checkbox\" ><label for=\"sk-estimator-id-2\" class=\"sk-toggleable__label sk-toggleable__label-arrow\">estimator: Pipeline</label><div class=\"sk-toggleable__content\"><pre>Pipeline(steps=[(&#x27;tfidf&#x27;,\n",
       "                 TfidfVectorizer(max_df=0.9, max_features=5000,\n",
       "                                 strip_accents=&#x27;ascii&#x27;)),\n",
       "                (&#x27;clf&#x27;, RandomForestClassifier(n_jobs=-1, random_state=214))])</pre></div></div></div><div class=\"sk-serial\"><div class=\"sk-item\"><div class=\"sk-serial\"><div class=\"sk-item\"><div class=\"sk-estimator sk-toggleable\"><input class=\"sk-toggleable__control sk-hidden--visually\" id=\"sk-estimator-id-3\" type=\"checkbox\" ><label for=\"sk-estimator-id-3\" class=\"sk-toggleable__label sk-toggleable__label-arrow\">TfidfVectorizer</label><div class=\"sk-toggleable__content\"><pre>TfidfVectorizer(max_df=0.9, max_features=5000, strip_accents=&#x27;ascii&#x27;)</pre></div></div></div><div class=\"sk-item\"><div class=\"sk-estimator sk-toggleable\"><input class=\"sk-toggleable__control sk-hidden--visually\" id=\"sk-estimator-id-4\" type=\"checkbox\" ><label for=\"sk-estimator-id-4\" class=\"sk-toggleable__label sk-toggleable__label-arrow\">RandomForestClassifier</label><div class=\"sk-toggleable__content\"><pre>RandomForestClassifier(n_jobs=-1, random_state=214)</pre></div></div></div></div></div></div></div></div></div></div></div></div>"
      ],
      "text/plain": [
       "GridSearchCV(cv=3,\n",
       "             estimator=Pipeline(steps=[('tfidf',\n",
       "                                        TfidfVectorizer(max_df=0.9,\n",
       "                                                        max_features=5000,\n",
       "                                                        strip_accents='ascii')),\n",
       "                                       ('clf',\n",
       "                                        RandomForestClassifier(n_jobs=-1,\n",
       "                                                               random_state=214))]),\n",
       "             n_jobs=2,\n",
       "             param_grid={'clf__max_depth': [None, 10, 30],\n",
       "                         'clf__n_estimators': [200, 300]},\n",
       "             scoring='f1', verbose=1)"
      ]
     },
     "execution_count": 34,
     "metadata": {},
     "output_type": "execute_result"
    }
   ],
   "source": [
    "grid_search = GridSearchCV(\n",
    "    clf_pipeline, params, cv=StratifiedKFold(n_splits=3, shuffle=True, random_state=RANDOM_SEED)\n",
    "    ,scoring='f1', n_jobs=2, verbose=1\n",
    ")\n",
    "\n",
    "grid_search.fit(X_train, y_train)"
   ]
  },
  {
   "cell_type": "code",
   "execution_count": 47,
   "metadata": {},
   "outputs": [
    {
     "name": "stdout",
     "output_type": "stream",
     "text": [
      "0.7992734162850049\n"
     ]
    },
    {
     "data": {
      "text/html": [
       "<style>#sk-container-id-3 {color: black;background-color: white;}#sk-container-id-3 pre{padding: 0;}#sk-container-id-3 div.sk-toggleable {background-color: white;}#sk-container-id-3 label.sk-toggleable__label {cursor: pointer;display: block;width: 100%;margin-bottom: 0;padding: 0.3em;box-sizing: border-box;text-align: center;}#sk-container-id-3 label.sk-toggleable__label-arrow:before {content: \"▸\";float: left;margin-right: 0.25em;color: #696969;}#sk-container-id-3 label.sk-toggleable__label-arrow:hover:before {color: black;}#sk-container-id-3 div.sk-estimator:hover label.sk-toggleable__label-arrow:before {color: black;}#sk-container-id-3 div.sk-toggleable__content {max-height: 0;max-width: 0;overflow: hidden;text-align: left;background-color: #f0f8ff;}#sk-container-id-3 div.sk-toggleable__content pre {margin: 0.2em;color: black;border-radius: 0.25em;background-color: #f0f8ff;}#sk-container-id-3 input.sk-toggleable__control:checked~div.sk-toggleable__content {max-height: 200px;max-width: 100%;overflow: auto;}#sk-container-id-3 input.sk-toggleable__control:checked~label.sk-toggleable__label-arrow:before {content: \"▾\";}#sk-container-id-3 div.sk-estimator input.sk-toggleable__control:checked~label.sk-toggleable__label {background-color: #d4ebff;}#sk-container-id-3 div.sk-label input.sk-toggleable__control:checked~label.sk-toggleable__label {background-color: #d4ebff;}#sk-container-id-3 input.sk-hidden--visually {border: 0;clip: rect(1px 1px 1px 1px);clip: rect(1px, 1px, 1px, 1px);height: 1px;margin: -1px;overflow: hidden;padding: 0;position: absolute;width: 1px;}#sk-container-id-3 div.sk-estimator {font-family: monospace;background-color: #f0f8ff;border: 1px dotted black;border-radius: 0.25em;box-sizing: border-box;margin-bottom: 0.5em;}#sk-container-id-3 div.sk-estimator:hover {background-color: #d4ebff;}#sk-container-id-3 div.sk-parallel-item::after {content: \"\";width: 100%;border-bottom: 1px solid gray;flex-grow: 1;}#sk-container-id-3 div.sk-label:hover label.sk-toggleable__label {background-color: #d4ebff;}#sk-container-id-3 div.sk-serial::before {content: \"\";position: absolute;border-left: 1px solid gray;box-sizing: border-box;top: 0;bottom: 0;left: 50%;z-index: 0;}#sk-container-id-3 div.sk-serial {display: flex;flex-direction: column;align-items: center;background-color: white;padding-right: 0.2em;padding-left: 0.2em;position: relative;}#sk-container-id-3 div.sk-item {position: relative;z-index: 1;}#sk-container-id-3 div.sk-parallel {display: flex;align-items: stretch;justify-content: center;background-color: white;position: relative;}#sk-container-id-3 div.sk-item::before, #sk-container-id-3 div.sk-parallel-item::before {content: \"\";position: absolute;border-left: 1px solid gray;box-sizing: border-box;top: 0;bottom: 0;left: 50%;z-index: -1;}#sk-container-id-3 div.sk-parallel-item {display: flex;flex-direction: column;z-index: 1;position: relative;background-color: white;}#sk-container-id-3 div.sk-parallel-item:first-child::after {align-self: flex-end;width: 50%;}#sk-container-id-3 div.sk-parallel-item:last-child::after {align-self: flex-start;width: 50%;}#sk-container-id-3 div.sk-parallel-item:only-child::after {width: 0;}#sk-container-id-3 div.sk-dashed-wrapped {border: 1px dashed gray;margin: 0 0.4em 0.5em 0.4em;box-sizing: border-box;padding-bottom: 0.4em;background-color: white;}#sk-container-id-3 div.sk-label label {font-family: monospace;font-weight: bold;display: inline-block;line-height: 1.2em;}#sk-container-id-3 div.sk-label-container {text-align: center;}#sk-container-id-3 div.sk-container {/* jupyter's `normalize.less` sets `[hidden] { display: none; }` but bootstrap.min.css set `[hidden] { display: none !important; }` so we also need the `!important` here to be able to override the default hidden behavior on the sphinx rendered scikit-learn.org. See: https://github.com/scikit-learn/scikit-learn/issues/21755 */display: inline-block !important;position: relative;}#sk-container-id-3 div.sk-text-repr-fallback {display: none;}</style><div id=\"sk-container-id-3\" class=\"sk-top-container\"><div class=\"sk-text-repr-fallback\"><pre>Pipeline(steps=[(&#x27;tfidf&#x27;,\n",
       "                 TfidfVectorizer(max_df=0.9, max_features=5000,\n",
       "                                 strip_accents=&#x27;ascii&#x27;)),\n",
       "                (&#x27;clf&#x27;,\n",
       "                 RandomForestClassifier(n_estimators=300, n_jobs=-1,\n",
       "                                        random_state=214))])</pre><b>In a Jupyter environment, please rerun this cell to show the HTML representation or trust the notebook. <br />On GitHub, the HTML representation is unable to render, please try loading this page with nbviewer.org.</b></div><div class=\"sk-container\" hidden><div class=\"sk-item sk-dashed-wrapped\"><div class=\"sk-label-container\"><div class=\"sk-label sk-toggleable\"><input class=\"sk-toggleable__control sk-hidden--visually\" id=\"sk-estimator-id-8\" type=\"checkbox\" ><label for=\"sk-estimator-id-8\" class=\"sk-toggleable__label sk-toggleable__label-arrow\">Pipeline</label><div class=\"sk-toggleable__content\"><pre>Pipeline(steps=[(&#x27;tfidf&#x27;,\n",
       "                 TfidfVectorizer(max_df=0.9, max_features=5000,\n",
       "                                 strip_accents=&#x27;ascii&#x27;)),\n",
       "                (&#x27;clf&#x27;,\n",
       "                 RandomForestClassifier(n_estimators=300, n_jobs=-1,\n",
       "                                        random_state=214))])</pre></div></div></div><div class=\"sk-serial\"><div class=\"sk-item\"><div class=\"sk-estimator sk-toggleable\"><input class=\"sk-toggleable__control sk-hidden--visually\" id=\"sk-estimator-id-9\" type=\"checkbox\" ><label for=\"sk-estimator-id-9\" class=\"sk-toggleable__label sk-toggleable__label-arrow\">TfidfVectorizer</label><div class=\"sk-toggleable__content\"><pre>TfidfVectorizer(max_df=0.9, max_features=5000, strip_accents=&#x27;ascii&#x27;)</pre></div></div></div><div class=\"sk-item\"><div class=\"sk-estimator sk-toggleable\"><input class=\"sk-toggleable__control sk-hidden--visually\" id=\"sk-estimator-id-10\" type=\"checkbox\" ><label for=\"sk-estimator-id-10\" class=\"sk-toggleable__label sk-toggleable__label-arrow\">RandomForestClassifier</label><div class=\"sk-toggleable__content\"><pre>RandomForestClassifier(n_estimators=300, n_jobs=-1, random_state=214)</pre></div></div></div></div></div></div></div>"
      ],
      "text/plain": [
       "Pipeline(steps=[('tfidf',\n",
       "                 TfidfVectorizer(max_df=0.9, max_features=5000,\n",
       "                                 strip_accents='ascii')),\n",
       "                ('clf',\n",
       "                 RandomForestClassifier(n_estimators=300, n_jobs=-1,\n",
       "                                        random_state=214))])"
      ]
     },
     "execution_count": 47,
     "metadata": {},
     "output_type": "execute_result"
    }
   ],
   "source": [
    "print(grid_search.best_score_)\n",
    "grid_search.best_estimator_"
   ]
  },
  {
   "attachments": {},
   "cell_type": "markdown",
   "metadata": {},
   "source": [
    "## Cleaning the dataset"
   ]
  },
  {
   "attachments": {},
   "cell_type": "markdown",
   "metadata": {},
   "source": [
    "### Manually inspecting the errors"
   ]
  },
  {
   "cell_type": "code",
   "execution_count": 67,
   "metadata": {},
   "outputs": [],
   "source": [
    "clean_pipeline = Pipeline([\n",
    "    ('tfidf', TfidfVectorizer(lowercase=True, strip_accents='ascii', max_features=6000, max_df=0.95)),\n",
    "    ('clf', RandomForestClassifier(random_state=RANDOM_SEED, n_jobs=-1, n_estimators=300))\n",
    "])"
   ]
  },
  {
   "cell_type": "code",
   "execution_count": 68,
   "metadata": {},
   "outputs": [
    {
     "name": "stderr",
     "output_type": "stream",
     "text": [
      "[Parallel(n_jobs=-1)]: Using backend LokyBackend with 4 concurrent workers.\n",
      "[Parallel(n_jobs=-1)]: Done   5 out of   5 | elapsed:  2.1min finished\n"
     ]
    }
   ],
   "source": [
    "y_proba = cross_val_predict(\n",
    "    clean_pipeline, \n",
    "    df_pls_theme['ementa'], \n",
    "    df_pls_theme[IN_BINARY_CLASS],\n",
    "    cv=StratifiedKFold(n_splits=5, shuffle=True, random_state=RANDOM_SEED), \n",
    "    method='predict_proba', \n",
    "    verbose=2,\n",
    "    n_jobs=-1\n",
    ")"
   ]
  },
  {
   "cell_type": "code",
   "execution_count": 72,
   "metadata": {},
   "outputs": [],
   "source": [
    "lab = Datalab(\n",
    "    data=df_pls_theme,\n",
    "    label_name=IN_BINARY_CLASS,\n",
    ")"
   ]
  },
  {
   "cell_type": "code",
   "execution_count": 109,
   "metadata": {},
   "outputs": [
    {
     "name": "stdout",
     "output_type": "stream",
     "text": [
      "Finding label issues ...\n",
      "Finding outlier issues ...\n",
      "Fitting OOD estimator based on provided pred_probs ...\n",
      "Audit complete. 1027 issues found in the dataset.\n"
     ]
    },
    {
     "name": "stderr",
     "output_type": "stream",
     "text": [
      "/home/jaolima/.local/lib/python3.10/site-packages/cleanlab/datalab/data_issues.py:233: UserWarning: Overwriting columns ['is_label_issue', 'label_score'] in self.issues with columns from issue manager LabelIssueManager.\n",
      "  warnings.warn(\n",
      "/home/jaolima/.local/lib/python3.10/site-packages/cleanlab/datalab/data_issues.py:241: UserWarning: Overwriting row in self.issue_summary with row from issue manager LabelIssueManager.\n",
      "  warnings.warn(\n",
      "/home/jaolima/.local/lib/python3.10/site-packages/cleanlab/datalab/data_issues.py:260: UserWarning: Overwriting key label in self.info with key from issue manager LabelIssueManager.\n",
      "  warnings.warn(\n",
      "/home/jaolima/.local/lib/python3.10/site-packages/cleanlab/datalab/data_issues.py:233: UserWarning: Overwriting columns ['is_outlier_issue', 'outlier_score'] in self.issues with columns from issue manager OutlierIssueManager.\n",
      "  warnings.warn(\n",
      "/home/jaolima/.local/lib/python3.10/site-packages/cleanlab/datalab/data_issues.py:241: UserWarning: Overwriting row in self.issue_summary with row from issue manager OutlierIssueManager.\n",
      "  warnings.warn(\n",
      "/home/jaolima/.local/lib/python3.10/site-packages/cleanlab/datalab/data_issues.py:260: UserWarning: Overwriting key outlier in self.info with key from issue manager OutlierIssueManager.\n",
      "  warnings.warn(\n"
     ]
    }
   ],
   "source": [
    "lab.find_issues(pred_probs=y_proba)"
   ]
  },
  {
   "cell_type": "code",
   "execution_count": 103,
   "metadata": {},
   "outputs": [
    {
     "data": {
      "text/html": [
       "<div>\n",
       "<style scoped>\n",
       "    .dataframe tbody tr th:only-of-type {\n",
       "        vertical-align: middle;\n",
       "    }\n",
       "\n",
       "    .dataframe tbody tr th {\n",
       "        vertical-align: top;\n",
       "    }\n",
       "\n",
       "    .dataframe thead th {\n",
       "        text-align: right;\n",
       "    }\n",
       "</style>\n",
       "<table border=\"1\" class=\"dataframe\">\n",
       "  <thead>\n",
       "    <tr style=\"text-align: right;\">\n",
       "      <th></th>\n",
       "      <th>issue_type</th>\n",
       "      <th>score</th>\n",
       "      <th>num_issues</th>\n",
       "    </tr>\n",
       "  </thead>\n",
       "  <tbody>\n",
       "    <tr>\n",
       "      <th>0</th>\n",
       "      <td>label</td>\n",
       "      <td>0.994962</td>\n",
       "      <td>312</td>\n",
       "    </tr>\n",
       "  </tbody>\n",
       "</table>\n",
       "</div>"
      ],
      "text/plain": [
       "  issue_type     score  num_issues\n",
       "0      label  0.994962         312"
      ]
     },
     "execution_count": 103,
     "metadata": {},
     "output_type": "execute_result"
    }
   ],
   "source": [
    "lab.get_issue_summary(\"label\")"
   ]
  },
  {
   "cell_type": "code",
   "execution_count": 96,
   "metadata": {},
   "outputs": [],
   "source": [
    "y_clean_labels = lab.get_issues(\"label\")[['predicted_label', 'is_label_issue']]\n",
    "y_outlier = lab.get_issues(\"outlier\")[['is_outlier_issue']]\n",
    "\n",
    "df_ples_theme_clean = df_pls_theme.copy().reset_index(drop=True)\n",
    "df_ples_theme_clean['predicted_label'] = y_clean_labels['predicted_label']\n",
    "df_ples_theme_clean['is_label_issue'] = y_clean_labels['is_label_issue']\n",
    "df_ples_theme_clean['is_outlier_issue'] = y_outlier['is_outlier_issue']"
   ]
  },
  {
   "cell_type": "code",
   "execution_count": 97,
   "metadata": {},
   "outputs": [
    {
     "data": {
      "text/html": [
       "<div>\n",
       "<style scoped>\n",
       "    .dataframe tbody tr th:only-of-type {\n",
       "        vertical-align: middle;\n",
       "    }\n",
       "\n",
       "    .dataframe tbody tr th {\n",
       "        vertical-align: top;\n",
       "    }\n",
       "\n",
       "    .dataframe thead th {\n",
       "        text-align: right;\n",
       "    }\n",
       "</style>\n",
       "<table border=\"1\" class=\"dataframe\">\n",
       "  <thead>\n",
       "    <tr style=\"text-align: right;\">\n",
       "      <th>tema</th>\n",
       "      <th>ementa</th>\n",
       "      <th>in_homenagens_e_datas_comemorativas</th>\n",
       "      <th>predicted_label</th>\n",
       "    </tr>\n",
       "  </thead>\n",
       "  <tbody>\n",
       "    <tr>\n",
       "      <th>278</th>\n",
       "      <td>Institui, na República Federativa do Brasil, a...</td>\n",
       "      <td>0</td>\n",
       "      <td>1</td>\n",
       "    </tr>\n",
       "    <tr>\n",
       "      <th>286</th>\n",
       "      <td>Institui o Dia do Evangélico, determinando fer...</td>\n",
       "      <td>0</td>\n",
       "      <td>1</td>\n",
       "    </tr>\n",
       "    <tr>\n",
       "      <th>805</th>\n",
       "      <td>Institui o dia 2 de julho como Dia da Libertaç...</td>\n",
       "      <td>0</td>\n",
       "      <td>1</td>\n",
       "    </tr>\n",
       "    <tr>\n",
       "      <th>1203</th>\n",
       "      <td>Denomina \"Aeroporto de Porto Velho / Governado...</td>\n",
       "      <td>0</td>\n",
       "      <td>1</td>\n",
       "    </tr>\n",
       "    <tr>\n",
       "      <th>1504</th>\n",
       "      <td>Institui o 12 de agosto como Dia Nacional da J...</td>\n",
       "      <td>0</td>\n",
       "      <td>1</td>\n",
       "    </tr>\n",
       "    <tr>\n",
       "      <th>...</th>\n",
       "      <td>...</td>\n",
       "      <td>...</td>\n",
       "      <td>...</td>\n",
       "    </tr>\n",
       "    <tr>\n",
       "      <th>60482</th>\n",
       "      <td>Institui o dia nacional do skate</td>\n",
       "      <td>0</td>\n",
       "      <td>1</td>\n",
       "    </tr>\n",
       "    <tr>\n",
       "      <th>60499</th>\n",
       "      <td>Cria a premiação “Aluno Nota Dez” e “Escola No...</td>\n",
       "      <td>1</td>\n",
       "      <td>0</td>\n",
       "    </tr>\n",
       "    <tr>\n",
       "      <th>60932</th>\n",
       "      <td>Institui o selo “Quebra-Cabeça”, com a finalid...</td>\n",
       "      <td>1</td>\n",
       "      <td>0</td>\n",
       "    </tr>\n",
       "    <tr>\n",
       "      <th>60947</th>\n",
       "      <td>Concede isenção do Imposto sobre Produtos Indu...</td>\n",
       "      <td>1</td>\n",
       "      <td>0</td>\n",
       "    </tr>\n",
       "    <tr>\n",
       "      <th>61267</th>\n",
       "      <td>Insere no Calendário Nacional de Eventos, do M...</td>\n",
       "      <td>0</td>\n",
       "      <td>1</td>\n",
       "    </tr>\n",
       "  </tbody>\n",
       "</table>\n",
       "<p>312 rows × 3 columns</p>\n",
       "</div>"
      ],
      "text/plain": [
       "tema                                              ementa   \n",
       "278    Institui, na República Federativa do Brasil, a...  \\\n",
       "286    Institui o Dia do Evangélico, determinando fer...   \n",
       "805    Institui o dia 2 de julho como Dia da Libertaç...   \n",
       "1203   Denomina \"Aeroporto de Porto Velho / Governado...   \n",
       "1504   Institui o 12 de agosto como Dia Nacional da J...   \n",
       "...                                                  ...   \n",
       "60482                   Institui o dia nacional do skate   \n",
       "60499  Cria a premiação “Aluno Nota Dez” e “Escola No...   \n",
       "60932  Institui o selo “Quebra-Cabeça”, com a finalid...   \n",
       "60947  Concede isenção do Imposto sobre Produtos Indu...   \n",
       "61267  Insere no Calendário Nacional de Eventos, do M...   \n",
       "\n",
       "tema   in_homenagens_e_datas_comemorativas  predicted_label  \n",
       "278                                      0                1  \n",
       "286                                      0                1  \n",
       "805                                      0                1  \n",
       "1203                                     0                1  \n",
       "1504                                     0                1  \n",
       "...                                    ...              ...  \n",
       "60482                                    0                1  \n",
       "60499                                    1                0  \n",
       "60932                                    1                0  \n",
       "60947                                    1                0  \n",
       "61267                                    0                1  \n",
       "\n",
       "[312 rows x 3 columns]"
      ]
     },
     "execution_count": 97,
     "metadata": {},
     "output_type": "execute_result"
    }
   ],
   "source": [
    "df_ples_theme_clean.query(\"is_label_issue\")[['ementa', IN_BINARY_CLASS, 'predicted_label']]"
   ]
  },
  {
   "attachments": {},
   "cell_type": "markdown",
   "metadata": {},
   "source": [
    "### Automatically fixing the dataset"
   ]
  },
  {
   "cell_type": "code",
   "execution_count": 6,
   "metadata": {},
   "outputs": [],
   "source": [
    "clean_pipeline = Pipeline([\n",
    "    ('tfidf', TfidfVectorizer(lowercase=True, strip_accents='ascii', max_features=6000, max_df=0.95)),\n",
    "    ('clf', RandomForestClassifier(random_state=RANDOM_SEED, n_jobs=-1, n_estimators=300))\n",
    "])"
   ]
  },
  {
   "cell_type": "code",
   "execution_count": 12,
   "metadata": {},
   "outputs": [
    {
     "data": {
      "text/html": [
       "<div>\n",
       "<style scoped>\n",
       "    .dataframe tbody tr th:only-of-type {\n",
       "        vertical-align: middle;\n",
       "    }\n",
       "\n",
       "    .dataframe tbody tr th {\n",
       "        vertical-align: top;\n",
       "    }\n",
       "\n",
       "    .dataframe thead th {\n",
       "        text-align: right;\n",
       "    }\n",
       "</style>\n",
       "<table border=\"1\" class=\"dataframe\">\n",
       "  <thead>\n",
       "    <tr style=\"text-align: right;\">\n",
       "      <th>tema</th>\n",
       "      <th>ementa</th>\n",
       "      <th>in_homenagens_e_datas_comemorativas</th>\n",
       "    </tr>\n",
       "  </thead>\n",
       "  <tbody>\n",
       "    <tr>\n",
       "      <th>0</th>\n",
       "      <td>Dispõe sobre a Política Nacional de Salários, ...</td>\n",
       "      <td>0</td>\n",
       "    </tr>\n",
       "    <tr>\n",
       "      <th>1</th>\n",
       "      <td>Modifica o art. 6º da Lei nº 9.424, de 24 de d...</td>\n",
       "      <td>0</td>\n",
       "    </tr>\n",
       "    <tr>\n",
       "      <th>2</th>\n",
       "      <td>Dispõe sobre salário-família e dá outras provi...</td>\n",
       "      <td>0</td>\n",
       "    </tr>\n",
       "    <tr>\n",
       "      <th>3</th>\n",
       "      <td>Modifica a Lei nº 4.117, de 1962, que \"institu...</td>\n",
       "      <td>0</td>\n",
       "    </tr>\n",
       "    <tr>\n",
       "      <th>4</th>\n",
       "      <td>Concede isenção do imposto sobre produtos indu...</td>\n",
       "      <td>0</td>\n",
       "    </tr>\n",
       "    <tr>\n",
       "      <th>...</th>\n",
       "      <td>...</td>\n",
       "      <td>...</td>\n",
       "    </tr>\n",
       "    <tr>\n",
       "      <th>65971</th>\n",
       "      <td>Dispõe sobre a permuta dos agentes de seguranç...</td>\n",
       "      <td>0</td>\n",
       "    </tr>\n",
       "    <tr>\n",
       "      <th>65973</th>\n",
       "      <td>Confere ao município de Laranjal Paulista, loc...</td>\n",
       "      <td>1</td>\n",
       "    </tr>\n",
       "    <tr>\n",
       "      <th>65974</th>\n",
       "      <td>Dispõe sobre a obrigatoriedade de plataformas ...</td>\n",
       "      <td>0</td>\n",
       "    </tr>\n",
       "    <tr>\n",
       "      <th>65975</th>\n",
       "      <td>Altera a Lei nº 13.277, de 29 de abril de 2016...</td>\n",
       "      <td>1</td>\n",
       "    </tr>\n",
       "    <tr>\n",
       "      <th>65976</th>\n",
       "      <td>Altera a Lei nº 8.080, de 19 de setembro de 19...</td>\n",
       "      <td>0</td>\n",
       "    </tr>\n",
       "  </tbody>\n",
       "</table>\n",
       "<p>61934 rows × 2 columns</p>\n",
       "</div>"
      ],
      "text/plain": [
       "tema                                              ementa   \n",
       "0      Dispõe sobre a Política Nacional de Salários, ...  \\\n",
       "1      Modifica o art. 6º da Lei nº 9.424, de 24 de d...   \n",
       "2      Dispõe sobre salário-família e dá outras provi...   \n",
       "3      Modifica a Lei nº 4.117, de 1962, que \"institu...   \n",
       "4      Concede isenção do imposto sobre produtos indu...   \n",
       "...                                                  ...   \n",
       "65971  Dispõe sobre a permuta dos agentes de seguranç...   \n",
       "65973  Confere ao município de Laranjal Paulista, loc...   \n",
       "65974  Dispõe sobre a obrigatoriedade de plataformas ...   \n",
       "65975  Altera a Lei nº 13.277, de 29 de abril de 2016...   \n",
       "65976  Altera a Lei nº 8.080, de 19 de setembro de 19...   \n",
       "\n",
       "tema   in_homenagens_e_datas_comemorativas  \n",
       "0                                        0  \n",
       "1                                        0  \n",
       "2                                        0  \n",
       "3                                        0  \n",
       "4                                        0  \n",
       "...                                    ...  \n",
       "65971                                    0  \n",
       "65973                                    1  \n",
       "65974                                    0  \n",
       "65975                                    1  \n",
       "65976                                    0  \n",
       "\n",
       "[61934 rows x 2 columns]"
      ]
     },
     "execution_count": 12,
     "metadata": {},
     "output_type": "execute_result"
    }
   ],
   "source": [
    "df_pls_theme"
   ]
  },
  {
   "cell_type": "code",
   "execution_count": 23,
   "metadata": {},
   "outputs": [
    {
     "name": "stderr",
     "output_type": "stream",
     "text": [
      "[Parallel(n_jobs=-1)]: Using backend LokyBackend with 4 concurrent workers.\n",
      "[Parallel(n_jobs=-1)]: Done   4 out of   4 | elapsed:  1.9min finished\n"
     ]
    },
    {
     "name": "stdout",
     "output_type": "stream",
     "text": [
      "Finding label issues ...\n",
      "Finding outlier issues ...\n",
      "Fitting OOD estimator based on provided pred_probs ...\n",
      "Audit complete. 1022 issues found in the dataset.\n"
     ]
    },
    {
     "name": "stderr",
     "output_type": "stream",
     "text": [
      "[Parallel(n_jobs=-1)]: Using backend LokyBackend with 4 concurrent workers.\n",
      "[Parallel(n_jobs=-1)]: Done   4 out of   4 | elapsed:  1.6min finished\n"
     ]
    },
    {
     "name": "stdout",
     "output_type": "stream",
     "text": [
      "Finding label issues ...\n",
      "Finding outlier issues ...\n",
      "Fitting OOD estimator based on provided pred_probs ...\n",
      "Audit complete. 718 issues found in the dataset.\n"
     ]
    },
    {
     "name": "stderr",
     "output_type": "stream",
     "text": [
      "[Parallel(n_jobs=-1)]: Using backend LokyBackend with 4 concurrent workers.\n",
      "[Parallel(n_jobs=-1)]: Done   4 out of   4 | elapsed:  1.6min finished\n"
     ]
    },
    {
     "name": "stdout",
     "output_type": "stream",
     "text": [
      "Finding label issues ...\n",
      "Finding outlier issues ...\n",
      "Fitting OOD estimator based on provided pred_probs ...\n",
      "Audit complete. 727 issues found in the dataset.\n"
     ]
    },
    {
     "name": "stderr",
     "output_type": "stream",
     "text": [
      "[Parallel(n_jobs=-1)]: Using backend LokyBackend with 4 concurrent workers.\n",
      "[Parallel(n_jobs=-1)]: Done   4 out of   4 | elapsed:  1.5min finished\n"
     ]
    },
    {
     "name": "stdout",
     "output_type": "stream",
     "text": [
      "Finding label issues ...\n",
      "Finding outlier issues ...\n",
      "Fitting OOD estimator based on provided pred_probs ...\n",
      "Audit complete. 709 issues found in the dataset.\n"
     ]
    },
    {
     "name": "stderr",
     "output_type": "stream",
     "text": [
      "[Parallel(n_jobs=-1)]: Using backend LokyBackend with 4 concurrent workers.\n",
      "[Parallel(n_jobs=-1)]: Done   4 out of   4 | elapsed:  1.4min finished\n"
     ]
    },
    {
     "name": "stdout",
     "output_type": "stream",
     "text": [
      "Finding label issues ...\n",
      "Finding outlier issues ...\n",
      "Fitting OOD estimator based on provided pred_probs ...\n",
      "Audit complete. 682 issues found in the dataset.\n"
     ]
    },
    {
     "name": "stderr",
     "output_type": "stream",
     "text": [
      "[Parallel(n_jobs=-1)]: Using backend LokyBackend with 4 concurrent workers.\n",
      "[Parallel(n_jobs=-1)]: Done   4 out of   4 | elapsed:  1.5min finished\n"
     ]
    },
    {
     "name": "stdout",
     "output_type": "stream",
     "text": [
      "Finding label issues ...\n",
      "Finding outlier issues ...\n",
      "Fitting OOD estimator based on provided pred_probs ...\n",
      "Audit complete. 684 issues found in the dataset.\n"
     ]
    }
   ],
   "source": [
    "metrics = []\n",
    "N_FIXES = 6\n",
    "df = df_pls_theme.copy()\n",
    "df[IN_BINARY_CLASS+'_0'] = df[IN_BINARY_CLASS]\n",
    "\n",
    "for i in range(N_FIXES):\n",
    "    in_binary_class_i = IN_BINARY_CLASS+f'_{i}'\n",
    "\n",
    "    y_proba_i = cross_val_predict(\n",
    "        clean_pipeline, \n",
    "        df['ementa'], \n",
    "        df[in_binary_class_i],\n",
    "        cv=StratifiedKFold(n_splits=4, shuffle=True, random_state=RANDOM_SEED), \n",
    "        method='predict_proba', \n",
    "        verbose=3,\n",
    "        n_jobs=-1\n",
    "    )\n",
    "\n",
    "    y_i_true = df[in_binary_class_i]\n",
    "    y_i = np.argmax(y_proba_i, axis=1)\n",
    "\n",
    "    metrics.append({\n",
    "        'accuracy': accuracy_score(y_i_true, y_i),\n",
    "        'precision': precision_score(y_i_true, y_i),\n",
    "        'recall': recall_score(y_i_true, y_i),\n",
    "        'f1': f1_score(y_i_true, y_i),\n",
    "        'confusion_matrix': confusion_matrix(y_i_true, y_i),\n",
    "        'classification_report': classification_report(y_i_true, y_i),\n",
    "        'n_fixes': i,\n",
    "    })\n",
    "\n",
    "\n",
    "    # Find issues and add to dataframe\n",
    "    datalab_i = Datalab(\n",
    "        data=df,\n",
    "        label_name=in_binary_class_i,\n",
    "    )\n",
    "    datalab_i.find_issues(pred_probs=y_proba_i)\n",
    "    metrics[-1]['n_issues'] = datalab_i.get_issue_summary(\"label\")['num_issues'][0]\n",
    "    \n",
    "    \n",
    "    data_label_issues_i = datalab_i.get_issues(\"label\")\n",
    "\n",
    "    df[IN_BINARY_CLASS+f'_{i+1}'] = data_label_issues_i['predicted_label'].to_list()\n",
    "    df['is_label_issue'] = data_label_issues_i['is_label_issue'].to_list()\n",
    "    df[IN_BINARY_CLASS+f'_{i+1}'] = df[IN_BINARY_CLASS+f'_{i+1}'].mask(~df['is_label_issue'], df[IN_BINARY_CLASS+f'_{i}'])"
   ]
  },
  {
   "attachments": {},
   "cell_type": "markdown",
   "metadata": {},
   "source": [
    "**Saving results**"
   ]
  },
  {
   "cell_type": "code",
   "execution_count": 36,
   "metadata": {},
   "outputs": [],
   "source": [
    "df_metrics_results = pd.DataFrame(metrics)\n",
    "df_metrics_results.to_csv(f'./data/{IN_BINARY_CLASS}_conf_learning_metrics_results.csv', index=False)"
   ]
  },
  {
   "cell_type": "code",
   "execution_count": 37,
   "metadata": {},
   "outputs": [],
   "source": [
    "df_clean_labels = (\n",
    "    df\n",
    "    [['ementa', IN_BINARY_CLASS+f'_{N_FIXES}']]\n",
    "    .rename(columns={IN_BINARY_CLASS+f'_{N_FIXES}': IN_BINARY_CLASS})\n",
    ")\n",
    "\n",
    "df_clean_labels.to_parquet(\n",
    "    f'./data/{IN_BINARY_CLASS}_conf_learning_clean_labels.parquet', \n",
    "    index=False\n",
    ")"
   ]
  }
 ],
 "metadata": {
  "kernelspec": {
   "display_name": "Python 3",
   "language": "python",
   "name": "python3"
  },
  "language_info": {
   "codemirror_mode": {
    "name": "ipython",
    "version": 3
   },
   "file_extension": ".py",
   "mimetype": "text/x-python",
   "name": "python",
   "nbconvert_exporter": "python",
   "pygments_lexer": "ipython3",
   "version": "3.10.6"
  },
  "orig_nbformat": 4
 },
 "nbformat": 4,
 "nbformat_minor": 2
}
