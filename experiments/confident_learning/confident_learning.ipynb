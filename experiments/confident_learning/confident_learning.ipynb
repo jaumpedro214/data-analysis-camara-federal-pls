{
 "cells": [
  {
   "attachments": {},
   "cell_type": "markdown",
   "metadata": {},
   "source": [
    "# Fixing the themes of Brazilian Laws with Confident Learning techniques\n",
    "\n",
    "\n",
    "\n",
    "While researching new possibilities to apply machine learning techniques, I've come across the Federal Congress of Brazil's [Open Data Portal](https://dadosabertos.camara.leg.br/swagger/api.html#staticfile). This portal contains a lot of data about the Brazilian Congress, including all the laws that are and have been discussed in the last decades. Among the resources, there is the laws' summary (*_ementa_*) and its theme (*_tema_*), a categorical multi-valued variable that describes the subjects, such as *_health_*, *_education_*, *_economy_*, etc.\n",
    "\n",
    "However, when trying to develop a simple model to identify whether a class is related to a specific theme or not (binary classification), the poor model performance denunciated to me that the data could have some problems and, after inspection, I noticed that there are several laws wrongly classified.\n",
    "\n",
    "**The problem is**: The dataset contains 60K+ laws, ranging from 1990 to 2022, and it's impossible to manually inspect all of them.\n",
    "\n",
    "Clean Lab to rescue!\n",
    "\n",
    "Confident Learning is an approach to automatically identify noise and label errors in datasets using supervised Machine Learning models. It’s used in this notebook through the [CleanLab Python package](https://github.com/cleanlab/cleanlab)."
   ]
  },
  {
   "attachments": {},
   "cell_type": "markdown",
   "metadata": {},
   "source": [
    "## Importing Libraries"
   ]
  },
  {
   "cell_type": "code",
   "execution_count": 2,
   "metadata": {},
   "outputs": [
    {
     "name": "stderr",
     "output_type": "stream",
     "text": [
      "/home/jaolima/.local/lib/python3.10/site-packages/tqdm/auto.py:21: TqdmWarning: IProgress not found. Please update jupyter and ipywidgets. See https://ipywidgets.readthedocs.io/en/stable/user_install.html\n",
      "  from .autonotebook import tqdm as notebook_tqdm\n"
     ]
    }
   ],
   "source": [
    "import pandas as pd\n",
    "import numpy as np\n",
    "\n",
    "from sklearn.feature_extraction.text import TfidfVectorizer\n",
    "from sklearn.ensemble import RandomForestClassifier\n",
    "\n",
    "from sklearn.model_selection import train_test_split, cross_val_score, cross_val_predict\n",
    "from sklearn.model_selection import GridSearchCV, StratifiedKFold\n",
    "from sklearn.pipeline import Pipeline\n",
    "\n",
    "from sklearn.metrics import accuracy_score, precision_score, recall_score, f1_score\n",
    "from sklearn.metrics import confusion_matrix, classification_report\n",
    "\n",
    "from cleanlab import Datalab\n",
    "import json\n",
    "\n",
    "RANDOM_SEED = 214\n",
    "np.random.seed(RANDOM_SEED)"
   ]
  },
  {
   "attachments": {},
   "cell_type": "markdown",
   "metadata": {},
   "source": [
    "## Importing data"
   ]
  },
  {
   "cell_type": "code",
   "execution_count": 8,
   "metadata": {},
   "outputs": [
    {
     "data": {
      "text/html": [
       "<div>\n",
       "<style scoped>\n",
       "    .dataframe tbody tr th:only-of-type {\n",
       "        vertical-align: middle;\n",
       "    }\n",
       "\n",
       "    .dataframe tbody tr th {\n",
       "        vertical-align: top;\n",
       "    }\n",
       "\n",
       "    .dataframe thead th {\n",
       "        text-align: right;\n",
       "    }\n",
       "</style>\n",
       "<table border=\"1\" class=\"dataframe\">\n",
       "  <thead>\n",
       "    <tr style=\"text-align: right;\">\n",
       "      <th>tema</th>\n",
       "      <th>id</th>\n",
       "      <th>ementa</th>\n",
       "      <th>Administração Pública</th>\n",
       "      <th>Agricultura, Pecuária, Pesca e Extrativismo</th>\n",
       "      <th>Arte, Cultura e Religião</th>\n",
       "      <th>Cidades e Desenvolvimento Urbano</th>\n",
       "      <th>Comunicações</th>\n",
       "      <th>Defesa e Segurança</th>\n",
       "      <th>Direito Civil e Processual Civil</th>\n",
       "      <th>Direito Penal e Processual Penal</th>\n",
       "      <th>...</th>\n",
       "      <th>Finanças Públicas e Orçamento</th>\n",
       "      <th>Homenagens e Datas Comemorativas</th>\n",
       "      <th>Indústria, Comércio e Serviços</th>\n",
       "      <th>Meio Ambiente e Desenvolvimento Sustentável</th>\n",
       "      <th>Política, Partidos e Eleições</th>\n",
       "      <th>Previdência e Assistência Social</th>\n",
       "      <th>Saúde</th>\n",
       "      <th>Trabalho e Emprego</th>\n",
       "      <th>Viação, Transporte e Mobilidade</th>\n",
       "      <th>Outro</th>\n",
       "    </tr>\n",
       "  </thead>\n",
       "  <tbody>\n",
       "    <tr>\n",
       "      <th>0</th>\n",
       "      <td>14919</td>\n",
       "      <td>Dispõe sobre a Política Nacional de Salários, ...</td>\n",
       "      <td>0</td>\n",
       "      <td>0</td>\n",
       "      <td>0</td>\n",
       "      <td>0</td>\n",
       "      <td>0</td>\n",
       "      <td>0</td>\n",
       "      <td>0</td>\n",
       "      <td>0</td>\n",
       "      <td>...</td>\n",
       "      <td>0</td>\n",
       "      <td>0</td>\n",
       "      <td>0</td>\n",
       "      <td>0</td>\n",
       "      <td>0</td>\n",
       "      <td>0</td>\n",
       "      <td>0</td>\n",
       "      <td>1</td>\n",
       "      <td>0</td>\n",
       "      <td>0</td>\n",
       "    </tr>\n",
       "    <tr>\n",
       "      <th>1</th>\n",
       "      <td>14920</td>\n",
       "      <td>Modifica o art. 6º da Lei nº 9.424, de 24 de d...</td>\n",
       "      <td>0</td>\n",
       "      <td>0</td>\n",
       "      <td>0</td>\n",
       "      <td>0</td>\n",
       "      <td>0</td>\n",
       "      <td>0</td>\n",
       "      <td>0</td>\n",
       "      <td>0</td>\n",
       "      <td>...</td>\n",
       "      <td>0</td>\n",
       "      <td>0</td>\n",
       "      <td>0</td>\n",
       "      <td>0</td>\n",
       "      <td>0</td>\n",
       "      <td>0</td>\n",
       "      <td>0</td>\n",
       "      <td>0</td>\n",
       "      <td>0</td>\n",
       "      <td>0</td>\n",
       "    </tr>\n",
       "  </tbody>\n",
       "</table>\n",
       "<p>2 rows × 27 columns</p>\n",
       "</div>"
      ],
      "text/plain": [
       "tema     id                                             ementa   \n",
       "0     14919  Dispõe sobre a Política Nacional de Salários, ...  \\\n",
       "1     14920  Modifica o art. 6º da Lei nº 9.424, de 24 de d...   \n",
       "\n",
       "tema  Administração Pública  Agricultura, Pecuária, Pesca e Extrativismo   \n",
       "0                         0                                            0  \\\n",
       "1                         0                                            0   \n",
       "\n",
       "tema  Arte, Cultura e Religião  Cidades e Desenvolvimento Urbano   \n",
       "0                            0                                 0  \\\n",
       "1                            0                                 0   \n",
       "\n",
       "tema  Comunicações  Defesa e Segurança  Direito Civil e Processual Civil   \n",
       "0                0                   0                                 0  \\\n",
       "1                0                   0                                 0   \n",
       "\n",
       "tema  Direito Penal e Processual Penal  ...  Finanças Públicas e Orçamento   \n",
       "0                                    0  ...                              0  \\\n",
       "1                                    0  ...                              0   \n",
       "\n",
       "tema  Homenagens e Datas Comemorativas  Indústria, Comércio e Serviços   \n",
       "0                                    0                               0  \\\n",
       "1                                    0                               0   \n",
       "\n",
       "tema  Meio Ambiente e Desenvolvimento Sustentável   \n",
       "0                                               0  \\\n",
       "1                                               0   \n",
       "\n",
       "tema  Política, Partidos e Eleições  Previdência e Assistência Social  Saúde   \n",
       "0                                 0                                 0      0  \\\n",
       "1                                 0                                 0      0   \n",
       "\n",
       "tema  Trabalho e Emprego  Viação, Transporte e Mobilidade  Outro  \n",
       "0                      1                                0      0  \n",
       "1                      0                                0      0  \n",
       "\n",
       "[2 rows x 27 columns]"
      ]
     },
     "execution_count": 8,
     "metadata": {},
     "output_type": "execute_result"
    }
   ],
   "source": [
    "df_pls_theme = pd.read_parquet('../../data/proposicoes_temas_one_hot_encoding.parquet')\n",
    "df_pls_theme.head(2)"
   ]
  },
  {
   "attachments": {},
   "cell_type": "markdown",
   "metadata": {},
   "source": [
    "**Counting the number of laws per theme**"
   ]
  },
  {
   "cell_type": "code",
   "execution_count": 9,
   "metadata": {},
   "outputs": [
    {
     "data": {
      "text/plain": [
       "tema\n",
       "Direitos Humanos e Minorias                    8544\n",
       "Trabalho e Emprego                             7775\n",
       "Saúde                                          7648\n",
       "Finanças Públicas e Orçamento                  7168\n",
       "Administração Pública                          6915\n",
       "Direito Penal e Processual Penal               5704\n",
       "Educação                                       5267\n",
       "Indústria, Comércio e Serviços                 4540\n",
       "Viação, Transporte e Mobilidade                4459\n",
       "Defesa e Segurança                             3529\n",
       "Direito Civil e Processual Civil               3413\n",
       "Meio Ambiente e Desenvolvimento Sustentável    2988\n",
       "Previdência e Assistência Social               2818\n",
       "Homenagens e Datas Comemorativas               2683\n",
       "Economia                                       2513\n",
       "Direito e Defesa do Consumidor                 2360\n",
       "Comunicações                                   2254\n",
       "Cidades e Desenvolvimento Urbano               1995\n",
       "Outro                                          1973\n",
       "Energia, Recursos Hídricos e Minerais          1835\n",
       "Política, Partidos e Eleições                  1450\n",
       "Arte, Cultura e Religião                       1377\n",
       "Agricultura, Pecuária, Pesca e Extrativismo    1104\n",
       "Esporte e Lazer                                1046\n",
       "Estrutura Fundiária                             921\n",
       "dtype: int64"
      ]
     },
     "execution_count": 9,
     "metadata": {},
     "output_type": "execute_result"
    }
   ],
   "source": [
    "df_pls_theme\\\n",
    "    .drop_duplicates('ementa')\\\n",
    "    .drop(columns=['id','ementa'])\\\n",
    "    .sum(axis=0)\\\n",
    "    .sort_values(ascending=False)"
   ]
  },
  {
   "attachments": {},
   "cell_type": "markdown",
   "metadata": {},
   "source": [
    "Selecting the theme to be analyzed"
   ]
  },
  {
   "cell_type": "code",
   "execution_count": 10,
   "metadata": {},
   "outputs": [
    {
     "name": "stdout",
     "output_type": "stream",
     "text": [
      "<class 'pandas.core.frame.DataFrame'>\n",
      "Index: 61934 entries, 0 to 65976\n",
      "Data columns (total 2 columns):\n",
      " #   Column                               Non-Null Count  Dtype \n",
      "---  ------                               --------------  ----- \n",
      " 0   ementa                               61934 non-null  object\n",
      " 1   in_homenagens_e_datas_comemorativas  61934 non-null  int64 \n",
      "dtypes: int64(1), object(1)\n",
      "memory usage: 1.4+ MB\n"
     ]
    }
   ],
   "source": [
    "BINARY_CLASS = \"Homenagens e Datas Comemorativas\"\n",
    "IN_BINARY_CLASS = \"in_\" + BINARY_CLASS.lower().replace(\" \", \"_\")\n",
    "\n",
    "df_pls_theme = df_pls_theme.drop_duplicates(subset=[\"ementa\"])\n",
    "df_pls_theme = df_pls_theme[[\"ementa\", BINARY_CLASS]]\n",
    "df_pls_theme = df_pls_theme.rename(\n",
    "    columns={BINARY_CLASS: IN_BINARY_CLASS}\n",
    ")\n",
    "\n",
    "df_pls_theme.info()"
   ]
  },
  {
   "attachments": {},
   "cell_type": "markdown",
   "metadata": {},
   "source": [
    "Percentage of the selected theme"
   ]
  },
  {
   "cell_type": "code",
   "execution_count": 12,
   "metadata": {},
   "outputs": [
    {
     "data": {
      "text/plain": [
       "in_homenagens_e_datas_comemorativas\n",
       "0    95.667969\n",
       "1     4.332031\n",
       "Name: proportion, dtype: float64"
      ]
     },
     "execution_count": 12,
     "metadata": {},
     "output_type": "execute_result"
    }
   ],
   "source": [
    "100*df_pls_theme[IN_BINARY_CLASS].value_counts(normalize=True)"
   ]
  },
  {
   "attachments": {},
   "cell_type": "markdown",
   "metadata": {},
   "source": [
    "**Showing errors in the data**"
   ]
  },
  {
   "attachments": {},
   "cell_type": "markdown",
   "metadata": {},
   "source": [
    "As the choosen class is *Tributes and commemorative dates* (a simple theme), it's possible to search errors with simple queries.\n",
    "\n",
    "The code below searches for false negatives in the dataset, i.e., laws that are not classified as *Tributes and commemorative dates* but should be."
   ]
  },
  {
   "cell_type": "code",
   "execution_count": 42,
   "metadata": {},
   "outputs": [
    {
     "name": "stdout",
     "output_type": "stream",
     "text": [
      "Found 178 possible errors\n"
     ]
    },
    {
     "data": {
      "text/html": [
       "<div>\n",
       "<style scoped>\n",
       "    .dataframe tbody tr th:only-of-type {\n",
       "        vertical-align: middle;\n",
       "    }\n",
       "\n",
       "    .dataframe tbody tr th {\n",
       "        vertical-align: top;\n",
       "    }\n",
       "\n",
       "    .dataframe thead th {\n",
       "        text-align: right;\n",
       "    }\n",
       "</style>\n",
       "<table border=\"1\" class=\"dataframe\">\n",
       "  <thead>\n",
       "    <tr style=\"text-align: right;\">\n",
       "      <th>tema</th>\n",
       "      <th>ementa</th>\n",
       "      <th>in_homenagens_e_datas_comemorativas</th>\n",
       "    </tr>\n",
       "  </thead>\n",
       "  <tbody>\n",
       "    <tr>\n",
       "      <th>1000</th>\n",
       "      <td>Dispõe sobre a instituição do Dia Nacional da ...</td>\n",
       "      <td>0</td>\n",
       "    </tr>\n",
       "    <tr>\n",
       "      <th>1216</th>\n",
       "      <td>Institui o dia 20 de julho como Dia Nacional d...</td>\n",
       "      <td>0</td>\n",
       "    </tr>\n",
       "    <tr>\n",
       "      <th>1526</th>\n",
       "      <td>Institui o 12 de agosto como Dia Nacional da J...</td>\n",
       "      <td>0</td>\n",
       "    </tr>\n",
       "    <tr>\n",
       "      <th>1876</th>\n",
       "      <td>Institui o dia 13 de julho como o Dia Nacional...</td>\n",
       "      <td>0</td>\n",
       "    </tr>\n",
       "    <tr>\n",
       "      <th>1951</th>\n",
       "      <td>Institui o Dia Nacional das APAES.</td>\n",
       "      <td>0</td>\n",
       "    </tr>\n",
       "    <tr>\n",
       "      <th>...</th>\n",
       "      <td>...</td>\n",
       "      <td>...</td>\n",
       "    </tr>\n",
       "    <tr>\n",
       "      <th>54911</th>\n",
       "      <td>Insere métodos de ensino sanitário para crianç...</td>\n",
       "      <td>0</td>\n",
       "    </tr>\n",
       "    <tr>\n",
       "      <th>63545</th>\n",
       "      <td>Institui o Dia 10 de outubro como Dia Nacional...</td>\n",
       "      <td>0</td>\n",
       "    </tr>\n",
       "    <tr>\n",
       "      <th>64085</th>\n",
       "      <td>Dispõe sobre a criação do Dia Nacional de defe...</td>\n",
       "      <td>0</td>\n",
       "    </tr>\n",
       "    <tr>\n",
       "      <th>64293</th>\n",
       "      <td>Cria o Programa Nacional de Prevenção da Depre...</td>\n",
       "      <td>0</td>\n",
       "    </tr>\n",
       "    <tr>\n",
       "      <th>64474</th>\n",
       "      <td>Institui o dia nacional do skate</td>\n",
       "      <td>0</td>\n",
       "    </tr>\n",
       "  </tbody>\n",
       "</table>\n",
       "<p>178 rows × 2 columns</p>\n",
       "</div>"
      ],
      "text/plain": [
       "tema                                              ementa   \n",
       "1000   Dispõe sobre a instituição do Dia Nacional da ...  \\\n",
       "1216   Institui o dia 20 de julho como Dia Nacional d...   \n",
       "1526   Institui o 12 de agosto como Dia Nacional da J...   \n",
       "1876   Institui o dia 13 de julho como o Dia Nacional...   \n",
       "1951                  Institui o Dia Nacional das APAES.   \n",
       "...                                                  ...   \n",
       "54911  Insere métodos de ensino sanitário para crianç...   \n",
       "63545  Institui o Dia 10 de outubro como Dia Nacional...   \n",
       "64085  Dispõe sobre a criação do Dia Nacional de defe...   \n",
       "64293  Cria o Programa Nacional de Prevenção da Depre...   \n",
       "64474                   Institui o dia nacional do skate   \n",
       "\n",
       "tema   in_homenagens_e_datas_comemorativas  \n",
       "1000                                     0  \n",
       "1216                                     0  \n",
       "1526                                     0  \n",
       "1876                                     0  \n",
       "1951                                     0  \n",
       "...                                    ...  \n",
       "54911                                    0  \n",
       "63545                                    0  \n",
       "64085                                    0  \n",
       "64293                                    0  \n",
       "64474                                    0  \n",
       "\n",
       "[178 rows x 2 columns]"
      ]
     },
     "execution_count": 42,
     "metadata": {},
     "output_type": "execute_result"
    }
   ],
   "source": [
    "df_possible_errors = (\n",
    "    df_pls_theme\n",
    "    .query(f\"{IN_BINARY_CLASS} == 0\")\n",
    "    .loc[ df_pls_theme['ementa'].apply(lambda x: 'dia nacional' in x.lower()) ]\n",
    ")\n",
    "\n",
    "print(f\"Found {len(df_possible_errors)} possible errors\")\n",
    "df_possible_errors"
   ]
  },
  {
   "attachments": {},
   "cell_type": "markdown",
   "metadata": {},
   "source": [
    "\n",
    "\n",
    "It's important to note that I'm not a specialist in law, but I see no reason why *Institui o dia nacional do skate*, *Institui o Dia Nacional do Inventor ...* and *Institui o Dia Nacional do Idoso* should not be related to *Tributes and commemorative dates*."
   ]
  },
  {
   "attachments": {},
   "cell_type": "markdown",
   "metadata": {},
   "source": [
    "## Training the Model with the original labels"
   ]
  },
  {
   "attachments": {},
   "cell_type": "markdown",
   "metadata": {},
   "source": [
    "The first step of this notebook is to train a model with the original labels and check its performance.\n",
    "\n",
    "The cells below follow the usual steps of a Machine Learning project, from data preparation to model training and evaluation."
   ]
  },
  {
   "attachments": {},
   "cell_type": "markdown",
   "metadata": {},
   "source": [
    "**Train test split**"
   ]
  },
  {
   "cell_type": "code",
   "execution_count": 5,
   "metadata": {},
   "outputs": [],
   "source": [
    "X = df_pls_theme.ementa\n",
    "y = df_pls_theme[IN_BINARY_CLASS]\n",
    "\n",
    "X_train, X_test, y_train, y_test = train_test_split(\n",
    "    X, y, test_size=0.2, stratify=y, shuffle=True, random_state=RANDOM_SEED\n",
    ")"
   ]
  },
  {
   "attachments": {},
   "cell_type": "markdown",
   "metadata": {},
   "source": [
    "**Model Selection**"
   ]
  },
  {
   "attachments": {},
   "cell_type": "markdown",
   "metadata": {},
   "source": [
    "To make this code simpler, I've omitted the Model Selection part, and I've choose to use a Random Forest Classifier directly."
   ]
  },
  {
   "attachments": {},
   "cell_type": "markdown",
   "metadata": {},
   "source": [
    "**Hyperparameter Tuning**\n",
    "\n",
    "As this is a highlly unbalanced dataset, the accuracy is not a good metric to evaluate the model. The F1 score is a better metric for this case.\n",
    "\n",
    "Also, its imperative to use the stratify parameter to ensure that the train and test sets have the same proportion of the classes."
   ]
  },
  {
   "cell_type": "code",
   "execution_count": 64,
   "metadata": {},
   "outputs": [],
   "source": [
    "clf_pipeline = Pipeline([\n",
    "    ('tfidf', TfidfVectorizer(lowercase=True, strip_accents='ascii', max_features=5000, max_df=0.9)),\n",
    "    ('clf', RandomForestClassifier(random_state=RANDOM_SEED, n_jobs=-1))\n",
    "])\n",
    "\n",
    "params = {\n",
    "    'clf__n_estimators': [200, 300],\n",
    "    'clf__max_depth': [None, 10, 30],\n",
    "}"
   ]
  },
  {
   "cell_type": "code",
   "execution_count": 34,
   "metadata": {},
   "outputs": [
    {
     "name": "stdout",
     "output_type": "stream",
     "text": [
      "Fitting 3 folds for each of 6 candidates, totalling 18 fits\n",
      "CPU times: user 1min 6s, sys: 18.5 s, total: 1min 25s\n",
      "Wall time: 2min 47s\n"
     ]
    },
    {
     "data": {
      "text/html": [
       "<style>#sk-container-id-1 {color: black;background-color: white;}#sk-container-id-1 pre{padding: 0;}#sk-container-id-1 div.sk-toggleable {background-color: white;}#sk-container-id-1 label.sk-toggleable__label {cursor: pointer;display: block;width: 100%;margin-bottom: 0;padding: 0.3em;box-sizing: border-box;text-align: center;}#sk-container-id-1 label.sk-toggleable__label-arrow:before {content: \"▸\";float: left;margin-right: 0.25em;color: #696969;}#sk-container-id-1 label.sk-toggleable__label-arrow:hover:before {color: black;}#sk-container-id-1 div.sk-estimator:hover label.sk-toggleable__label-arrow:before {color: black;}#sk-container-id-1 div.sk-toggleable__content {max-height: 0;max-width: 0;overflow: hidden;text-align: left;background-color: #f0f8ff;}#sk-container-id-1 div.sk-toggleable__content pre {margin: 0.2em;color: black;border-radius: 0.25em;background-color: #f0f8ff;}#sk-container-id-1 input.sk-toggleable__control:checked~div.sk-toggleable__content {max-height: 200px;max-width: 100%;overflow: auto;}#sk-container-id-1 input.sk-toggleable__control:checked~label.sk-toggleable__label-arrow:before {content: \"▾\";}#sk-container-id-1 div.sk-estimator input.sk-toggleable__control:checked~label.sk-toggleable__label {background-color: #d4ebff;}#sk-container-id-1 div.sk-label input.sk-toggleable__control:checked~label.sk-toggleable__label {background-color: #d4ebff;}#sk-container-id-1 input.sk-hidden--visually {border: 0;clip: rect(1px 1px 1px 1px);clip: rect(1px, 1px, 1px, 1px);height: 1px;margin: -1px;overflow: hidden;padding: 0;position: absolute;width: 1px;}#sk-container-id-1 div.sk-estimator {font-family: monospace;background-color: #f0f8ff;border: 1px dotted black;border-radius: 0.25em;box-sizing: border-box;margin-bottom: 0.5em;}#sk-container-id-1 div.sk-estimator:hover {background-color: #d4ebff;}#sk-container-id-1 div.sk-parallel-item::after {content: \"\";width: 100%;border-bottom: 1px solid gray;flex-grow: 1;}#sk-container-id-1 div.sk-label:hover label.sk-toggleable__label {background-color: #d4ebff;}#sk-container-id-1 div.sk-serial::before {content: \"\";position: absolute;border-left: 1px solid gray;box-sizing: border-box;top: 0;bottom: 0;left: 50%;z-index: 0;}#sk-container-id-1 div.sk-serial {display: flex;flex-direction: column;align-items: center;background-color: white;padding-right: 0.2em;padding-left: 0.2em;position: relative;}#sk-container-id-1 div.sk-item {position: relative;z-index: 1;}#sk-container-id-1 div.sk-parallel {display: flex;align-items: stretch;justify-content: center;background-color: white;position: relative;}#sk-container-id-1 div.sk-item::before, #sk-container-id-1 div.sk-parallel-item::before {content: \"\";position: absolute;border-left: 1px solid gray;box-sizing: border-box;top: 0;bottom: 0;left: 50%;z-index: -1;}#sk-container-id-1 div.sk-parallel-item {display: flex;flex-direction: column;z-index: 1;position: relative;background-color: white;}#sk-container-id-1 div.sk-parallel-item:first-child::after {align-self: flex-end;width: 50%;}#sk-container-id-1 div.sk-parallel-item:last-child::after {align-self: flex-start;width: 50%;}#sk-container-id-1 div.sk-parallel-item:only-child::after {width: 0;}#sk-container-id-1 div.sk-dashed-wrapped {border: 1px dashed gray;margin: 0 0.4em 0.5em 0.4em;box-sizing: border-box;padding-bottom: 0.4em;background-color: white;}#sk-container-id-1 div.sk-label label {font-family: monospace;font-weight: bold;display: inline-block;line-height: 1.2em;}#sk-container-id-1 div.sk-label-container {text-align: center;}#sk-container-id-1 div.sk-container {/* jupyter's `normalize.less` sets `[hidden] { display: none; }` but bootstrap.min.css set `[hidden] { display: none !important; }` so we also need the `!important` here to be able to override the default hidden behavior on the sphinx rendered scikit-learn.org. See: https://github.com/scikit-learn/scikit-learn/issues/21755 */display: inline-block !important;position: relative;}#sk-container-id-1 div.sk-text-repr-fallback {display: none;}</style><div id=\"sk-container-id-1\" class=\"sk-top-container\"><div class=\"sk-text-repr-fallback\"><pre>GridSearchCV(cv=3,\n",
       "             estimator=Pipeline(steps=[(&#x27;tfidf&#x27;,\n",
       "                                        TfidfVectorizer(max_df=0.9,\n",
       "                                                        max_features=5000,\n",
       "                                                        strip_accents=&#x27;ascii&#x27;)),\n",
       "                                       (&#x27;clf&#x27;,\n",
       "                                        RandomForestClassifier(n_jobs=-1,\n",
       "                                                               random_state=214))]),\n",
       "             n_jobs=2,\n",
       "             param_grid={&#x27;clf__max_depth&#x27;: [None, 10, 30],\n",
       "                         &#x27;clf__n_estimators&#x27;: [200, 300]},\n",
       "             scoring=&#x27;f1&#x27;, verbose=1)</pre><b>In a Jupyter environment, please rerun this cell to show the HTML representation or trust the notebook. <br />On GitHub, the HTML representation is unable to render, please try loading this page with nbviewer.org.</b></div><div class=\"sk-container\" hidden><div class=\"sk-item sk-dashed-wrapped\"><div class=\"sk-label-container\"><div class=\"sk-label sk-toggleable\"><input class=\"sk-toggleable__control sk-hidden--visually\" id=\"sk-estimator-id-1\" type=\"checkbox\" ><label for=\"sk-estimator-id-1\" class=\"sk-toggleable__label sk-toggleable__label-arrow\">GridSearchCV</label><div class=\"sk-toggleable__content\"><pre>GridSearchCV(cv=3,\n",
       "             estimator=Pipeline(steps=[(&#x27;tfidf&#x27;,\n",
       "                                        TfidfVectorizer(max_df=0.9,\n",
       "                                                        max_features=5000,\n",
       "                                                        strip_accents=&#x27;ascii&#x27;)),\n",
       "                                       (&#x27;clf&#x27;,\n",
       "                                        RandomForestClassifier(n_jobs=-1,\n",
       "                                                               random_state=214))]),\n",
       "             n_jobs=2,\n",
       "             param_grid={&#x27;clf__max_depth&#x27;: [None, 10, 30],\n",
       "                         &#x27;clf__n_estimators&#x27;: [200, 300]},\n",
       "             scoring=&#x27;f1&#x27;, verbose=1)</pre></div></div></div><div class=\"sk-parallel\"><div class=\"sk-parallel-item\"><div class=\"sk-item\"><div class=\"sk-label-container\"><div class=\"sk-label sk-toggleable\"><input class=\"sk-toggleable__control sk-hidden--visually\" id=\"sk-estimator-id-2\" type=\"checkbox\" ><label for=\"sk-estimator-id-2\" class=\"sk-toggleable__label sk-toggleable__label-arrow\">estimator: Pipeline</label><div class=\"sk-toggleable__content\"><pre>Pipeline(steps=[(&#x27;tfidf&#x27;,\n",
       "                 TfidfVectorizer(max_df=0.9, max_features=5000,\n",
       "                                 strip_accents=&#x27;ascii&#x27;)),\n",
       "                (&#x27;clf&#x27;, RandomForestClassifier(n_jobs=-1, random_state=214))])</pre></div></div></div><div class=\"sk-serial\"><div class=\"sk-item\"><div class=\"sk-serial\"><div class=\"sk-item\"><div class=\"sk-estimator sk-toggleable\"><input class=\"sk-toggleable__control sk-hidden--visually\" id=\"sk-estimator-id-3\" type=\"checkbox\" ><label for=\"sk-estimator-id-3\" class=\"sk-toggleable__label sk-toggleable__label-arrow\">TfidfVectorizer</label><div class=\"sk-toggleable__content\"><pre>TfidfVectorizer(max_df=0.9, max_features=5000, strip_accents=&#x27;ascii&#x27;)</pre></div></div></div><div class=\"sk-item\"><div class=\"sk-estimator sk-toggleable\"><input class=\"sk-toggleable__control sk-hidden--visually\" id=\"sk-estimator-id-4\" type=\"checkbox\" ><label for=\"sk-estimator-id-4\" class=\"sk-toggleable__label sk-toggleable__label-arrow\">RandomForestClassifier</label><div class=\"sk-toggleable__content\"><pre>RandomForestClassifier(n_jobs=-1, random_state=214)</pre></div></div></div></div></div></div></div></div></div></div></div></div>"
      ],
      "text/plain": [
       "GridSearchCV(cv=3,\n",
       "             estimator=Pipeline(steps=[('tfidf',\n",
       "                                        TfidfVectorizer(max_df=0.9,\n",
       "                                                        max_features=5000,\n",
       "                                                        strip_accents='ascii')),\n",
       "                                       ('clf',\n",
       "                                        RandomForestClassifier(n_jobs=-1,\n",
       "                                                               random_state=214))]),\n",
       "             n_jobs=2,\n",
       "             param_grid={'clf__max_depth': [None, 10, 30],\n",
       "                         'clf__n_estimators': [200, 300]},\n",
       "             scoring='f1', verbose=1)"
      ]
     },
     "execution_count": 34,
     "metadata": {},
     "output_type": "execute_result"
    }
   ],
   "source": [
    "grid_search = GridSearchCV(\n",
    "    clf_pipeline, params, cv=StratifiedKFold(n_splits=3, shuffle=True, random_state=RANDOM_SEED)\n",
    "    ,scoring='f1', n_jobs=2, verbose=1\n",
    ")\n",
    "\n",
    "grid_search.fit(X_train, y_train)"
   ]
  },
  {
   "attachments": {},
   "cell_type": "markdown",
   "metadata": {},
   "source": [
    "The best model and its score"
   ]
  },
  {
   "cell_type": "code",
   "execution_count": 47,
   "metadata": {},
   "outputs": [
    {
     "name": "stdout",
     "output_type": "stream",
     "text": [
      "0.7992734162850049\n"
     ]
    },
    {
     "data": {
      "text/html": [
       "<style>#sk-container-id-3 {color: black;background-color: white;}#sk-container-id-3 pre{padding: 0;}#sk-container-id-3 div.sk-toggleable {background-color: white;}#sk-container-id-3 label.sk-toggleable__label {cursor: pointer;display: block;width: 100%;margin-bottom: 0;padding: 0.3em;box-sizing: border-box;text-align: center;}#sk-container-id-3 label.sk-toggleable__label-arrow:before {content: \"▸\";float: left;margin-right: 0.25em;color: #696969;}#sk-container-id-3 label.sk-toggleable__label-arrow:hover:before {color: black;}#sk-container-id-3 div.sk-estimator:hover label.sk-toggleable__label-arrow:before {color: black;}#sk-container-id-3 div.sk-toggleable__content {max-height: 0;max-width: 0;overflow: hidden;text-align: left;background-color: #f0f8ff;}#sk-container-id-3 div.sk-toggleable__content pre {margin: 0.2em;color: black;border-radius: 0.25em;background-color: #f0f8ff;}#sk-container-id-3 input.sk-toggleable__control:checked~div.sk-toggleable__content {max-height: 200px;max-width: 100%;overflow: auto;}#sk-container-id-3 input.sk-toggleable__control:checked~label.sk-toggleable__label-arrow:before {content: \"▾\";}#sk-container-id-3 div.sk-estimator input.sk-toggleable__control:checked~label.sk-toggleable__label {background-color: #d4ebff;}#sk-container-id-3 div.sk-label input.sk-toggleable__control:checked~label.sk-toggleable__label {background-color: #d4ebff;}#sk-container-id-3 input.sk-hidden--visually {border: 0;clip: rect(1px 1px 1px 1px);clip: rect(1px, 1px, 1px, 1px);height: 1px;margin: -1px;overflow: hidden;padding: 0;position: absolute;width: 1px;}#sk-container-id-3 div.sk-estimator {font-family: monospace;background-color: #f0f8ff;border: 1px dotted black;border-radius: 0.25em;box-sizing: border-box;margin-bottom: 0.5em;}#sk-container-id-3 div.sk-estimator:hover {background-color: #d4ebff;}#sk-container-id-3 div.sk-parallel-item::after {content: \"\";width: 100%;border-bottom: 1px solid gray;flex-grow: 1;}#sk-container-id-3 div.sk-label:hover label.sk-toggleable__label {background-color: #d4ebff;}#sk-container-id-3 div.sk-serial::before {content: \"\";position: absolute;border-left: 1px solid gray;box-sizing: border-box;top: 0;bottom: 0;left: 50%;z-index: 0;}#sk-container-id-3 div.sk-serial {display: flex;flex-direction: column;align-items: center;background-color: white;padding-right: 0.2em;padding-left: 0.2em;position: relative;}#sk-container-id-3 div.sk-item {position: relative;z-index: 1;}#sk-container-id-3 div.sk-parallel {display: flex;align-items: stretch;justify-content: center;background-color: white;position: relative;}#sk-container-id-3 div.sk-item::before, #sk-container-id-3 div.sk-parallel-item::before {content: \"\";position: absolute;border-left: 1px solid gray;box-sizing: border-box;top: 0;bottom: 0;left: 50%;z-index: -1;}#sk-container-id-3 div.sk-parallel-item {display: flex;flex-direction: column;z-index: 1;position: relative;background-color: white;}#sk-container-id-3 div.sk-parallel-item:first-child::after {align-self: flex-end;width: 50%;}#sk-container-id-3 div.sk-parallel-item:last-child::after {align-self: flex-start;width: 50%;}#sk-container-id-3 div.sk-parallel-item:only-child::after {width: 0;}#sk-container-id-3 div.sk-dashed-wrapped {border: 1px dashed gray;margin: 0 0.4em 0.5em 0.4em;box-sizing: border-box;padding-bottom: 0.4em;background-color: white;}#sk-container-id-3 div.sk-label label {font-family: monospace;font-weight: bold;display: inline-block;line-height: 1.2em;}#sk-container-id-3 div.sk-label-container {text-align: center;}#sk-container-id-3 div.sk-container {/* jupyter's `normalize.less` sets `[hidden] { display: none; }` but bootstrap.min.css set `[hidden] { display: none !important; }` so we also need the `!important` here to be able to override the default hidden behavior on the sphinx rendered scikit-learn.org. See: https://github.com/scikit-learn/scikit-learn/issues/21755 */display: inline-block !important;position: relative;}#sk-container-id-3 div.sk-text-repr-fallback {display: none;}</style><div id=\"sk-container-id-3\" class=\"sk-top-container\"><div class=\"sk-text-repr-fallback\"><pre>Pipeline(steps=[(&#x27;tfidf&#x27;,\n",
       "                 TfidfVectorizer(max_df=0.9, max_features=5000,\n",
       "                                 strip_accents=&#x27;ascii&#x27;)),\n",
       "                (&#x27;clf&#x27;,\n",
       "                 RandomForestClassifier(n_estimators=300, n_jobs=-1,\n",
       "                                        random_state=214))])</pre><b>In a Jupyter environment, please rerun this cell to show the HTML representation or trust the notebook. <br />On GitHub, the HTML representation is unable to render, please try loading this page with nbviewer.org.</b></div><div class=\"sk-container\" hidden><div class=\"sk-item sk-dashed-wrapped\"><div class=\"sk-label-container\"><div class=\"sk-label sk-toggleable\"><input class=\"sk-toggleable__control sk-hidden--visually\" id=\"sk-estimator-id-8\" type=\"checkbox\" ><label for=\"sk-estimator-id-8\" class=\"sk-toggleable__label sk-toggleable__label-arrow\">Pipeline</label><div class=\"sk-toggleable__content\"><pre>Pipeline(steps=[(&#x27;tfidf&#x27;,\n",
       "                 TfidfVectorizer(max_df=0.9, max_features=5000,\n",
       "                                 strip_accents=&#x27;ascii&#x27;)),\n",
       "                (&#x27;clf&#x27;,\n",
       "                 RandomForestClassifier(n_estimators=300, n_jobs=-1,\n",
       "                                        random_state=214))])</pre></div></div></div><div class=\"sk-serial\"><div class=\"sk-item\"><div class=\"sk-estimator sk-toggleable\"><input class=\"sk-toggleable__control sk-hidden--visually\" id=\"sk-estimator-id-9\" type=\"checkbox\" ><label for=\"sk-estimator-id-9\" class=\"sk-toggleable__label sk-toggleable__label-arrow\">TfidfVectorizer</label><div class=\"sk-toggleable__content\"><pre>TfidfVectorizer(max_df=0.9, max_features=5000, strip_accents=&#x27;ascii&#x27;)</pre></div></div></div><div class=\"sk-item\"><div class=\"sk-estimator sk-toggleable\"><input class=\"sk-toggleable__control sk-hidden--visually\" id=\"sk-estimator-id-10\" type=\"checkbox\" ><label for=\"sk-estimator-id-10\" class=\"sk-toggleable__label sk-toggleable__label-arrow\">RandomForestClassifier</label><div class=\"sk-toggleable__content\"><pre>RandomForestClassifier(n_estimators=300, n_jobs=-1, random_state=214)</pre></div></div></div></div></div></div></div>"
      ],
      "text/plain": [
       "Pipeline(steps=[('tfidf',\n",
       "                 TfidfVectorizer(max_df=0.9, max_features=5000,\n",
       "                                 strip_accents='ascii')),\n",
       "                ('clf',\n",
       "                 RandomForestClassifier(n_estimators=300, n_jobs=-1,\n",
       "                                        random_state=214))])"
      ]
     },
     "execution_count": 47,
     "metadata": {},
     "output_type": "execute_result"
    }
   ],
   "source": [
    "print(grid_search.best_score_)\n",
    "grid_search.best_estimator_"
   ]
  },
  {
   "attachments": {},
   "cell_type": "markdown",
   "metadata": {},
   "source": [
    "## Cleaning the dataset"
   ]
  },
  {
   "attachments": {},
   "cell_type": "markdown",
   "metadata": {},
   "source": [
    "The CleanLab package uses the probabilities predicted by a model trained with the original labels to identify label errors and noisy data.\n",
    "\n",
    "It's mentioned in the [CleanLab documentation](https://cleanlab.readthedocs.io/en/latest/) that these probabilites must be created for all records in a out-of-sample dataset, i.e., a dataset that was not used to train the model. The easiest way to do this is to use K-Fold Cross Validation."
   ]
  },
  {
   "cell_type": "code",
   "execution_count": 67,
   "metadata": {},
   "outputs": [],
   "source": [
    "clean_pipeline = Pipeline([\n",
    "    ('tfidf', TfidfVectorizer(lowercase=True, strip_accents='ascii', max_features=6000, max_df=0.95)),\n",
    "    ('clf', RandomForestClassifier(random_state=RANDOM_SEED, n_jobs=-1, n_estimators=300))\n",
    "])"
   ]
  },
  {
   "cell_type": "code",
   "execution_count": 68,
   "metadata": {},
   "outputs": [
    {
     "name": "stderr",
     "output_type": "stream",
     "text": [
      "[Parallel(n_jobs=-1)]: Using backend LokyBackend with 4 concurrent workers.\n",
      "[Parallel(n_jobs=-1)]: Done   5 out of   5 | elapsed:  2.1min finished\n"
     ]
    }
   ],
   "source": [
    "y_proba = cross_val_predict(\n",
    "    clean_pipeline, \n",
    "    df_pls_theme['ementa'], \n",
    "    df_pls_theme[IN_BINARY_CLASS],\n",
    "    cv=StratifiedKFold(n_splits=5, shuffle=True, random_state=RANDOM_SEED), \n",
    "    method='predict_proba', \n",
    "    verbose=2,\n",
    "    n_jobs=-1\n",
    ")"
   ]
  },
  {
   "attachments": {},
   "cell_type": "markdown",
   "metadata": {},
   "source": [
    "The CleanLab package has a Datalab object that encapsulate a Dataframe object and its labels. It's from this object + model probabilities that it will identify label errors and noisy data."
   ]
  },
  {
   "cell_type": "code",
   "execution_count": 72,
   "metadata": {},
   "outputs": [],
   "source": [
    "lab = Datalab(\n",
    "    data=df_pls_theme,\n",
    "    label_name=IN_BINARY_CLASS,\n",
    ")"
   ]
  },
  {
   "attachments": {},
   "cell_type": "markdown",
   "metadata": {},
   "source": [
    "With the probabilities in hands, all that is needed is to pass them to the `find_issues` function."
   ]
  },
  {
   "cell_type": "code",
   "execution_count": 109,
   "metadata": {},
   "outputs": [
    {
     "name": "stdout",
     "output_type": "stream",
     "text": [
      "Finding label issues ...\n",
      "Finding outlier issues ...\n",
      "Fitting OOD estimator based on provided pred_probs ...\n",
      "Audit complete. 1027 issues found in the dataset.\n"
     ]
    },
    {
     "name": "stderr",
     "output_type": "stream",
     "text": [
      "/home/jaolima/.local/lib/python3.10/site-packages/cleanlab/datalab/data_issues.py:233: UserWarning: Overwriting columns ['is_label_issue', 'label_score'] in self.issues with columns from issue manager LabelIssueManager.\n",
      "  warnings.warn(\n",
      "/home/jaolima/.local/lib/python3.10/site-packages/cleanlab/datalab/data_issues.py:241: UserWarning: Overwriting row in self.issue_summary with row from issue manager LabelIssueManager.\n",
      "  warnings.warn(\n",
      "/home/jaolima/.local/lib/python3.10/site-packages/cleanlab/datalab/data_issues.py:260: UserWarning: Overwriting key label in self.info with key from issue manager LabelIssueManager.\n",
      "  warnings.warn(\n",
      "/home/jaolima/.local/lib/python3.10/site-packages/cleanlab/datalab/data_issues.py:233: UserWarning: Overwriting columns ['is_outlier_issue', 'outlier_score'] in self.issues with columns from issue manager OutlierIssueManager.\n",
      "  warnings.warn(\n",
      "/home/jaolima/.local/lib/python3.10/site-packages/cleanlab/datalab/data_issues.py:241: UserWarning: Overwriting row in self.issue_summary with row from issue manager OutlierIssueManager.\n",
      "  warnings.warn(\n",
      "/home/jaolima/.local/lib/python3.10/site-packages/cleanlab/datalab/data_issues.py:260: UserWarning: Overwriting key outlier in self.info with key from issue manager OutlierIssueManager.\n",
      "  warnings.warn(\n"
     ]
    }
   ],
   "source": [
    "lab.find_issues(pred_probs=y_proba)"
   ]
  },
  {
   "attachments": {},
   "cell_type": "markdown",
   "metadata": {},
   "source": [
    "CleanLab is geared to identify label errors, outliers, near-dupe, and noisy data, but we're only interested in label errors.\n",
    "\n",
    "The function `get_issue_summary` returns a summary of the issue specified."
   ]
  },
  {
   "cell_type": "code",
   "execution_count": 103,
   "metadata": {},
   "outputs": [
    {
     "data": {
      "text/html": [
       "<div>\n",
       "<style scoped>\n",
       "    .dataframe tbody tr th:only-of-type {\n",
       "        vertical-align: middle;\n",
       "    }\n",
       "\n",
       "    .dataframe tbody tr th {\n",
       "        vertical-align: top;\n",
       "    }\n",
       "\n",
       "    .dataframe thead th {\n",
       "        text-align: right;\n",
       "    }\n",
       "</style>\n",
       "<table border=\"1\" class=\"dataframe\">\n",
       "  <thead>\n",
       "    <tr style=\"text-align: right;\">\n",
       "      <th></th>\n",
       "      <th>issue_type</th>\n",
       "      <th>score</th>\n",
       "      <th>num_issues</th>\n",
       "    </tr>\n",
       "  </thead>\n",
       "  <tbody>\n",
       "    <tr>\n",
       "      <th>0</th>\n",
       "      <td>label</td>\n",
       "      <td>0.994962</td>\n",
       "      <td>312</td>\n",
       "    </tr>\n",
       "  </tbody>\n",
       "</table>\n",
       "</div>"
      ],
      "text/plain": [
       "  issue_type     score  num_issues\n",
       "0      label  0.994962         312"
      ]
     },
     "execution_count": 103,
     "metadata": {},
     "output_type": "execute_result"
    }
   ],
   "source": [
    "lab.get_issue_summary(\"label\")"
   ]
  },
  {
   "attachments": {},
   "cell_type": "markdown",
   "metadata": {},
   "source": [
    "It found 312 label errors in the dataset, let's inspect them."
   ]
  },
  {
   "cell_type": "code",
   "execution_count": 96,
   "metadata": {},
   "outputs": [],
   "source": [
    "# Getting the predicted errors\n",
    "y_clean_labels = lab.get_issues(\"label\")[['predicted_label', 'is_label_issue']]\n",
    "\n",
    "# adding them to the original dataset\n",
    "df_ples_theme_clean = df_pls_theme.copy().reset_index(drop=True)\n",
    "df_ples_theme_clean['predicted_label'] = y_clean_labels['predicted_label']\n",
    "df_ples_theme_clean['is_label_issue'] = y_clean_labels['is_label_issue']"
   ]
  },
  {
   "cell_type": "code",
   "execution_count": 97,
   "metadata": {},
   "outputs": [
    {
     "data": {
      "text/html": [
       "<div>\n",
       "<style scoped>\n",
       "    .dataframe tbody tr th:only-of-type {\n",
       "        vertical-align: middle;\n",
       "    }\n",
       "\n",
       "    .dataframe tbody tr th {\n",
       "        vertical-align: top;\n",
       "    }\n",
       "\n",
       "    .dataframe thead th {\n",
       "        text-align: right;\n",
       "    }\n",
       "</style>\n",
       "<table border=\"1\" class=\"dataframe\">\n",
       "  <thead>\n",
       "    <tr style=\"text-align: right;\">\n",
       "      <th>tema</th>\n",
       "      <th>ementa</th>\n",
       "      <th>in_homenagens_e_datas_comemorativas</th>\n",
       "      <th>predicted_label</th>\n",
       "    </tr>\n",
       "  </thead>\n",
       "  <tbody>\n",
       "    <tr>\n",
       "      <th>278</th>\n",
       "      <td>Institui, na República Federativa do Brasil, a...</td>\n",
       "      <td>0</td>\n",
       "      <td>1</td>\n",
       "    </tr>\n",
       "    <tr>\n",
       "      <th>286</th>\n",
       "      <td>Institui o Dia do Evangélico, determinando fer...</td>\n",
       "      <td>0</td>\n",
       "      <td>1</td>\n",
       "    </tr>\n",
       "    <tr>\n",
       "      <th>805</th>\n",
       "      <td>Institui o dia 2 de julho como Dia da Libertaç...</td>\n",
       "      <td>0</td>\n",
       "      <td>1</td>\n",
       "    </tr>\n",
       "    <tr>\n",
       "      <th>1203</th>\n",
       "      <td>Denomina \"Aeroporto de Porto Velho / Governado...</td>\n",
       "      <td>0</td>\n",
       "      <td>1</td>\n",
       "    </tr>\n",
       "    <tr>\n",
       "      <th>1504</th>\n",
       "      <td>Institui o 12 de agosto como Dia Nacional da J...</td>\n",
       "      <td>0</td>\n",
       "      <td>1</td>\n",
       "    </tr>\n",
       "    <tr>\n",
       "      <th>...</th>\n",
       "      <td>...</td>\n",
       "      <td>...</td>\n",
       "      <td>...</td>\n",
       "    </tr>\n",
       "    <tr>\n",
       "      <th>60482</th>\n",
       "      <td>Institui o dia nacional do skate</td>\n",
       "      <td>0</td>\n",
       "      <td>1</td>\n",
       "    </tr>\n",
       "    <tr>\n",
       "      <th>60499</th>\n",
       "      <td>Cria a premiação “Aluno Nota Dez” e “Escola No...</td>\n",
       "      <td>1</td>\n",
       "      <td>0</td>\n",
       "    </tr>\n",
       "    <tr>\n",
       "      <th>60932</th>\n",
       "      <td>Institui o selo “Quebra-Cabeça”, com a finalid...</td>\n",
       "      <td>1</td>\n",
       "      <td>0</td>\n",
       "    </tr>\n",
       "    <tr>\n",
       "      <th>60947</th>\n",
       "      <td>Concede isenção do Imposto sobre Produtos Indu...</td>\n",
       "      <td>1</td>\n",
       "      <td>0</td>\n",
       "    </tr>\n",
       "    <tr>\n",
       "      <th>61267</th>\n",
       "      <td>Insere no Calendário Nacional de Eventos, do M...</td>\n",
       "      <td>0</td>\n",
       "      <td>1</td>\n",
       "    </tr>\n",
       "  </tbody>\n",
       "</table>\n",
       "<p>312 rows × 3 columns</p>\n",
       "</div>"
      ],
      "text/plain": [
       "tema                                              ementa   \n",
       "278    Institui, na República Federativa do Brasil, a...  \\\n",
       "286    Institui o Dia do Evangélico, determinando fer...   \n",
       "805    Institui o dia 2 de julho como Dia da Libertaç...   \n",
       "1203   Denomina \"Aeroporto de Porto Velho / Governado...   \n",
       "1504   Institui o 12 de agosto como Dia Nacional da J...   \n",
       "...                                                  ...   \n",
       "60482                   Institui o dia nacional do skate   \n",
       "60499  Cria a premiação “Aluno Nota Dez” e “Escola No...   \n",
       "60932  Institui o selo “Quebra-Cabeça”, com a finalid...   \n",
       "60947  Concede isenção do Imposto sobre Produtos Indu...   \n",
       "61267  Insere no Calendário Nacional de Eventos, do M...   \n",
       "\n",
       "tema   in_homenagens_e_datas_comemorativas  predicted_label  \n",
       "278                                      0                1  \n",
       "286                                      0                1  \n",
       "805                                      0                1  \n",
       "1203                                     0                1  \n",
       "1504                                     0                1  \n",
       "...                                    ...              ...  \n",
       "60482                                    0                1  \n",
       "60499                                    1                0  \n",
       "60932                                    1                0  \n",
       "60947                                    1                0  \n",
       "61267                                    0                1  \n",
       "\n",
       "[312 rows x 3 columns]"
      ]
     },
     "execution_count": 97,
     "metadata": {},
     "output_type": "execute_result"
    }
   ],
   "source": [
    "df_ples_theme_clean.query(\"is_label_issue\")[['ementa', IN_BINARY_CLASS, 'predicted_label']]"
   ]
  },
  {
   "attachments": {},
   "cell_type": "markdown",
   "metadata": {},
   "source": [
    "### Automatically fixing the dataset"
   ]
  },
  {
   "cell_type": "code",
   "execution_count": 6,
   "metadata": {},
   "outputs": [],
   "source": [
    "clean_pipeline = Pipeline([\n",
    "    ('tfidf', TfidfVectorizer(lowercase=True, strip_accents='ascii', max_features=6000, max_df=0.95)),\n",
    "    ('clf', RandomForestClassifier(random_state=RANDOM_SEED, n_jobs=-1, n_estimators=300))\n",
    "])"
   ]
  },
  {
   "cell_type": "code",
   "execution_count": 12,
   "metadata": {},
   "outputs": [
    {
     "data": {
      "text/html": [
       "<div>\n",
       "<style scoped>\n",
       "    .dataframe tbody tr th:only-of-type {\n",
       "        vertical-align: middle;\n",
       "    }\n",
       "\n",
       "    .dataframe tbody tr th {\n",
       "        vertical-align: top;\n",
       "    }\n",
       "\n",
       "    .dataframe thead th {\n",
       "        text-align: right;\n",
       "    }\n",
       "</style>\n",
       "<table border=\"1\" class=\"dataframe\">\n",
       "  <thead>\n",
       "    <tr style=\"text-align: right;\">\n",
       "      <th>tema</th>\n",
       "      <th>ementa</th>\n",
       "      <th>in_homenagens_e_datas_comemorativas</th>\n",
       "    </tr>\n",
       "  </thead>\n",
       "  <tbody>\n",
       "    <tr>\n",
       "      <th>0</th>\n",
       "      <td>Dispõe sobre a Política Nacional de Salários, ...</td>\n",
       "      <td>0</td>\n",
       "    </tr>\n",
       "    <tr>\n",
       "      <th>1</th>\n",
       "      <td>Modifica o art. 6º da Lei nº 9.424, de 24 de d...</td>\n",
       "      <td>0</td>\n",
       "    </tr>\n",
       "    <tr>\n",
       "      <th>2</th>\n",
       "      <td>Dispõe sobre salário-família e dá outras provi...</td>\n",
       "      <td>0</td>\n",
       "    </tr>\n",
       "    <tr>\n",
       "      <th>3</th>\n",
       "      <td>Modifica a Lei nº 4.117, de 1962, que \"institu...</td>\n",
       "      <td>0</td>\n",
       "    </tr>\n",
       "    <tr>\n",
       "      <th>4</th>\n",
       "      <td>Concede isenção do imposto sobre produtos indu...</td>\n",
       "      <td>0</td>\n",
       "    </tr>\n",
       "    <tr>\n",
       "      <th>...</th>\n",
       "      <td>...</td>\n",
       "      <td>...</td>\n",
       "    </tr>\n",
       "    <tr>\n",
       "      <th>65971</th>\n",
       "      <td>Dispõe sobre a permuta dos agentes de seguranç...</td>\n",
       "      <td>0</td>\n",
       "    </tr>\n",
       "    <tr>\n",
       "      <th>65973</th>\n",
       "      <td>Confere ao município de Laranjal Paulista, loc...</td>\n",
       "      <td>1</td>\n",
       "    </tr>\n",
       "    <tr>\n",
       "      <th>65974</th>\n",
       "      <td>Dispõe sobre a obrigatoriedade de plataformas ...</td>\n",
       "      <td>0</td>\n",
       "    </tr>\n",
       "    <tr>\n",
       "      <th>65975</th>\n",
       "      <td>Altera a Lei nº 13.277, de 29 de abril de 2016...</td>\n",
       "      <td>1</td>\n",
       "    </tr>\n",
       "    <tr>\n",
       "      <th>65976</th>\n",
       "      <td>Altera a Lei nº 8.080, de 19 de setembro de 19...</td>\n",
       "      <td>0</td>\n",
       "    </tr>\n",
       "  </tbody>\n",
       "</table>\n",
       "<p>61934 rows × 2 columns</p>\n",
       "</div>"
      ],
      "text/plain": [
       "tema                                              ementa   \n",
       "0      Dispõe sobre a Política Nacional de Salários, ...  \\\n",
       "1      Modifica o art. 6º da Lei nº 9.424, de 24 de d...   \n",
       "2      Dispõe sobre salário-família e dá outras provi...   \n",
       "3      Modifica a Lei nº 4.117, de 1962, que \"institu...   \n",
       "4      Concede isenção do imposto sobre produtos indu...   \n",
       "...                                                  ...   \n",
       "65971  Dispõe sobre a permuta dos agentes de seguranç...   \n",
       "65973  Confere ao município de Laranjal Paulista, loc...   \n",
       "65974  Dispõe sobre a obrigatoriedade de plataformas ...   \n",
       "65975  Altera a Lei nº 13.277, de 29 de abril de 2016...   \n",
       "65976  Altera a Lei nº 8.080, de 19 de setembro de 19...   \n",
       "\n",
       "tema   in_homenagens_e_datas_comemorativas  \n",
       "0                                        0  \n",
       "1                                        0  \n",
       "2                                        0  \n",
       "3                                        0  \n",
       "4                                        0  \n",
       "...                                    ...  \n",
       "65971                                    0  \n",
       "65973                                    1  \n",
       "65974                                    0  \n",
       "65975                                    1  \n",
       "65976                                    0  \n",
       "\n",
       "[61934 rows x 2 columns]"
      ]
     },
     "execution_count": 12,
     "metadata": {},
     "output_type": "execute_result"
    }
   ],
   "source": [
    "df_pls_theme"
   ]
  },
  {
   "cell_type": "code",
   "execution_count": 46,
   "metadata": {},
   "outputs": [
    {
     "name": "stderr",
     "output_type": "stream",
     "text": [
      "[Parallel(n_jobs=-1)]: Using backend LokyBackend with 4 concurrent workers.\n",
      "[Parallel(n_jobs=-1)]: Done   4 out of   4 | elapsed:  2.3min finished\n"
     ]
    },
    {
     "name": "stdout",
     "output_type": "stream",
     "text": [
      "Finding label issues ...\n",
      "Finding outlier issues ...\n",
      "Fitting OOD estimator based on provided pred_probs ...\n",
      "Audit complete. 1022 issues found in the dataset.\n"
     ]
    },
    {
     "name": "stderr",
     "output_type": "stream",
     "text": [
      "[Parallel(n_jobs=-1)]: Using backend LokyBackend with 4 concurrent workers.\n",
      "[Parallel(n_jobs=-1)]: Done   4 out of   4 | elapsed:  1.8min finished\n"
     ]
    },
    {
     "name": "stdout",
     "output_type": "stream",
     "text": [
      "Finding label issues ...\n",
      "Finding outlier issues ...\n",
      "Fitting OOD estimator based on provided pred_probs ...\n",
      "Audit complete. 718 issues found in the dataset.\n"
     ]
    },
    {
     "name": "stderr",
     "output_type": "stream",
     "text": [
      "[Parallel(n_jobs=-1)]: Using backend LokyBackend with 4 concurrent workers.\n",
      "[Parallel(n_jobs=-1)]: Done   4 out of   4 | elapsed:  1.8min finished\n"
     ]
    },
    {
     "name": "stdout",
     "output_type": "stream",
     "text": [
      "Finding label issues ...\n",
      "Finding outlier issues ...\n",
      "Fitting OOD estimator based on provided pred_probs ...\n",
      "Audit complete. 727 issues found in the dataset.\n"
     ]
    },
    {
     "name": "stderr",
     "output_type": "stream",
     "text": [
      "[Parallel(n_jobs=-1)]: Using backend LokyBackend with 4 concurrent workers.\n",
      "[Parallel(n_jobs=-1)]: Done   4 out of   4 | elapsed:  1.8min finished\n"
     ]
    },
    {
     "name": "stdout",
     "output_type": "stream",
     "text": [
      "Finding label issues ...\n",
      "Finding outlier issues ...\n",
      "Fitting OOD estimator based on provided pred_probs ...\n",
      "Audit complete. 709 issues found in the dataset.\n"
     ]
    },
    {
     "name": "stderr",
     "output_type": "stream",
     "text": [
      "[Parallel(n_jobs=-1)]: Using backend LokyBackend with 4 concurrent workers.\n",
      "[Parallel(n_jobs=-1)]: Done   4 out of   4 | elapsed:  1.6min finished\n"
     ]
    },
    {
     "name": "stdout",
     "output_type": "stream",
     "text": [
      "Finding label issues ...\n",
      "Finding outlier issues ...\n",
      "Fitting OOD estimator based on provided pred_probs ...\n",
      "Audit complete. 682 issues found in the dataset.\n"
     ]
    },
    {
     "name": "stderr",
     "output_type": "stream",
     "text": [
      "[Parallel(n_jobs=-1)]: Using backend LokyBackend with 4 concurrent workers.\n",
      "[Parallel(n_jobs=-1)]: Done   4 out of   4 | elapsed:  1.5min finished\n"
     ]
    },
    {
     "name": "stdout",
     "output_type": "stream",
     "text": [
      "Finding label issues ...\n",
      "Finding outlier issues ...\n",
      "Fitting OOD estimator based on provided pred_probs ...\n",
      "Audit complete. 684 issues found in the dataset.\n"
     ]
    },
    {
     "name": "stderr",
     "output_type": "stream",
     "text": [
      "[Parallel(n_jobs=-1)]: Using backend LokyBackend with 4 concurrent workers.\n",
      "[Parallel(n_jobs=-1)]: Done   4 out of   4 | elapsed:  1.5min finished\n"
     ]
    },
    {
     "name": "stdout",
     "output_type": "stream",
     "text": [
      "Finding label issues ...\n",
      "Finding outlier issues ...\n",
      "Fitting OOD estimator based on provided pred_probs ...\n",
      "Audit complete. 657 issues found in the dataset.\n"
     ]
    },
    {
     "name": "stderr",
     "output_type": "stream",
     "text": [
      "[Parallel(n_jobs=-1)]: Using backend LokyBackend with 4 concurrent workers.\n",
      "[Parallel(n_jobs=-1)]: Done   4 out of   4 | elapsed:  1.5min finished\n"
     ]
    },
    {
     "name": "stdout",
     "output_type": "stream",
     "text": [
      "Finding label issues ...\n",
      "Finding outlier issues ...\n",
      "Fitting OOD estimator based on provided pred_probs ...\n",
      "Audit complete. 657 issues found in the dataset.\n"
     ]
    }
   ],
   "source": [
    "metrics = []\n",
    "N_FIXES = 8\n",
    "df = df_pls_theme.copy()\n",
    "df[IN_BINARY_CLASS+'_0'] = df[IN_BINARY_CLASS]\n",
    "\n",
    "for i in range(N_FIXES):\n",
    "    in_binary_class_i = IN_BINARY_CLASS+f'_{i}'\n",
    "\n",
    "    y_proba_i = cross_val_predict(\n",
    "        clean_pipeline, \n",
    "        df['ementa'], \n",
    "        df[in_binary_class_i],\n",
    "        cv=StratifiedKFold(n_splits=4, shuffle=True, random_state=RANDOM_SEED), \n",
    "        method='predict_proba', \n",
    "        verbose=3,\n",
    "        n_jobs=-1\n",
    "    )\n",
    "\n",
    "    y_i_true = df[in_binary_class_i]\n",
    "    y_i = np.argmax(y_proba_i, axis=1)\n",
    "\n",
    "    metrics.append({\n",
    "        'accuracy': accuracy_score(y_i_true, y_i),\n",
    "        'precision': precision_score(y_i_true, y_i),\n",
    "        'recall': recall_score(y_i_true, y_i),\n",
    "        'f1': f1_score(y_i_true, y_i),\n",
    "        'confusion_matrix': confusion_matrix(y_i_true, y_i),\n",
    "        'classification_report': classification_report(y_i_true, y_i),\n",
    "        'n_fixes': i,\n",
    "    })\n",
    "\n",
    "\n",
    "    # Find issues and add to dataframe\n",
    "    datalab_i = Datalab(\n",
    "        data=df,\n",
    "        label_name=in_binary_class_i,\n",
    "    )\n",
    "    datalab_i.find_issues(pred_probs=y_proba_i)\n",
    "    metrics[-1]['n_issues'] = datalab_i.get_issue_summary(\"label\")['num_issues'][0]\n",
    "    \n",
    "    \n",
    "    data_label_issues_i = datalab_i.get_issues(\"label\")\n",
    "\n",
    "    df[IN_BINARY_CLASS+f'_{i+1}'] = data_label_issues_i['predicted_label'].to_list()\n",
    "    df['is_label_issue'] = data_label_issues_i['is_label_issue'].to_list()\n",
    "    df[IN_BINARY_CLASS+f'_{i+1}'] = df[IN_BINARY_CLASS+f'_{i+1}'].mask(~df['is_label_issue'], df[IN_BINARY_CLASS+f'_{i}'])"
   ]
  },
  {
   "cell_type": "code",
   "execution_count": 59,
   "metadata": {},
   "outputs": [],
   "source": [
    "df_clean_labels = (\n",
    "    df\n",
    "    [ ['ementa', IN_BINARY_CLASS, IN_BINARY_CLASS+f'_{N_FIXES}'] ]\n",
    "    .rename(\n",
    "        columns={\n",
    "            IN_BINARY_CLASS+f'_{N_FIXES}': IN_BINARY_CLASS+'_fixed',\n",
    "            IN_BINARY_CLASS: IN_BINARY_CLASS+'_original',\n",
    "        }\n",
    "    )\n",
    ")"
   ]
  },
  {
   "cell_type": "code",
   "execution_count": 58,
   "metadata": {},
   "outputs": [
    {
     "data": {
      "text/html": [
       "<div>\n",
       "<style scoped>\n",
       "    .dataframe tbody tr th:only-of-type {\n",
       "        vertical-align: middle;\n",
       "    }\n",
       "\n",
       "    .dataframe tbody tr th {\n",
       "        vertical-align: top;\n",
       "    }\n",
       "\n",
       "    .dataframe thead th {\n",
       "        text-align: right;\n",
       "    }\n",
       "</style>\n",
       "<table border=\"1\" class=\"dataframe\">\n",
       "  <thead>\n",
       "    <tr style=\"text-align: right;\">\n",
       "      <th></th>\n",
       "      <th>accuracy</th>\n",
       "      <th>precision</th>\n",
       "      <th>recall</th>\n",
       "      <th>f1</th>\n",
       "      <th>confusion_matrix</th>\n",
       "      <th>classification_report</th>\n",
       "      <th>n_fixes</th>\n",
       "      <th>n_issues</th>\n",
       "    </tr>\n",
       "  </thead>\n",
       "  <tbody>\n",
       "    <tr>\n",
       "      <th>0</th>\n",
       "      <td>0.984774</td>\n",
       "      <td>0.846338</td>\n",
       "      <td>0.792397</td>\n",
       "      <td>0.818479</td>\n",
       "      <td>[[58865, 386], [557, 2126]]</td>\n",
       "      <td>precision    recall  f1-score   ...</td>\n",
       "      <td>0</td>\n",
       "      <td>309</td>\n",
       "    </tr>\n",
       "    <tr>\n",
       "      <th>1</th>\n",
       "      <td>0.990119</td>\n",
       "      <td>0.922073</td>\n",
       "      <td>0.859875</td>\n",
       "      <td>0.889888</td>\n",
       "      <td>[[58849, 209], [403, 2473]]</td>\n",
       "      <td>precision    recall  f1-score   ...</td>\n",
       "      <td>1</td>\n",
       "      <td>44</td>\n",
       "    </tr>\n",
       "    <tr>\n",
       "      <th>2</th>\n",
       "      <td>0.990861</td>\n",
       "      <td>0.938623</td>\n",
       "      <td>0.861856</td>\n",
       "      <td>0.898603</td>\n",
       "      <td>[[58860, 164], [402, 2508]]</td>\n",
       "      <td>precision    recall  f1-score   ...</td>\n",
       "      <td>2</td>\n",
       "      <td>20</td>\n",
       "    </tr>\n",
       "    <tr>\n",
       "      <th>3</th>\n",
       "      <td>0.991410</td>\n",
       "      <td>0.944940</td>\n",
       "      <td>0.868673</td>\n",
       "      <td>0.905203</td>\n",
       "      <td>[[58862, 148], [384, 2540]]</td>\n",
       "      <td>precision    recall  f1-score   ...</td>\n",
       "      <td>3</td>\n",
       "      <td>12</td>\n",
       "    </tr>\n",
       "    <tr>\n",
       "      <th>4</th>\n",
       "      <td>0.991991</td>\n",
       "      <td>0.951075</td>\n",
       "      <td>0.875768</td>\n",
       "      <td>0.911869</td>\n",
       "      <td>[[58872, 132], [364, 2566]]</td>\n",
       "      <td>precision    recall  f1-score   ...</td>\n",
       "      <td>4</td>\n",
       "      <td>7</td>\n",
       "    </tr>\n",
       "    <tr>\n",
       "      <th>5</th>\n",
       "      <td>0.991491</td>\n",
       "      <td>0.948212</td>\n",
       "      <td>0.867712</td>\n",
       "      <td>0.906178</td>\n",
       "      <td>[[58862, 139], [388, 2545]]</td>\n",
       "      <td>precision    recall  f1-score   ...</td>\n",
       "      <td>5</td>\n",
       "      <td>1</td>\n",
       "    </tr>\n",
       "    <tr>\n",
       "      <th>6</th>\n",
       "      <td>0.991588</td>\n",
       "      <td>0.948346</td>\n",
       "      <td>0.869802</td>\n",
       "      <td>0.907378</td>\n",
       "      <td>[[58861, 139], [382, 2552]]</td>\n",
       "      <td>precision    recall  f1-score   ...</td>\n",
       "      <td>6</td>\n",
       "      <td>0</td>\n",
       "    </tr>\n",
       "    <tr>\n",
       "      <th>7</th>\n",
       "      <td>0.991588</td>\n",
       "      <td>0.948346</td>\n",
       "      <td>0.869802</td>\n",
       "      <td>0.907378</td>\n",
       "      <td>[[58861, 139], [382, 2552]]</td>\n",
       "      <td>precision    recall  f1-score   ...</td>\n",
       "      <td>7</td>\n",
       "      <td>0</td>\n",
       "    </tr>\n",
       "  </tbody>\n",
       "</table>\n",
       "</div>"
      ],
      "text/plain": [
       "   accuracy  precision    recall        f1             confusion_matrix   \n",
       "0  0.984774   0.846338  0.792397  0.818479  [[58865, 386], [557, 2126]]  \\\n",
       "1  0.990119   0.922073  0.859875  0.889888  [[58849, 209], [403, 2473]]   \n",
       "2  0.990861   0.938623  0.861856  0.898603  [[58860, 164], [402, 2508]]   \n",
       "3  0.991410   0.944940  0.868673  0.905203  [[58862, 148], [384, 2540]]   \n",
       "4  0.991991   0.951075  0.875768  0.911869  [[58872, 132], [364, 2566]]   \n",
       "5  0.991491   0.948212  0.867712  0.906178  [[58862, 139], [388, 2545]]   \n",
       "6  0.991588   0.948346  0.869802  0.907378  [[58861, 139], [382, 2552]]   \n",
       "7  0.991588   0.948346  0.869802  0.907378  [[58861, 139], [382, 2552]]   \n",
       "\n",
       "                               classification_report  n_fixes  n_issues  \n",
       "0                precision    recall  f1-score   ...        0       309  \n",
       "1                precision    recall  f1-score   ...        1        44  \n",
       "2                precision    recall  f1-score   ...        2        20  \n",
       "3                precision    recall  f1-score   ...        3        12  \n",
       "4                precision    recall  f1-score   ...        4         7  \n",
       "5                precision    recall  f1-score   ...        5         1  \n",
       "6                precision    recall  f1-score   ...        6         0  \n",
       "7                precision    recall  f1-score   ...        7         0  "
      ]
     },
     "execution_count": 58,
     "metadata": {},
     "output_type": "execute_result"
    }
   ],
   "source": [
    "df_metrics_results = pd.DataFrame(metrics)\n",
    "df_metrics_results"
   ]
  },
  {
   "attachments": {},
   "cell_type": "markdown",
   "metadata": {},
   "source": [
    "**Inspecting the results**"
   ]
  },
  {
   "cell_type": "code",
   "execution_count": 73,
   "metadata": {},
   "outputs": [
    {
     "data": {
      "text/plain": [
       "array([[58929,   322],\n",
       "       [   71,  2612]])"
      ]
     },
     "execution_count": 73,
     "metadata": {},
     "output_type": "execute_result"
    }
   ],
   "source": [
    "confusion_matrix(\n",
    "    df_clean_labels[IN_BINARY_CLASS+'_original'],\n",
    "    df_clean_labels[IN_BINARY_CLASS+'_fixed']\n",
    ")"
   ]
  },
  {
   "cell_type": "code",
   "execution_count": 76,
   "metadata": {},
   "outputs": [
    {
     "data": {
      "text/plain": [
       "['Institui a \"Semana Nacional do Combate à Corrupção\".',\n",
       " 'Institui o dia Nacional de Mutirão da Saúde.',\n",
       " 'Institui a data de 5 de dezembro como o \"Dia Nacional da Pastoral da Criança\".',\n",
       " 'Institui o Dia do Técnico em Segurança do Trabalho, a ser comemorado em 27 de novembro.',\n",
       " 'Inscreve o nome de Julio Cezar Ribeiro de Souza no Livro dos Heróis da Pátria.',\n",
       " 'Denomina \"Rodovia Luiz Otacílio Correia\" o trecho da rodovia BR-230, entre as cidades de Lavras da Mangabeira e Várzea Alegre, no Estado do Ceará.',\n",
       " 'Inscreve o nome dos servidores do Centro Técnico Aeroespacial  mortos no acidente com VLS 1, na Base de Alcântara, Maranhão, no Livro dos Heróis da Pátria.',\n",
       " 'Denomina \"Viaduto Governador Henrique Santillo\" o viaduto localizado no km 432 da BR-153, no Município de Anápolis - GO.',\n",
       " 'Denomina \"Porto Fluvial Paulo de Souza Coelho\".',\n",
       " 'Institui o Dia Nacional de Prevenção e Combate à violência no Trânsito.',\n",
       " 'Institui o Dia Nacional do Teatro para a Infância e a Juventude.',\n",
       " 'Institui o dia 08 de julho como Dia Nacional da Ciência e dá outras providências.',\n",
       " 'Institui o dia 29 de abril como o Dia Nacional do Teólogo.',\n",
       " 'Denomina \"Aeroporto de Petrolina - Dr. Pacífico da Luz\" o aeroporto do município de Petrolina, estado de Pernambuco.',\n",
       " 'Institui o Dia Nacional do Corista.']"
      ]
     },
     "execution_count": 76,
     "metadata": {},
     "output_type": "execute_result"
    }
   ],
   "source": [
    "df_clean_labels.query(\n",
    "    f\"{IN_BINARY_CLASS+'_original'} != {IN_BINARY_CLASS+'_fixed'} \" \n",
    "    +f\"and {IN_BINARY_CLASS+'_original'}==0\"\n",
    ").sample(frac=0.1, random_state=RANDOM_SEED)['ementa'].to_list()[:15]"
   ]
  },
  {
   "cell_type": "code",
   "execution_count": 75,
   "metadata": {},
   "outputs": [
    {
     "data": {
      "text/plain": [
       "['Dispõe sobre a criação da Década Brasileira pela Cultura da Paz.',\n",
       " 'Cria no âmbito do Ministério da Cultura o Prêmio de Artes Plásticas Marcantônio Vilaça e dá outras providências.',\n",
       " 'Revigora a Lei nº 2.689, de 20 de Dezembro de 1955, e  dá  outras providências.                              .',\n",
       " 'Altera a Lei nº 6.454, de 24 de outubro de 1977, que \"dispõe sobre a denominação de logradouros, obras, serviços e monumentos públicos, e dá outras providências.',\n",
       " 'RESTABELECE O ESTIMULO FISCAL PREVISTO PELO ARTIGO 50 DA LEI 4504, DE 30 DE NOVEMBRO DE 1964, COM A REDAÇÃO DADA PELA LEI 6746, DE 10 DE DEZEMBRO DE 1979.',\n",
       " 'DETERMINA, NO AMBITO DAS EMPRESAS PRIVADAS, O FORNECIMENTO DE ALIMENTAÇÃO AOS SEUS EMPREGADOS E DA OUTRAS PROVIDENCIAS.',\n",
       " 'Cria o Fundo Nacional de Desenvolvimento da Pecuária de Corte - FUNPEC e institui contribuição de intervenção no domínio econômico destinada a fomentar o desenvolvimento do setor pecuário.',\n",
       " 'Altera a Lei nº 6.454, de 24 de outubro de 1977, que \"dispõe sobre a denominação de logradouros, obras, serviços e monumentos públicos, e dá outras providências\". \\xa0',\n",
       " 'Dispõe sobre a fixação de datas comemorativas de alta significação para os diferentes segmentos étnicos que compõem a sociedade brasileira, em atendimento ao disposto no § 2º do art. 215 da Constituição Federal.',\n",
       " 'Dispõe sobre as comemorações do  cinqüentenário dos Painéis \"Guerra e Paz\", de Cândido Portinari, presente do Governo Brasileiro para a sede das Nações Unidas, em Nova York, inaugurado em 6 de setembro de 1957, e dá outras providências.',\n",
       " 'Disciplina a organização e o funcionamento dos órgãos responsáveis pela segurança pública, nos termos do § 7º do art. 144 da Constituição, institui o Sistema Único de Segurança Pública - SUSP, dispõe sobre a segurança cidadã, e dá outras providências.',\n",
       " 'Dispõe sobre a regulamentação da atividade de capoeira e dá outras providências.',\n",
       " 'Dispõe sobre a criação do \"Dia Nacional do Arqueólogo\".',\n",
       " 'Dispõe sobre o exercício da Profissão de Agente de Turismo.',\n",
       " 'Dispõe sobre a criação do Programa Nacional de Prevenção e Combate ao Câncer de Pele, da Semana Nacional de Prevenção e Combate ao Câncer de Pele, da obrigatoriedade de distribuição gratuita de protetor solar, pelo Sistema Único de Saúde - SUS, e dá outras providências.']"
      ]
     },
     "execution_count": 75,
     "metadata": {},
     "output_type": "execute_result"
    }
   ],
   "source": [
    "df_clean_labels.query(\n",
    "    f\"{IN_BINARY_CLASS+'_original'} != {IN_BINARY_CLASS+'_fixed'} \" \n",
    "    +f\"and {IN_BINARY_CLASS+'_original'}==1\"\n",
    ")['ementa'].to_list()[:15]"
   ]
  },
  {
   "attachments": {},
   "cell_type": "markdown",
   "metadata": {},
   "source": [
    "**Saving results**"
   ]
  },
  {
   "cell_type": "code",
   "execution_count": 77,
   "metadata": {},
   "outputs": [],
   "source": [
    "df_metrics_results.to_csv(f'./data/{IN_BINARY_CLASS}_conf_learning_metrics_results.csv', index=False)"
   ]
  },
  {
   "cell_type": "code",
   "execution_count": 78,
   "metadata": {},
   "outputs": [],
   "source": [
    "df_clean_labels.to_parquet(\n",
    "    f'./data/{IN_BINARY_CLASS}_conf_learning_clean_labels.parquet', \n",
    "    index=False\n",
    ")"
   ]
  }
 ],
 "metadata": {
  "kernelspec": {
   "display_name": "Python 3",
   "language": "python",
   "name": "python3"
  },
  "language_info": {
   "codemirror_mode": {
    "name": "ipython",
    "version": 3
   },
   "file_extension": ".py",
   "mimetype": "text/x-python",
   "name": "python",
   "nbconvert_exporter": "python",
   "pygments_lexer": "ipython3",
   "version": "3.10.6"
  },
  "orig_nbformat": 4
 },
 "nbformat": 4,
 "nbformat_minor": 2
}
