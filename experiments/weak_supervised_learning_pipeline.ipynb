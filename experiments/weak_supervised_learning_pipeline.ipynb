{
 "cells": [
  {
   "attachments": {},
   "cell_type": "markdown",
   "metadata": {},
   "source": [
    "# Weak Supervised Learning"
   ]
  },
  {
   "attachments": {},
   "cell_type": "markdown",
   "metadata": {},
   "source": [
    "## Importing Packages"
   ]
  },
  {
   "cell_type": "code",
   "execution_count": 1,
   "metadata": {},
   "outputs": [],
   "source": [
    "import pandas as pd\n",
    "import time\n",
    "import json\n",
    "\n",
    "import re\n",
    "from itertools import chain\n",
    "from collections import Counter"
   ]
  },
  {
   "cell_type": "code",
   "execution_count": 2,
   "metadata": {},
   "outputs": [],
   "source": [
    "RANDOM_STATE = 214"
   ]
  },
  {
   "attachments": {},
   "cell_type": "markdown",
   "metadata": {},
   "source": [
    "## Importing Data"
   ]
  },
  {
   "cell_type": "code",
   "execution_count": 3,
   "metadata": {},
   "outputs": [],
   "source": [
    "df_pls_theme = pd.read_parquet('../data/proposicoes_temas_one_hot_encoding.parquet')"
   ]
  },
  {
   "attachments": {},
   "cell_type": "markdown",
   "metadata": {},
   "source": [
    "Print basic information."
   ]
  },
  {
   "cell_type": "code",
   "execution_count": 4,
   "metadata": {},
   "outputs": [
    {
     "name": "stdout",
     "output_type": "stream",
     "text": [
      "<class 'pandas.core.frame.DataFrame'>\n",
      "RangeIndex: 65977 entries, 0 to 65976\n",
      "Data columns (total 27 columns):\n",
      " #   Column                                       Non-Null Count  Dtype \n",
      "---  ------                                       --------------  ----- \n",
      " 0   id                                           65977 non-null  int64 \n",
      " 1   ementa                                       65977 non-null  object\n",
      " 2   Administração Pública                        65977 non-null  int64 \n",
      " 3   Agricultura, Pecuária, Pesca e Extrativismo  65977 non-null  int64 \n",
      " 4   Arte, Cultura e Religião                     65977 non-null  int64 \n",
      " 5   Cidades e Desenvolvimento Urbano             65977 non-null  int64 \n",
      " 6   Comunicações                                 65977 non-null  int64 \n",
      " 7   Defesa e Segurança                           65977 non-null  int64 \n",
      " 8   Direito Civil e Processual Civil             65977 non-null  int64 \n",
      " 9   Direito Penal e Processual Penal             65977 non-null  int64 \n",
      " 10  Direito e Defesa do Consumidor               65977 non-null  int64 \n",
      " 11  Direitos Humanos e Minorias                  65977 non-null  int64 \n",
      " 12  Economia                                     65977 non-null  int64 \n",
      " 13  Educação                                     65977 non-null  int64 \n",
      " 14  Energia, Recursos Hídricos e Minerais        65977 non-null  int64 \n",
      " 15  Esporte e Lazer                              65977 non-null  int64 \n",
      " 16  Estrutura Fundiária                          65977 non-null  int64 \n",
      " 17  Finanças Públicas e Orçamento                65977 non-null  int64 \n",
      " 18  Homenagens e Datas Comemorativas             65977 non-null  int64 \n",
      " 19  Indústria, Comércio e Serviços               65977 non-null  int64 \n",
      " 20  Meio Ambiente e Desenvolvimento Sustentável  65977 non-null  int64 \n",
      " 21  Política, Partidos e Eleições                65977 non-null  int64 \n",
      " 22  Previdência e Assistência Social             65977 non-null  int64 \n",
      " 23  Saúde                                        65977 non-null  int64 \n",
      " 24  Trabalho e Emprego                           65977 non-null  int64 \n",
      " 25  Viação, Transporte e Mobilidade              65977 non-null  int64 \n",
      " 26  Outro                                        65977 non-null  int64 \n",
      "dtypes: int64(26), object(1)\n",
      "memory usage: 13.6+ MB\n"
     ]
    }
   ],
   "source": [
    "df_pls_theme.info()"
   ]
  },
  {
   "attachments": {},
   "cell_type": "markdown",
   "metadata": {},
   "source": [
    "## Selecting the class"
   ]
  },
  {
   "cell_type": "code",
   "execution_count": 5,
   "metadata": {},
   "outputs": [],
   "source": [
    "BINARY_CLASS = \"Comunicações\"\n",
    "IN_BINARY_CLASS = \"in_\" + BINARY_CLASS.lower().replace(\" \", \"_\")\n",
    "\n",
    "df_pls_theme = df_pls_theme.drop_duplicates(subset=[\"ementa\"])\n",
    "df_pls_theme = df_pls_theme[[\"ementa\", BINARY_CLASS]]\n",
    "df_pls_theme = df_pls_theme.rename(\n",
    "    columns={BINARY_CLASS: IN_BINARY_CLASS}\n",
    ")"
   ]
  },
  {
   "cell_type": "code",
   "execution_count": 7,
   "metadata": {},
   "outputs": [
    {
     "data": {
      "text/html": [
       "<div>\n",
       "<style scoped>\n",
       "    .dataframe tbody tr th:only-of-type {\n",
       "        vertical-align: middle;\n",
       "    }\n",
       "\n",
       "    .dataframe tbody tr th {\n",
       "        vertical-align: top;\n",
       "    }\n",
       "\n",
       "    .dataframe thead th {\n",
       "        text-align: right;\n",
       "    }\n",
       "</style>\n",
       "<table border=\"1\" class=\"dataframe\">\n",
       "  <thead>\n",
       "    <tr style=\"text-align: right;\">\n",
       "      <th>tema</th>\n",
       "      <th>ementa</th>\n",
       "      <th>in_comunicações</th>\n",
       "    </tr>\n",
       "  </thead>\n",
       "  <tbody>\n",
       "    <tr>\n",
       "      <th>6</th>\n",
       "      <td>Estabelece penalidades pelo uso de telefone ce...</td>\n",
       "      <td>1</td>\n",
       "    </tr>\n",
       "    <tr>\n",
       "      <th>12</th>\n",
       "      <td>Dispõe sobre a transmissão da TV Câmara e da T...</td>\n",
       "      <td>1</td>\n",
       "    </tr>\n",
       "    <tr>\n",
       "      <th>33</th>\n",
       "      <td>Dispõe sobre regulamentação de anúncios public...</td>\n",
       "      <td>1</td>\n",
       "    </tr>\n",
       "    <tr>\n",
       "      <th>37</th>\n",
       "      <td>Proíbe a utilização de recursos públicos, no â...</td>\n",
       "      <td>1</td>\n",
       "    </tr>\n",
       "    <tr>\n",
       "      <th>190</th>\n",
       "      <td>Regulamenta o inciso III do art. 221 da Consti...</td>\n",
       "      <td>1</td>\n",
       "    </tr>\n",
       "    <tr>\n",
       "      <th>...</th>\n",
       "      <td>...</td>\n",
       "      <td>...</td>\n",
       "    </tr>\n",
       "    <tr>\n",
       "      <th>65866</th>\n",
       "      <td>Altera a Lei nº 4.117, de 27 de agosto de 1962...</td>\n",
       "      <td>1</td>\n",
       "    </tr>\n",
       "    <tr>\n",
       "      <th>65870</th>\n",
       "      <td>Altera as Leis nºs 9.998, de 17 de agosto de 2...</td>\n",
       "      <td>1</td>\n",
       "    </tr>\n",
       "    <tr>\n",
       "      <th>65874</th>\n",
       "      <td>Proíbe a publicação, distribuição ou transmiss...</td>\n",
       "      <td>1</td>\n",
       "    </tr>\n",
       "    <tr>\n",
       "      <th>65959</th>\n",
       "      <td>Dispõe sobre a universalização da internet na ...</td>\n",
       "      <td>1</td>\n",
       "    </tr>\n",
       "    <tr>\n",
       "      <th>65974</th>\n",
       "      <td>Dispõe sobre a obrigatoriedade de plataformas ...</td>\n",
       "      <td>1</td>\n",
       "    </tr>\n",
       "  </tbody>\n",
       "</table>\n",
       "<p>2254 rows × 2 columns</p>\n",
       "</div>"
      ],
      "text/plain": [
       "tema                                              ementa  in_comunicações\n",
       "6      Estabelece penalidades pelo uso de telefone ce...                1\n",
       "12     Dispõe sobre a transmissão da TV Câmara e da T...                1\n",
       "33     Dispõe sobre regulamentação de anúncios public...                1\n",
       "37     Proíbe a utilização de recursos públicos, no â...                1\n",
       "190    Regulamenta o inciso III do art. 221 da Consti...                1\n",
       "...                                                  ...              ...\n",
       "65866  Altera a Lei nº 4.117, de 27 de agosto de 1962...                1\n",
       "65870  Altera as Leis nºs 9.998, de 17 de agosto de 2...                1\n",
       "65874  Proíbe a publicação, distribuição ou transmiss...                1\n",
       "65959  Dispõe sobre a universalização da internet na ...                1\n",
       "65974  Dispõe sobre a obrigatoriedade de plataformas ...                1\n",
       "\n",
       "[2254 rows x 2 columns]"
      ]
     },
     "execution_count": 7,
     "metadata": {},
     "output_type": "execute_result"
    }
   ],
   "source": [
    "df_pls_theme.query(f\"{IN_BINARY_CLASS} == 1\")"
   ]
  },
  {
   "attachments": {},
   "cell_type": "markdown",
   "metadata": {},
   "source": [
    "Sampling some examples to seek patterns and keywords."
   ]
  },
  {
   "cell_type": "code",
   "execution_count": 18,
   "metadata": {},
   "outputs": [
    {
     "data": {
      "text/plain": [
       "['Altera a Lei Nº 12.965, de 23 de abril de 2014 (Marco Civil da Internet), e a Lei Nº 13.709, de 14 de agosto de 2018 (Lei Geral de Proteção de Dados), com a finalidade de estabelecer regras para a utilização de pseudônimos e perfis anônimos na Internet.',\n",
       " 'Altera o art. 1.788 da Lei n.º 10.406, de 10 de janeiro de 2002.',\n",
       " '\"Acrescenta o art. 10-A à\",\"(Marco Civil da Internet), a fim de dispor sobre a destinação das contas de aplicações de internet após a morte de seu titular.\"',\n",
       " 'Reduz as tarifas de frete para o envio, pela Empresa Brasileira de Correios e Telégrafos – CORREIOS, de objeto postal dos quais são remetentes as microempresas, as empresas de pequeno porte e microempresários individuais, nos termos do art. 34 da Lei nº 6.538, de 22 de junho de 1978, durante a vigência do estado de calamidade pública reconhecido pelo Decreto Legislativo nº 6, de 20 de março de 2020.',\n",
       " '\"Estabelece a obrigatoriedade de diploma de Jornalismo em curso superior, no serviço público e dá outras providências\".',\n",
       " 'Dispõe sobre o aumento de pena para crimes contra a honra, cometidos contra jornalistas profissionais. Altera os artigos 138, 139 e 140 do Decreto Lei 2848 de 07 de dezembro de 1940, Código Penal.',\n",
       " 'Estabelece normas de transparência, educação e ampla informação para o combate à desinformação no país.',\n",
       " 'Altera a Lei nº 12.965, de 23 de abril de 2014, para estabelecer procedimentos para a remoção ou redução do alcance de conteúdos e perfis por provedores de aplicações de internet.',\n",
       " 'Institui multa por confecção e divulgação de notícias falsas (fake news) sobre a pandemia de covid-19.',\n",
       " 'Estabelece normas de transparência, educação, formação do pensamento crítico e ampla informação para o combate à desinformação no país.']"
      ]
     },
     "execution_count": 18,
     "metadata": {},
     "output_type": "execute_result"
    }
   ],
   "source": [
    "df_pls_theme.query(f\"{IN_BINARY_CLASS} == 1\")['ementa'].tolist()[-360:-350]"
   ]
  },
  {
   "cell_type": "code",
   "execution_count": null,
   "metadata": {},
   "outputs": [],
   "source": [
    "# jornais, revistas, rádio, televisão, mídias sociais, internet, blogs, sites, portais, aplicativos, emissoras, videocassetes, DVDs, CDs,\n",
    "# telecomunicação, TV, emissoras, redes, redes de computadores\n",
    "# telefone, telefonia, ligação, ligações, chamadas, chamada, chamadas telefônicas, chamada telefônica,\n",
    "# veiculação, veiculação gratuita, \n",
    "# propaganda, publicidade, comunicações, comunicações, aparelhos\n",
    "# rótulo, cartaz, outdoor, faixa, banner, panfleto, folheto, folder, volante, adesivo, adesivos,\n",
    "# vídeo, streaming, celulares, 1G, 2G, 3G, 4G, 5G, web, mobile, dados, banda larga, digital, redes sociais\n",
    "# pré-pago, pós-pago, telemarketing, sons, imagens, libras, \n",
    "\n",
    "# educação, escola, escolas, ensino, ensino fundamental, ensino médio, ensino superior, universidade, universidades, faculdade, faculdades,\n",
    "# crianças, adolescentes, educação, educativo\n",
    "\n",
    "# fake news, Marco Civil da Internet, Lei Geral de Proteção de Dados, LGPD, Lei de Acesso à Informação, LAI, Lei de Imprensa, Lei de Telecomunicações\n",
    "\n",
    "# 12.485, 12.965, "
   ]
  },
  {
   "attachments": {},
   "cell_type": "markdown",
   "metadata": {},
   "source": [
    "Detecting the most frequently cited laws."
   ]
  },
  {
   "cell_type": "code",
   "execution_count": 32,
   "metadata": {},
   "outputs": [
    {
     "data": {
      "text/plain": [
       "[('lei nº 9.472', 290),\n",
       " ('lei nº 12.965', 99),\n",
       " ('lei nº 4.117', 76),\n",
       " ('lei nº 9.998', 52),\n",
       " ('lei nº 12.485', 50),\n",
       " ('lei nº 9.612', 46),\n",
       " ('lei nº 8.078', 36),\n",
       " ('lei nº 9.294', 32),\n",
       " ('lei nº 2.848', 23),\n",
       " ('lei nº 8.069', 21),\n",
       " ('lei nº 9.610', 20),\n",
       " ('lei nº 9.504', 17),\n",
       " ('lei nº 8.977', 14),\n",
       " ('lei nº 6.538', 13),\n",
       " ('lei nº 5.250', 12),\n",
       " ('lei nº 5.070', 11),\n",
       " ('lei nº 10.098', 11),\n",
       " ('lei nº 12.527', 10),\n",
       " ('lei nº 10.703', 9),\n",
       " ('lei nº 12.232', 9)]"
      ]
     },
     "execution_count": 32,
     "metadata": {},
     "output_type": "execute_result"
    }
   ],
   "source": [
    "\n",
    "\n",
    "law_pattern = re.compile(r\"lei nº \\d{1,3}\\.{0,1}\\d{3}\", re.IGNORECASE)\n",
    "\n",
    "laws_list = df_pls_theme.query(f\"{IN_BINARY_CLASS} == 1\").ementa.apply( lambda x: re.findall(law_pattern, x) ).tolist()\n",
    "laws_list = chain.from_iterable(laws_list)\n",
    "laws_list = [law.lower() for law in laws_list]\n",
    "\n",
    "# count laws\n",
    "laws_counter = Counter(laws_list)\n",
    "laws_counter.most_common(20)\n",
    "# 9.472, 12.965, 4.117, 9.998, 12.485, 9.612, 8.078, 9.294\n",
    "# 8.069\n",
    "# 9.610"
   ]
  },
  {
   "cell_type": "code",
   "execution_count": null,
   "metadata": {},
   "outputs": [],
   "source": []
  }
 ],
 "metadata": {
  "kernelspec": {
   "display_name": "Python 3",
   "language": "python",
   "name": "python3"
  },
  "language_info": {
   "codemirror_mode": {
    "name": "ipython",
    "version": 3
   },
   "file_extension": ".py",
   "mimetype": "text/x-python",
   "name": "python",
   "nbconvert_exporter": "python",
   "pygments_lexer": "ipython3",
   "version": "3.10.6"
  },
  "orig_nbformat": 4
 },
 "nbformat": 4,
 "nbformat_minor": 2
}
