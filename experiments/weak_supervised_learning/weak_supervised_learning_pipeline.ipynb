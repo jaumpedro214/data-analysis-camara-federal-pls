{
 "cells": [
  {
   "attachments": {},
   "cell_type": "markdown",
   "metadata": {},
   "source": [
    "# Weak Supervised Learning"
   ]
  },
  {
   "attachments": {},
   "cell_type": "markdown",
   "metadata": {},
   "source": [
    "## Importing Packages"
   ]
  },
  {
   "cell_type": "code",
   "execution_count": 23,
   "metadata": {},
   "outputs": [],
   "source": [
    "import pandas as pd\n",
    "import time\n",
    "import json\n",
    "\n",
    "import re\n",
    "from itertools import chain\n",
    "from collections import Counter\n",
    "\n",
    "import numpy as np"
   ]
  },
  {
   "cell_type": "code",
   "execution_count": 3,
   "metadata": {},
   "outputs": [],
   "source": [
    "RANDOM_STATE = 214"
   ]
  },
  {
   "attachments": {},
   "cell_type": "markdown",
   "metadata": {},
   "source": [
    "## Importing Data"
   ]
  },
  {
   "cell_type": "code",
   "execution_count": 34,
   "metadata": {},
   "outputs": [],
   "source": [
    "df_pls_theme = pd.read_parquet('../../data/proposicoes_temas_one_hot_encoding.parquet')"
   ]
  },
  {
   "attachments": {},
   "cell_type": "markdown",
   "metadata": {},
   "source": [
    "Print basic information."
   ]
  },
  {
   "cell_type": "code",
   "execution_count": 35,
   "metadata": {},
   "outputs": [
    {
     "name": "stdout",
     "output_type": "stream",
     "text": [
      "<class 'pandas.core.frame.DataFrame'>\n",
      "RangeIndex: 65977 entries, 0 to 65976\n",
      "Data columns (total 27 columns):\n",
      " #   Column                                       Non-Null Count  Dtype \n",
      "---  ------                                       --------------  ----- \n",
      " 0   id                                           65977 non-null  int64 \n",
      " 1   ementa                                       65977 non-null  object\n",
      " 2   Administração Pública                        65977 non-null  int64 \n",
      " 3   Agricultura, Pecuária, Pesca e Extrativismo  65977 non-null  int64 \n",
      " 4   Arte, Cultura e Religião                     65977 non-null  int64 \n",
      " 5   Cidades e Desenvolvimento Urbano             65977 non-null  int64 \n",
      " 6   Comunicações                                 65977 non-null  int64 \n",
      " 7   Defesa e Segurança                           65977 non-null  int64 \n",
      " 8   Direito Civil e Processual Civil             65977 non-null  int64 \n",
      " 9   Direito Penal e Processual Penal             65977 non-null  int64 \n",
      " 10  Direito e Defesa do Consumidor               65977 non-null  int64 \n",
      " 11  Direitos Humanos e Minorias                  65977 non-null  int64 \n",
      " 12  Economia                                     65977 non-null  int64 \n",
      " 13  Educação                                     65977 non-null  int64 \n",
      " 14  Energia, Recursos Hídricos e Minerais        65977 non-null  int64 \n",
      " 15  Esporte e Lazer                              65977 non-null  int64 \n",
      " 16  Estrutura Fundiária                          65977 non-null  int64 \n",
      " 17  Finanças Públicas e Orçamento                65977 non-null  int64 \n",
      " 18  Homenagens e Datas Comemorativas             65977 non-null  int64 \n",
      " 19  Indústria, Comércio e Serviços               65977 non-null  int64 \n",
      " 20  Meio Ambiente e Desenvolvimento Sustentável  65977 non-null  int64 \n",
      " 21  Política, Partidos e Eleições                65977 non-null  int64 \n",
      " 22  Previdência e Assistência Social             65977 non-null  int64 \n",
      " 23  Saúde                                        65977 non-null  int64 \n",
      " 24  Trabalho e Emprego                           65977 non-null  int64 \n",
      " 25  Viação, Transporte e Mobilidade              65977 non-null  int64 \n",
      " 26  Outro                                        65977 non-null  int64 \n",
      "dtypes: int64(26), object(1)\n",
      "memory usage: 13.6+ MB\n"
     ]
    }
   ],
   "source": [
    "df_pls_theme.info()"
   ]
  },
  {
   "attachments": {},
   "cell_type": "markdown",
   "metadata": {},
   "source": [
    "## Data exploration"
   ]
  },
  {
   "cell_type": "code",
   "execution_count": 36,
   "metadata": {},
   "outputs": [],
   "source": [
    "BINARY_CLASS = \"Comunicações\"\n",
    "IN_BINARY_CLASS = \"in_\" + BINARY_CLASS.lower().replace(\" \", \"_\")\n",
    "\n",
    "df_pls_theme = df_pls_theme.drop_duplicates(subset=[\"ementa\"])\n",
    "df_pls_theme = df_pls_theme[[\"id\", \"ementa\", BINARY_CLASS]]\n",
    "df_pls_theme = df_pls_theme.rename(\n",
    "    columns={BINARY_CLASS: IN_BINARY_CLASS}\n",
    ")"
   ]
  },
  {
   "cell_type": "code",
   "execution_count": 37,
   "metadata": {},
   "outputs": [
    {
     "data": {
      "text/html": [
       "<div>\n",
       "<style scoped>\n",
       "    .dataframe tbody tr th:only-of-type {\n",
       "        vertical-align: middle;\n",
       "    }\n",
       "\n",
       "    .dataframe tbody tr th {\n",
       "        vertical-align: top;\n",
       "    }\n",
       "\n",
       "    .dataframe thead th {\n",
       "        text-align: right;\n",
       "    }\n",
       "</style>\n",
       "<table border=\"1\" class=\"dataframe\">\n",
       "  <thead>\n",
       "    <tr style=\"text-align: right;\">\n",
       "      <th>tema</th>\n",
       "      <th>id</th>\n",
       "      <th>ementa</th>\n",
       "      <th>in_comunicações</th>\n",
       "    </tr>\n",
       "  </thead>\n",
       "  <tbody>\n",
       "    <tr>\n",
       "      <th>6</th>\n",
       "      <td>14925</td>\n",
       "      <td>Estabelece penalidades pelo uso de telefone ce...</td>\n",
       "      <td>1</td>\n",
       "    </tr>\n",
       "    <tr>\n",
       "      <th>12</th>\n",
       "      <td>14933</td>\n",
       "      <td>Dispõe sobre a transmissão da TV Câmara e da T...</td>\n",
       "      <td>1</td>\n",
       "    </tr>\n",
       "    <tr>\n",
       "      <th>33</th>\n",
       "      <td>14955</td>\n",
       "      <td>Dispõe sobre regulamentação de anúncios public...</td>\n",
       "      <td>1</td>\n",
       "    </tr>\n",
       "    <tr>\n",
       "      <th>37</th>\n",
       "      <td>14959</td>\n",
       "      <td>Proíbe a utilização de recursos públicos, no â...</td>\n",
       "      <td>1</td>\n",
       "    </tr>\n",
       "    <tr>\n",
       "      <th>190</th>\n",
       "      <td>15143</td>\n",
       "      <td>Regulamenta o inciso III do art. 221 da Consti...</td>\n",
       "      <td>1</td>\n",
       "    </tr>\n",
       "    <tr>\n",
       "      <th>...</th>\n",
       "      <td>...</td>\n",
       "      <td>...</td>\n",
       "      <td>...</td>\n",
       "    </tr>\n",
       "    <tr>\n",
       "      <th>65866</th>\n",
       "      <td>2359938</td>\n",
       "      <td>Altera a Lei nº 4.117, de 27 de agosto de 1962...</td>\n",
       "      <td>1</td>\n",
       "    </tr>\n",
       "    <tr>\n",
       "      <th>65870</th>\n",
       "      <td>2360003</td>\n",
       "      <td>Altera as Leis nºs 9.998, de 17 de agosto de 2...</td>\n",
       "      <td>1</td>\n",
       "    </tr>\n",
       "    <tr>\n",
       "      <th>65874</th>\n",
       "      <td>2360115</td>\n",
       "      <td>Proíbe a publicação, distribuição ou transmiss...</td>\n",
       "      <td>1</td>\n",
       "    </tr>\n",
       "    <tr>\n",
       "      <th>65959</th>\n",
       "      <td>2364284</td>\n",
       "      <td>Dispõe sobre a universalização da internet na ...</td>\n",
       "      <td>1</td>\n",
       "    </tr>\n",
       "    <tr>\n",
       "      <th>65974</th>\n",
       "      <td>2365150</td>\n",
       "      <td>Dispõe sobre a obrigatoriedade de plataformas ...</td>\n",
       "      <td>1</td>\n",
       "    </tr>\n",
       "  </tbody>\n",
       "</table>\n",
       "<p>2254 rows × 3 columns</p>\n",
       "</div>"
      ],
      "text/plain": [
       "tema        id                                             ementa   \n",
       "6        14925  Estabelece penalidades pelo uso de telefone ce...  \\\n",
       "12       14933  Dispõe sobre a transmissão da TV Câmara e da T...   \n",
       "33       14955  Dispõe sobre regulamentação de anúncios public...   \n",
       "37       14959  Proíbe a utilização de recursos públicos, no â...   \n",
       "190      15143  Regulamenta o inciso III do art. 221 da Consti...   \n",
       "...        ...                                                ...   \n",
       "65866  2359938  Altera a Lei nº 4.117, de 27 de agosto de 1962...   \n",
       "65870  2360003  Altera as Leis nºs 9.998, de 17 de agosto de 2...   \n",
       "65874  2360115  Proíbe a publicação, distribuição ou transmiss...   \n",
       "65959  2364284  Dispõe sobre a universalização da internet na ...   \n",
       "65974  2365150  Dispõe sobre a obrigatoriedade de plataformas ...   \n",
       "\n",
       "tema   in_comunicações  \n",
       "6                    1  \n",
       "12                   1  \n",
       "33                   1  \n",
       "37                   1  \n",
       "190                  1  \n",
       "...                ...  \n",
       "65866                1  \n",
       "65870                1  \n",
       "65874                1  \n",
       "65959                1  \n",
       "65974                1  \n",
       "\n",
       "[2254 rows x 3 columns]"
      ]
     },
     "execution_count": 37,
     "metadata": {},
     "output_type": "execute_result"
    }
   ],
   "source": [
    "df_pls_theme.query(f\"{IN_BINARY_CLASS} == 1\")"
   ]
  },
  {
   "attachments": {},
   "cell_type": "markdown",
   "metadata": {},
   "source": [
    "Sampling some examples to seek patterns and keywords."
   ]
  },
  {
   "cell_type": "code",
   "execution_count": 38,
   "metadata": {},
   "outputs": [
    {
     "data": {
      "text/plain": [
       "['Altera a Lei Nº 12.965, de 23 de abril de 2014 (Marco Civil da Internet), e a Lei Nº 13.709, de 14 de agosto de 2018 (Lei Geral de Proteção de Dados), com a finalidade de estabelecer regras para a utilização de pseudônimos e perfis anônimos na Internet.',\n",
       " 'Altera o art. 1.788 da Lei n.º 10.406, de 10 de janeiro de 2002.',\n",
       " '\"Acrescenta o art. 10-A à\",\"(Marco Civil da Internet), a fim de dispor sobre a destinação das contas de aplicações de internet após a morte de seu titular.\"',\n",
       " 'Reduz as tarifas de frete para o envio, pela Empresa Brasileira de Correios e Telégrafos – CORREIOS, de objeto postal dos quais são remetentes as microempresas, as empresas de pequeno porte e microempresários individuais, nos termos do art. 34 da Lei nº 6.538, de 22 de junho de 1978, durante a vigência do estado de calamidade pública reconhecido pelo Decreto Legislativo nº 6, de 20 de março de 2020.',\n",
       " '\"Estabelece a obrigatoriedade de diploma de Jornalismo em curso superior, no serviço público e dá outras providências\".',\n",
       " 'Dispõe sobre o aumento de pena para crimes contra a honra, cometidos contra jornalistas profissionais. Altera os artigos 138, 139 e 140 do Decreto Lei 2848 de 07 de dezembro de 1940, Código Penal.',\n",
       " 'Estabelece normas de transparência, educação e ampla informação para o combate à desinformação no país.',\n",
       " 'Altera a Lei nº 12.965, de 23 de abril de 2014, para estabelecer procedimentos para a remoção ou redução do alcance de conteúdos e perfis por provedores de aplicações de internet.',\n",
       " 'Institui multa por confecção e divulgação de notícias falsas (fake news) sobre a pandemia de covid-19.',\n",
       " 'Estabelece normas de transparência, educação, formação do pensamento crítico e ampla informação para o combate à desinformação no país.']"
      ]
     },
     "execution_count": 38,
     "metadata": {},
     "output_type": "execute_result"
    }
   ],
   "source": [
    "df_pls_theme.query(f\"{IN_BINARY_CLASS} == 1\")['ementa'].tolist()[-360:-350]"
   ]
  },
  {
   "cell_type": "code",
   "execution_count": 39,
   "metadata": {},
   "outputs": [],
   "source": [
    "# jornais, revistas, rádio, televisão, mídias sociais, internet, blogs, sites, portais, aplicativos, emissoras, videocassetes, DVDs, CDs,\n",
    "# telecomunicação, TV, emissoras, redes, redes de computadores\n",
    "# telefone, telefonia, ligação, ligações, chamadas, chamada, chamadas telefônicas, chamada telefônica,\n",
    "# veiculação, veiculação gratuita, \n",
    "# propaganda, publicidade, comunicações, comunicações, aparelhos\n",
    "# rótulo, cartaz, outdoor, faixa, banner, panfleto, folheto, folder, volante, adesivo, adesivos,\n",
    "# vídeo, streaming, celulares, 1G, 2G, 3G, 4G, 5G, web, mobile, dados, banda larga, digital, redes sociais\n",
    "# pré-pago, pós-pago, telemarketing, sons, imagens, libras, \n",
    "\n",
    "# educação, escola, escolas, ensino, ensino fundamental, ensino médio, ensino superior, universidade, universidades, faculdade, faculdades,\n",
    "# crianças, adolescentes, educação, educativo\n",
    "\n",
    "# fake news, Marco Civil da Internet, Lei Geral de Proteção de Dados, LGPD, Lei de Acesso à Informação, LAI, Lei de Imprensa, Lei de Telecomunicações"
   ]
  },
  {
   "attachments": {},
   "cell_type": "markdown",
   "metadata": {},
   "source": [
    "Detecting the most frequently cited laws."
   ]
  },
  {
   "cell_type": "code",
   "execution_count": 40,
   "metadata": {},
   "outputs": [
    {
     "data": {
      "text/plain": [
       "[('lei nº 9.472', 290),\n",
       " ('lei nº 12.965', 99),\n",
       " ('lei nº 4.117', 76),\n",
       " ('lei nº 9.998', 52),\n",
       " ('lei nº 12.485', 50),\n",
       " ('lei nº 9.612', 46),\n",
       " ('lei nº 8.078', 36),\n",
       " ('lei nº 9.294', 32),\n",
       " ('lei nº 2.848', 23),\n",
       " ('lei nº 8.069', 21),\n",
       " ('lei nº 9.610', 20),\n",
       " ('lei nº 9.504', 17),\n",
       " ('lei nº 8.977', 14),\n",
       " ('lei nº 6.538', 13),\n",
       " ('lei nº 5.250', 12),\n",
       " ('lei nº 5.070', 11),\n",
       " ('lei nº 10.098', 11),\n",
       " ('lei nº 12.527', 10),\n",
       " ('lei nº 10.703', 9),\n",
       " ('lei nº 12.232', 9)]"
      ]
     },
     "execution_count": 40,
     "metadata": {},
     "output_type": "execute_result"
    }
   ],
   "source": [
    "law_pattern = re.compile(r\"lei nº \\d{1,3}\\.{0,1}\\d{3}\", re.IGNORECASE)\n",
    "\n",
    "laws_list = df_pls_theme.query(f\"{IN_BINARY_CLASS} == 1\").ementa.apply( lambda x: re.findall(law_pattern, x) ).tolist()\n",
    "laws_list = chain.from_iterable(laws_list)\n",
    "laws_list = [law.lower() for law in laws_list]\n",
    "\n",
    "# count laws\n",
    "laws_counter = Counter(laws_list)\n",
    "laws_counter.most_common(20)\n",
    "# 9.472, 12.965, 4.117, 9.998, 12.485, 9.612, 8.078, 9.294\n",
    "# 8.069\n",
    "# 9.610"
   ]
  },
  {
   "attachments": {},
   "cell_type": "markdown",
   "metadata": {},
   "source": [
    "## Data splitting"
   ]
  },
  {
   "attachments": {},
   "cell_type": "markdown",
   "metadata": {},
   "source": [
    "Using the pre-defined labels to get a sense of the distribution."
   ]
  },
  {
   "cell_type": "code",
   "execution_count": 41,
   "metadata": {},
   "outputs": [
    {
     "name": "stdout",
     "output_type": "stream",
     "text": [
      "61934\n",
      "2254\n",
      "3.6393580262860463\n"
     ]
    }
   ],
   "source": [
    "df_size = len(df_pls_theme)\n",
    "df_size_class = len(df_pls_theme.query(f\"{IN_BINARY_CLASS} == 1\"))\n",
    "\n",
    "print(df_size)\n",
    "print(df_size_class)\n",
    "print(100*df_size_class / df_size)"
   ]
  },
  {
   "attachments": {},
   "cell_type": "markdown",
   "metadata": {},
   "source": [
    "Sampling 5% of the data to create the test and validation sets."
   ]
  },
  {
   "cell_type": "code",
   "execution_count": 42,
   "metadata": {},
   "outputs": [],
   "source": [
    "n_samples = 2*int(np.ceil(df_size*0.5/100))\n",
    "\n",
    "df_pls_theme_shuffle = df_pls_theme.sample(frac=1.0, random_state=RANDOM_STATE)"
   ]
  },
  {
   "cell_type": "code",
   "execution_count": 44,
   "metadata": {},
   "outputs": [
    {
     "data": {
      "text/plain": [
       "(620, 61314)"
      ]
     },
     "execution_count": 44,
     "metadata": {},
     "output_type": "execute_result"
    }
   ],
   "source": [
    "df_pls_theme_test_val = df_pls_theme_shuffle[:n_samples]\n",
    "df_pls_theme_train = df_pls_theme_shuffle[n_samples:]\n",
    "\n",
    "\n",
    "len(df_pls_theme_test_val), len(df_pls_theme_train)"
   ]
  },
  {
   "attachments": {},
   "cell_type": "markdown",
   "metadata": {},
   "source": [
    "Saving the datasets."
   ]
  },
  {
   "cell_type": "code",
   "execution_count": 47,
   "metadata": {},
   "outputs": [
    {
     "ename": "UnicodeEncodeError",
     "evalue": "'latin-1' codec can't encode character '\\u201d' in position 107: ordinal not in range(256)",
     "output_type": "error",
     "traceback": [
      "\u001b[0;31m---------------------------------------------------------------------------\u001b[0m",
      "\u001b[0;31mUnicodeEncodeError\u001b[0m                        Traceback (most recent call last)",
      "Cell \u001b[0;32mIn[47], line 1\u001b[0m\n\u001b[0;32m----> 1\u001b[0m df_pls_theme_test_val\u001b[39m.\u001b[39;49mto_csv(\u001b[39m\"\u001b[39;49m\u001b[39m./data/weak_supervised_learning_test_val.csv\u001b[39;49m\u001b[39m\"\u001b[39;49m, encoding\u001b[39m=\u001b[39;49m\u001b[39m\"\u001b[39;49m\u001b[39mlatin-1\u001b[39;49m\u001b[39m\"\u001b[39;49m, index\u001b[39m=\u001b[39;49m\u001b[39mFalse\u001b[39;49;00m)\n\u001b[1;32m      2\u001b[0m df_pls_theme_train\u001b[39m.\u001b[39mto_csv(\u001b[39m\"\u001b[39m\u001b[39m./data/weak_supervised_learning_train.csv\u001b[39m\u001b[39m\"\u001b[39m, encoding\u001b[39m=\u001b[39m\u001b[39m\"\u001b[39m\u001b[39mlatin-1\u001b[39m\u001b[39m\"\u001b[39m, index\u001b[39m=\u001b[39m\u001b[39mFalse\u001b[39;00m)\n",
      "File \u001b[0;32m~/.local/lib/python3.10/site-packages/pandas/core/generic.py:3772\u001b[0m, in \u001b[0;36mNDFrame.to_csv\u001b[0;34m(self, path_or_buf, sep, na_rep, float_format, columns, header, index, index_label, mode, encoding, compression, quoting, quotechar, lineterminator, chunksize, date_format, doublequote, escapechar, decimal, errors, storage_options)\u001b[0m\n\u001b[1;32m   3761\u001b[0m df \u001b[39m=\u001b[39m \u001b[39mself\u001b[39m \u001b[39mif\u001b[39;00m \u001b[39misinstance\u001b[39m(\u001b[39mself\u001b[39m, ABCDataFrame) \u001b[39melse\u001b[39;00m \u001b[39mself\u001b[39m\u001b[39m.\u001b[39mto_frame()\n\u001b[1;32m   3763\u001b[0m formatter \u001b[39m=\u001b[39m DataFrameFormatter(\n\u001b[1;32m   3764\u001b[0m     frame\u001b[39m=\u001b[39mdf,\n\u001b[1;32m   3765\u001b[0m     header\u001b[39m=\u001b[39mheader,\n\u001b[0;32m   (...)\u001b[0m\n\u001b[1;32m   3769\u001b[0m     decimal\u001b[39m=\u001b[39mdecimal,\n\u001b[1;32m   3770\u001b[0m )\n\u001b[0;32m-> 3772\u001b[0m \u001b[39mreturn\u001b[39;00m DataFrameRenderer(formatter)\u001b[39m.\u001b[39;49mto_csv(\n\u001b[1;32m   3773\u001b[0m     path_or_buf,\n\u001b[1;32m   3774\u001b[0m     lineterminator\u001b[39m=\u001b[39;49mlineterminator,\n\u001b[1;32m   3775\u001b[0m     sep\u001b[39m=\u001b[39;49msep,\n\u001b[1;32m   3776\u001b[0m     encoding\u001b[39m=\u001b[39;49mencoding,\n\u001b[1;32m   3777\u001b[0m     errors\u001b[39m=\u001b[39;49merrors,\n\u001b[1;32m   3778\u001b[0m     compression\u001b[39m=\u001b[39;49mcompression,\n\u001b[1;32m   3779\u001b[0m     quoting\u001b[39m=\u001b[39;49mquoting,\n\u001b[1;32m   3780\u001b[0m     columns\u001b[39m=\u001b[39;49mcolumns,\n\u001b[1;32m   3781\u001b[0m     index_label\u001b[39m=\u001b[39;49mindex_label,\n\u001b[1;32m   3782\u001b[0m     mode\u001b[39m=\u001b[39;49mmode,\n\u001b[1;32m   3783\u001b[0m     chunksize\u001b[39m=\u001b[39;49mchunksize,\n\u001b[1;32m   3784\u001b[0m     quotechar\u001b[39m=\u001b[39;49mquotechar,\n\u001b[1;32m   3785\u001b[0m     date_format\u001b[39m=\u001b[39;49mdate_format,\n\u001b[1;32m   3786\u001b[0m     doublequote\u001b[39m=\u001b[39;49mdoublequote,\n\u001b[1;32m   3787\u001b[0m     escapechar\u001b[39m=\u001b[39;49mescapechar,\n\u001b[1;32m   3788\u001b[0m     storage_options\u001b[39m=\u001b[39;49mstorage_options,\n\u001b[1;32m   3789\u001b[0m )\n",
      "File \u001b[0;32m~/.local/lib/python3.10/site-packages/pandas/io/formats/format.py:1186\u001b[0m, in \u001b[0;36mDataFrameRenderer.to_csv\u001b[0;34m(self, path_or_buf, encoding, sep, columns, index_label, mode, compression, quoting, quotechar, lineterminator, chunksize, date_format, doublequote, escapechar, errors, storage_options)\u001b[0m\n\u001b[1;32m   1165\u001b[0m     created_buffer \u001b[39m=\u001b[39m \u001b[39mFalse\u001b[39;00m\n\u001b[1;32m   1167\u001b[0m csv_formatter \u001b[39m=\u001b[39m CSVFormatter(\n\u001b[1;32m   1168\u001b[0m     path_or_buf\u001b[39m=\u001b[39mpath_or_buf,\n\u001b[1;32m   1169\u001b[0m     lineterminator\u001b[39m=\u001b[39mlineterminator,\n\u001b[0;32m   (...)\u001b[0m\n\u001b[1;32m   1184\u001b[0m     formatter\u001b[39m=\u001b[39m\u001b[39mself\u001b[39m\u001b[39m.\u001b[39mfmt,\n\u001b[1;32m   1185\u001b[0m )\n\u001b[0;32m-> 1186\u001b[0m csv_formatter\u001b[39m.\u001b[39;49msave()\n\u001b[1;32m   1188\u001b[0m \u001b[39mif\u001b[39;00m created_buffer:\n\u001b[1;32m   1189\u001b[0m     \u001b[39massert\u001b[39;00m \u001b[39misinstance\u001b[39m(path_or_buf, StringIO)\n",
      "File \u001b[0;32m~/.local/lib/python3.10/site-packages/pandas/io/formats/csvs.py:259\u001b[0m, in \u001b[0;36mCSVFormatter.save\u001b[0;34m(self)\u001b[0m\n\u001b[1;32m    240\u001b[0m \u001b[39mwith\u001b[39;00m get_handle(\n\u001b[1;32m    241\u001b[0m     \u001b[39mself\u001b[39m\u001b[39m.\u001b[39mfilepath_or_buffer,\n\u001b[1;32m    242\u001b[0m     \u001b[39mself\u001b[39m\u001b[39m.\u001b[39mmode,\n\u001b[0;32m   (...)\u001b[0m\n\u001b[1;32m    247\u001b[0m ) \u001b[39mas\u001b[39;00m handles:\n\u001b[1;32m    248\u001b[0m     \u001b[39m# Note: self.encoding is irrelevant here\u001b[39;00m\n\u001b[1;32m    249\u001b[0m     \u001b[39mself\u001b[39m\u001b[39m.\u001b[39mwriter \u001b[39m=\u001b[39m csvlib\u001b[39m.\u001b[39mwriter(\n\u001b[1;32m    250\u001b[0m         handles\u001b[39m.\u001b[39mhandle,\n\u001b[1;32m    251\u001b[0m         lineterminator\u001b[39m=\u001b[39m\u001b[39mself\u001b[39m\u001b[39m.\u001b[39mlineterminator,\n\u001b[0;32m   (...)\u001b[0m\n\u001b[1;32m    256\u001b[0m         quotechar\u001b[39m=\u001b[39m\u001b[39mself\u001b[39m\u001b[39m.\u001b[39mquotechar,\n\u001b[1;32m    257\u001b[0m     )\n\u001b[0;32m--> 259\u001b[0m     \u001b[39mself\u001b[39;49m\u001b[39m.\u001b[39;49m_save()\n",
      "File \u001b[0;32m~/.local/lib/python3.10/site-packages/pandas/io/formats/csvs.py:264\u001b[0m, in \u001b[0;36mCSVFormatter._save\u001b[0;34m(self)\u001b[0m\n\u001b[1;32m    262\u001b[0m \u001b[39mif\u001b[39;00m \u001b[39mself\u001b[39m\u001b[39m.\u001b[39m_need_to_save_header:\n\u001b[1;32m    263\u001b[0m     \u001b[39mself\u001b[39m\u001b[39m.\u001b[39m_save_header()\n\u001b[0;32m--> 264\u001b[0m \u001b[39mself\u001b[39;49m\u001b[39m.\u001b[39;49m_save_body()\n",
      "File \u001b[0;32m~/.local/lib/python3.10/site-packages/pandas/io/formats/csvs.py:302\u001b[0m, in \u001b[0;36mCSVFormatter._save_body\u001b[0;34m(self)\u001b[0m\n\u001b[1;32m    300\u001b[0m \u001b[39mif\u001b[39;00m start_i \u001b[39m>\u001b[39m\u001b[39m=\u001b[39m end_i:\n\u001b[1;32m    301\u001b[0m     \u001b[39mbreak\u001b[39;00m\n\u001b[0;32m--> 302\u001b[0m \u001b[39mself\u001b[39;49m\u001b[39m.\u001b[39;49m_save_chunk(start_i, end_i)\n",
      "File \u001b[0;32m~/.local/lib/python3.10/site-packages/pandas/io/formats/csvs.py:313\u001b[0m, in \u001b[0;36mCSVFormatter._save_chunk\u001b[0;34m(self, start_i, end_i)\u001b[0m\n\u001b[1;32m    310\u001b[0m data \u001b[39m=\u001b[39m [res\u001b[39m.\u001b[39miget_values(i) \u001b[39mfor\u001b[39;00m i \u001b[39min\u001b[39;00m \u001b[39mrange\u001b[39m(\u001b[39mlen\u001b[39m(res\u001b[39m.\u001b[39mitems))]\n\u001b[1;32m    312\u001b[0m ix \u001b[39m=\u001b[39m \u001b[39mself\u001b[39m\u001b[39m.\u001b[39mdata_index[slicer]\u001b[39m.\u001b[39m_format_native_types(\u001b[39m*\u001b[39m\u001b[39m*\u001b[39m\u001b[39mself\u001b[39m\u001b[39m.\u001b[39m_number_format)\n\u001b[0;32m--> 313\u001b[0m libwriters\u001b[39m.\u001b[39;49mwrite_csv_rows(\n\u001b[1;32m    314\u001b[0m     data,\n\u001b[1;32m    315\u001b[0m     ix,\n\u001b[1;32m    316\u001b[0m     \u001b[39mself\u001b[39;49m\u001b[39m.\u001b[39;49mnlevels,\n\u001b[1;32m    317\u001b[0m     \u001b[39mself\u001b[39;49m\u001b[39m.\u001b[39;49mcols,\n\u001b[1;32m    318\u001b[0m     \u001b[39mself\u001b[39;49m\u001b[39m.\u001b[39;49mwriter,\n\u001b[1;32m    319\u001b[0m )\n",
      "File \u001b[0;32m~/.local/lib/python3.10/site-packages/pandas/_libs/writers.pyx:72\u001b[0m, in \u001b[0;36mpandas._libs.writers.write_csv_rows\u001b[0;34m()\u001b[0m\n",
      "\u001b[0;31mUnicodeEncodeError\u001b[0m: 'latin-1' codec can't encode character '\\u201d' in position 107: ordinal not in range(256)"
     ]
    }
   ],
   "source": [
    "df_pls_theme_test_val.to_csv(\"./data/weak_supervised_learning_test_val.csv\", index=False)\n",
    "df_pls_theme_train.to_csv(\"./data/weak_supervised_learning_train.csv\", index=False)"
   ]
  }
 ],
 "metadata": {
  "kernelspec": {
   "display_name": "Python 3",
   "language": "python",
   "name": "python3"
  },
  "language_info": {
   "codemirror_mode": {
    "name": "ipython",
    "version": 3
   },
   "file_extension": ".py",
   "mimetype": "text/x-python",
   "name": "python",
   "nbconvert_exporter": "python",
   "pygments_lexer": "ipython3",
   "version": "3.10.6"
  },
  "orig_nbformat": 4
 },
 "nbformat": 4,
 "nbformat_minor": 2
}
